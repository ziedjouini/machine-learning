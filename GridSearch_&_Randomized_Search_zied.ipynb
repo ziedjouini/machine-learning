{
  "nbformat": 4,
  "nbformat_minor": 0,
  "metadata": {
    "colab": {
      "provenance": [],
      "authorship_tag": "ABX9TyPGEeHEm54BaBHowjlQ+n6P",
      "include_colab_link": true
    },
    "kernelspec": {
      "name": "python3",
      "display_name": "Python 3"
    },
    "language_info": {
      "name": "python"
    }
  },
  "cells": [
    {
      "cell_type": "markdown",
      "metadata": {
        "id": "view-in-github",
        "colab_type": "text"
      },
      "source": [
        "<a href=\"https://colab.research.google.com/github/ziedjouini/machine-learning/blob/main/GridSearch_%26_Randomized_Search_zied.ipynb\" target=\"_parent\"><img src=\"https://colab.research.google.com/assets/colab-badge.svg\" alt=\"Open In Colab\"/></a>"
      ]
    },
    {
      "cell_type": "markdown",
      "source": [
        "Nous allons nous replonger dans le Titanic. Le dataset se situe ici. A partir de ce dataset :\n",
        "\n",
        "    1)Tu vas effectuer une classification supervisée sur la colonne \"survived\", en utilisant le classifieur decision tree. Tu dois faire apparaitre clairement l'accuracy score du jeu de test.\n",
        "    2)Avec ce même classifieur, tu vas lancer une GridSearch avec les valeurs :\n",
        "        tous les entiers de 1 à 50 du paramètre max_depth\n",
        "        tous les entiers entre 1 et 15 du paramètre min_samples_leaf\n",
        "        (2, 5, 7, 10, 15, 30) du paramètre min_samples_split\n",
        "\n",
        "   3)Avec cette recherche via GridSearch, quelles sont le meilleures valeurs des hyperparamètres si on cherche à maximiser l'accuracy score ?\n",
        "    4)Avec ce même classifieur, tu vas lancer un RandomSearch sur les mêmes valeurs des paramètres en limitant à 200 itérations.\n",
        "    5)Avec cette recherche via RandomSearch, quelles sont le meilleures valeurs des hyperparamètres si on cherche à maximiser l'accuracy score ?"
      ],
      "metadata": {
        "id": "ONXjy2SJLjVt"
      }
    },
    {
      "cell_type": "markdown",
      "source": [
        "\n",
        "\n",
        "    Le notebook Colab est partagé\n",
        "\n",
        "    La classification est effectuée avec un decision tree\n",
        "\n",
        "    La recherche de paramètre via GridSearch est effectuée\n",
        "\n",
        "    Les meilleurs paramètres sont clairement mis en avant\n",
        "\n",
        "    La recherche de paramètre via RandomSearch est effectuée\n",
        "\n",
        "    Les meilleurs paramètres sont clairement mis en avant\n"
      ],
      "metadata": {
        "id": "YaEZMqRUMa0T"
      }
    },
    {
      "cell_type": "markdown",
      "source": [
        "https://www.youtube.com/watch?v=cJhu1D0y2cs\n",
        "\n",
        "https://www.youtube.com/watch?v=R89ZL-YePNE&list=PLBSCvBlTOLa8Xp1tjW0C3So94zhDbTTvh&index=3"
      ],
      "metadata": {
        "id": "BYPqMeybbeAN"
      }
    },
    {
      "cell_type": "code",
      "execution_count": 2,
      "metadata": {
        "id": "aEJUkKQhLFdP"
      },
      "outputs": [],
      "source": [
        "# Load in the necessary libraries and the dataset\n",
        "import pandas as pd\n",
        "import numpy as np\n",
        "import seaborn as sns\n",
        "from sklearn.model_selection import train_test_split\n",
        "from sklearn import tree\n",
        "from sklearn.metrics import accuracy_score, r2_score\n",
        "from sklearn.model_selection import cross_val_score\n",
        "from sklearn.neighbors import KNeighborsRegressor\n",
        "from sklearn.tree import DecisionTreeClassifier,DecisionTreeRegressor\n",
        "import matplotlib.pyplot as plt"
      ]
    },
    {
      "cell_type": "code",
      "source": [
        "titanic=pd.read_csv('https://web.stanford.edu/class/archive/cs/cs109/cs109.1166/stuff/titanic.csv')\n",
        "#titanic=pd.read_csv('/content/titanic.csv')\n",
        "#titanic = sns.load_dataset('titanic')\n",
        "titanic.head(5)"
      ],
      "metadata": {
        "colab": {
          "base_uri": "https://localhost:8080/",
          "height": 206
        },
        "id": "cvBCIa6IM1x-",
        "outputId": "9d7cde0f-1849-4ca9-da41-0e91abfccfa4"
      },
      "execution_count": 5,
      "outputs": [
        {
          "output_type": "execute_result",
          "data": {
            "text/plain": [
              "   Survived  Pclass                                               Name  \\\n",
              "0         0       3                             Mr. Owen Harris Braund   \n",
              "1         1       1  Mrs. John Bradley (Florence Briggs Thayer) Cum...   \n",
              "2         1       3                              Miss. Laina Heikkinen   \n",
              "3         1       1        Mrs. Jacques Heath (Lily May Peel) Futrelle   \n",
              "4         0       3                            Mr. William Henry Allen   \n",
              "\n",
              "      Sex   Age  Siblings/Spouses Aboard  Parents/Children Aboard     Fare  \n",
              "0    male  22.0                        1                        0   7.2500  \n",
              "1  female  38.0                        1                        0  71.2833  \n",
              "2  female  26.0                        0                        0   7.9250  \n",
              "3  female  35.0                        1                        0  53.1000  \n",
              "4    male  35.0                        0                        0   8.0500  "
            ],
            "text/html": [
              "\n",
              "  <div id=\"df-cf7fb6d6-30c1-4b80-a5ec-0c72e288c55b\">\n",
              "    <div class=\"colab-df-container\">\n",
              "      <div>\n",
              "<style scoped>\n",
              "    .dataframe tbody tr th:only-of-type {\n",
              "        vertical-align: middle;\n",
              "    }\n",
              "\n",
              "    .dataframe tbody tr th {\n",
              "        vertical-align: top;\n",
              "    }\n",
              "\n",
              "    .dataframe thead th {\n",
              "        text-align: right;\n",
              "    }\n",
              "</style>\n",
              "<table border=\"1\" class=\"dataframe\">\n",
              "  <thead>\n",
              "    <tr style=\"text-align: right;\">\n",
              "      <th></th>\n",
              "      <th>Survived</th>\n",
              "      <th>Pclass</th>\n",
              "      <th>Name</th>\n",
              "      <th>Sex</th>\n",
              "      <th>Age</th>\n",
              "      <th>Siblings/Spouses Aboard</th>\n",
              "      <th>Parents/Children Aboard</th>\n",
              "      <th>Fare</th>\n",
              "    </tr>\n",
              "  </thead>\n",
              "  <tbody>\n",
              "    <tr>\n",
              "      <th>0</th>\n",
              "      <td>0</td>\n",
              "      <td>3</td>\n",
              "      <td>Mr. Owen Harris Braund</td>\n",
              "      <td>male</td>\n",
              "      <td>22.0</td>\n",
              "      <td>1</td>\n",
              "      <td>0</td>\n",
              "      <td>7.2500</td>\n",
              "    </tr>\n",
              "    <tr>\n",
              "      <th>1</th>\n",
              "      <td>1</td>\n",
              "      <td>1</td>\n",
              "      <td>Mrs. John Bradley (Florence Briggs Thayer) Cum...</td>\n",
              "      <td>female</td>\n",
              "      <td>38.0</td>\n",
              "      <td>1</td>\n",
              "      <td>0</td>\n",
              "      <td>71.2833</td>\n",
              "    </tr>\n",
              "    <tr>\n",
              "      <th>2</th>\n",
              "      <td>1</td>\n",
              "      <td>3</td>\n",
              "      <td>Miss. Laina Heikkinen</td>\n",
              "      <td>female</td>\n",
              "      <td>26.0</td>\n",
              "      <td>0</td>\n",
              "      <td>0</td>\n",
              "      <td>7.9250</td>\n",
              "    </tr>\n",
              "    <tr>\n",
              "      <th>3</th>\n",
              "      <td>1</td>\n",
              "      <td>1</td>\n",
              "      <td>Mrs. Jacques Heath (Lily May Peel) Futrelle</td>\n",
              "      <td>female</td>\n",
              "      <td>35.0</td>\n",
              "      <td>1</td>\n",
              "      <td>0</td>\n",
              "      <td>53.1000</td>\n",
              "    </tr>\n",
              "    <tr>\n",
              "      <th>4</th>\n",
              "      <td>0</td>\n",
              "      <td>3</td>\n",
              "      <td>Mr. William Henry Allen</td>\n",
              "      <td>male</td>\n",
              "      <td>35.0</td>\n",
              "      <td>0</td>\n",
              "      <td>0</td>\n",
              "      <td>8.0500</td>\n",
              "    </tr>\n",
              "  </tbody>\n",
              "</table>\n",
              "</div>\n",
              "      <button class=\"colab-df-convert\" onclick=\"convertToInteractive('df-cf7fb6d6-30c1-4b80-a5ec-0c72e288c55b')\"\n",
              "              title=\"Convert this dataframe to an interactive table.\"\n",
              "              style=\"display:none;\">\n",
              "        \n",
              "  <svg xmlns=\"http://www.w3.org/2000/svg\" height=\"24px\"viewBox=\"0 0 24 24\"\n",
              "       width=\"24px\">\n",
              "    <path d=\"M0 0h24v24H0V0z\" fill=\"none\"/>\n",
              "    <path d=\"M18.56 5.44l.94 2.06.94-2.06 2.06-.94-2.06-.94-.94-2.06-.94 2.06-2.06.94zm-11 1L8.5 8.5l.94-2.06 2.06-.94-2.06-.94L8.5 2.5l-.94 2.06-2.06.94zm10 10l.94 2.06.94-2.06 2.06-.94-2.06-.94-.94-2.06-.94 2.06-2.06.94z\"/><path d=\"M17.41 7.96l-1.37-1.37c-.4-.4-.92-.59-1.43-.59-.52 0-1.04.2-1.43.59L10.3 9.45l-7.72 7.72c-.78.78-.78 2.05 0 2.83L4 21.41c.39.39.9.59 1.41.59.51 0 1.02-.2 1.41-.59l7.78-7.78 2.81-2.81c.8-.78.8-2.07 0-2.86zM5.41 20L4 18.59l7.72-7.72 1.47 1.35L5.41 20z\"/>\n",
              "  </svg>\n",
              "      </button>\n",
              "      \n",
              "  <style>\n",
              "    .colab-df-container {\n",
              "      display:flex;\n",
              "      flex-wrap:wrap;\n",
              "      gap: 12px;\n",
              "    }\n",
              "\n",
              "    .colab-df-convert {\n",
              "      background-color: #E8F0FE;\n",
              "      border: none;\n",
              "      border-radius: 50%;\n",
              "      cursor: pointer;\n",
              "      display: none;\n",
              "      fill: #1967D2;\n",
              "      height: 32px;\n",
              "      padding: 0 0 0 0;\n",
              "      width: 32px;\n",
              "    }\n",
              "\n",
              "    .colab-df-convert:hover {\n",
              "      background-color: #E2EBFA;\n",
              "      box-shadow: 0px 1px 2px rgba(60, 64, 67, 0.3), 0px 1px 3px 1px rgba(60, 64, 67, 0.15);\n",
              "      fill: #174EA6;\n",
              "    }\n",
              "\n",
              "    [theme=dark] .colab-df-convert {\n",
              "      background-color: #3B4455;\n",
              "      fill: #D2E3FC;\n",
              "    }\n",
              "\n",
              "    [theme=dark] .colab-df-convert:hover {\n",
              "      background-color: #434B5C;\n",
              "      box-shadow: 0px 1px 3px 1px rgba(0, 0, 0, 0.15);\n",
              "      filter: drop-shadow(0px 1px 2px rgba(0, 0, 0, 0.3));\n",
              "      fill: #FFFFFF;\n",
              "    }\n",
              "  </style>\n",
              "\n",
              "      <script>\n",
              "        const buttonEl =\n",
              "          document.querySelector('#df-cf7fb6d6-30c1-4b80-a5ec-0c72e288c55b button.colab-df-convert');\n",
              "        buttonEl.style.display =\n",
              "          google.colab.kernel.accessAllowed ? 'block' : 'none';\n",
              "\n",
              "        async function convertToInteractive(key) {\n",
              "          const element = document.querySelector('#df-cf7fb6d6-30c1-4b80-a5ec-0c72e288c55b');\n",
              "          const dataTable =\n",
              "            await google.colab.kernel.invokeFunction('convertToInteractive',\n",
              "                                                     [key], {});\n",
              "          if (!dataTable) return;\n",
              "\n",
              "          const docLinkHtml = 'Like what you see? Visit the ' +\n",
              "            '<a target=\"_blank\" href=https://colab.research.google.com/notebooks/data_table.ipynb>data table notebook</a>'\n",
              "            + ' to learn more about interactive tables.';\n",
              "          element.innerHTML = '';\n",
              "          dataTable['output_type'] = 'display_data';\n",
              "          await google.colab.output.renderOutput(dataTable, element);\n",
              "          const docLink = document.createElement('div');\n",
              "          docLink.innerHTML = docLinkHtml;\n",
              "          element.appendChild(docLink);\n",
              "        }\n",
              "      </script>\n",
              "    </div>\n",
              "  </div>\n",
              "  "
            ]
          },
          "metadata": {},
          "execution_count": 5
        }
      ]
    },
    {
      "cell_type": "code",
      "source": [
        "#pd.get_dummies(titanic, columns =['Sex'])\n",
        "#titanic2=pd.concat([titanic , titanic['Sex'].str.get_dummies()], axis = 1)\n",
        "#titanic2.head(5)\n",
        "#titanic1=pd.get_dummies(titanic, columns =['Sex'])\n",
        "#titanic1\n",
        "\n",
        "#titanic['Sex'].replace(['male','female'],[0,1],inplace=True)"
      ],
      "metadata": {
        "id": "OSHKxoN5NE_L"
      },
      "execution_count": null,
      "outputs": []
    },
    {
      "cell_type": "code",
      "source": [
        "titanic['Sex'].unique()"
      ],
      "metadata": {
        "colab": {
          "base_uri": "https://localhost:8080/"
        },
        "id": "rtzbbRe_HGG_",
        "outputId": "d5ef233d-eedb-4afd-d417-b8d3f0f68b5d"
      },
      "execution_count": 6,
      "outputs": [
        {
          "output_type": "execute_result",
          "data": {
            "text/plain": [
              "array(['male', 'female'], dtype=object)"
            ]
          },
          "metadata": {},
          "execution_count": 6
        }
      ]
    },
    {
      "cell_type": "code",
      "source": [
        "#https://scikit-learn.org/stable/modules/generated/sklearn.preprocessing.LabelEncoder.html\n",
        "#https://www.youtube.com/watch?time_continue=362&v=YvEx0IGKTko&feature=emb_logo\n",
        "#import label encoder\n",
        "#from sklearn.processing import LabelEncoder\n",
        "from sklearn import preprocessing\n",
        "label_encoder = preprocessing.LabelEncoder()\n",
        "label_encoder"
      ],
      "metadata": {
        "colab": {
          "base_uri": "https://localhost:8080/"
        },
        "id": "_-6XeoaDFunS",
        "outputId": "1b0851b8-9111-44bc-8672-3506dc1127db"
      },
      "execution_count": 7,
      "outputs": [
        {
          "output_type": "execute_result",
          "data": {
            "text/plain": [
              "LabelEncoder()"
            ]
          },
          "metadata": {},
          "execution_count": 7
        }
      ]
    },
    {
      "cell_type": "code",
      "source": [
        "titanic['Sex']=label_encoder.fit_transform(titanic['Sex'])"
      ],
      "metadata": {
        "id": "ebhZ6qjKIFH4"
      },
      "execution_count": 8,
      "outputs": []
    },
    {
      "cell_type": "code",
      "source": [
        "titanic['Sex'].unique()"
      ],
      "metadata": {
        "colab": {
          "base_uri": "https://localhost:8080/"
        },
        "id": "2paP3JxRI-73",
        "outputId": "958f433c-aac9-4871-bb01-da6d2408fc60"
      },
      "execution_count": 9,
      "outputs": [
        {
          "output_type": "execute_result",
          "data": {
            "text/plain": [
              "array([1, 0])"
            ]
          },
          "metadata": {},
          "execution_count": 9
        }
      ]
    },
    {
      "cell_type": "code",
      "source": [
        "titanic"
      ],
      "metadata": {
        "colab": {
          "base_uri": "https://localhost:8080/",
          "height": 424
        },
        "id": "1DjLrOAuIdqx",
        "outputId": "92cb4eae-5cce-4648-ab23-ef49c3b8f535"
      },
      "execution_count": 10,
      "outputs": [
        {
          "output_type": "execute_result",
          "data": {
            "text/plain": [
              "     Survived  Pclass                                               Name  Sex  \\\n",
              "0           0       3                             Mr. Owen Harris Braund    1   \n",
              "1           1       1  Mrs. John Bradley (Florence Briggs Thayer) Cum...    0   \n",
              "2           1       3                              Miss. Laina Heikkinen    0   \n",
              "3           1       1        Mrs. Jacques Heath (Lily May Peel) Futrelle    0   \n",
              "4           0       3                            Mr. William Henry Allen    1   \n",
              "..        ...     ...                                                ...  ...   \n",
              "882         0       2                               Rev. Juozas Montvila    1   \n",
              "883         1       1                        Miss. Margaret Edith Graham    0   \n",
              "884         0       3                     Miss. Catherine Helen Johnston    0   \n",
              "885         1       1                               Mr. Karl Howell Behr    1   \n",
              "886         0       3                                 Mr. Patrick Dooley    1   \n",
              "\n",
              "      Age  Siblings/Spouses Aboard  Parents/Children Aboard     Fare  \n",
              "0    22.0                        1                        0   7.2500  \n",
              "1    38.0                        1                        0  71.2833  \n",
              "2    26.0                        0                        0   7.9250  \n",
              "3    35.0                        1                        0  53.1000  \n",
              "4    35.0                        0                        0   8.0500  \n",
              "..    ...                      ...                      ...      ...  \n",
              "882  27.0                        0                        0  13.0000  \n",
              "883  19.0                        0                        0  30.0000  \n",
              "884   7.0                        1                        2  23.4500  \n",
              "885  26.0                        0                        0  30.0000  \n",
              "886  32.0                        0                        0   7.7500  \n",
              "\n",
              "[887 rows x 8 columns]"
            ],
            "text/html": [
              "\n",
              "  <div id=\"df-7ab7a5dd-7960-4fbb-9de1-5e82c30e8967\">\n",
              "    <div class=\"colab-df-container\">\n",
              "      <div>\n",
              "<style scoped>\n",
              "    .dataframe tbody tr th:only-of-type {\n",
              "        vertical-align: middle;\n",
              "    }\n",
              "\n",
              "    .dataframe tbody tr th {\n",
              "        vertical-align: top;\n",
              "    }\n",
              "\n",
              "    .dataframe thead th {\n",
              "        text-align: right;\n",
              "    }\n",
              "</style>\n",
              "<table border=\"1\" class=\"dataframe\">\n",
              "  <thead>\n",
              "    <tr style=\"text-align: right;\">\n",
              "      <th></th>\n",
              "      <th>Survived</th>\n",
              "      <th>Pclass</th>\n",
              "      <th>Name</th>\n",
              "      <th>Sex</th>\n",
              "      <th>Age</th>\n",
              "      <th>Siblings/Spouses Aboard</th>\n",
              "      <th>Parents/Children Aboard</th>\n",
              "      <th>Fare</th>\n",
              "    </tr>\n",
              "  </thead>\n",
              "  <tbody>\n",
              "    <tr>\n",
              "      <th>0</th>\n",
              "      <td>0</td>\n",
              "      <td>3</td>\n",
              "      <td>Mr. Owen Harris Braund</td>\n",
              "      <td>1</td>\n",
              "      <td>22.0</td>\n",
              "      <td>1</td>\n",
              "      <td>0</td>\n",
              "      <td>7.2500</td>\n",
              "    </tr>\n",
              "    <tr>\n",
              "      <th>1</th>\n",
              "      <td>1</td>\n",
              "      <td>1</td>\n",
              "      <td>Mrs. John Bradley (Florence Briggs Thayer) Cum...</td>\n",
              "      <td>0</td>\n",
              "      <td>38.0</td>\n",
              "      <td>1</td>\n",
              "      <td>0</td>\n",
              "      <td>71.2833</td>\n",
              "    </tr>\n",
              "    <tr>\n",
              "      <th>2</th>\n",
              "      <td>1</td>\n",
              "      <td>3</td>\n",
              "      <td>Miss. Laina Heikkinen</td>\n",
              "      <td>0</td>\n",
              "      <td>26.0</td>\n",
              "      <td>0</td>\n",
              "      <td>0</td>\n",
              "      <td>7.9250</td>\n",
              "    </tr>\n",
              "    <tr>\n",
              "      <th>3</th>\n",
              "      <td>1</td>\n",
              "      <td>1</td>\n",
              "      <td>Mrs. Jacques Heath (Lily May Peel) Futrelle</td>\n",
              "      <td>0</td>\n",
              "      <td>35.0</td>\n",
              "      <td>1</td>\n",
              "      <td>0</td>\n",
              "      <td>53.1000</td>\n",
              "    </tr>\n",
              "    <tr>\n",
              "      <th>4</th>\n",
              "      <td>0</td>\n",
              "      <td>3</td>\n",
              "      <td>Mr. William Henry Allen</td>\n",
              "      <td>1</td>\n",
              "      <td>35.0</td>\n",
              "      <td>0</td>\n",
              "      <td>0</td>\n",
              "      <td>8.0500</td>\n",
              "    </tr>\n",
              "    <tr>\n",
              "      <th>...</th>\n",
              "      <td>...</td>\n",
              "      <td>...</td>\n",
              "      <td>...</td>\n",
              "      <td>...</td>\n",
              "      <td>...</td>\n",
              "      <td>...</td>\n",
              "      <td>...</td>\n",
              "      <td>...</td>\n",
              "    </tr>\n",
              "    <tr>\n",
              "      <th>882</th>\n",
              "      <td>0</td>\n",
              "      <td>2</td>\n",
              "      <td>Rev. Juozas Montvila</td>\n",
              "      <td>1</td>\n",
              "      <td>27.0</td>\n",
              "      <td>0</td>\n",
              "      <td>0</td>\n",
              "      <td>13.0000</td>\n",
              "    </tr>\n",
              "    <tr>\n",
              "      <th>883</th>\n",
              "      <td>1</td>\n",
              "      <td>1</td>\n",
              "      <td>Miss. Margaret Edith Graham</td>\n",
              "      <td>0</td>\n",
              "      <td>19.0</td>\n",
              "      <td>0</td>\n",
              "      <td>0</td>\n",
              "      <td>30.0000</td>\n",
              "    </tr>\n",
              "    <tr>\n",
              "      <th>884</th>\n",
              "      <td>0</td>\n",
              "      <td>3</td>\n",
              "      <td>Miss. Catherine Helen Johnston</td>\n",
              "      <td>0</td>\n",
              "      <td>7.0</td>\n",
              "      <td>1</td>\n",
              "      <td>2</td>\n",
              "      <td>23.4500</td>\n",
              "    </tr>\n",
              "    <tr>\n",
              "      <th>885</th>\n",
              "      <td>1</td>\n",
              "      <td>1</td>\n",
              "      <td>Mr. Karl Howell Behr</td>\n",
              "      <td>1</td>\n",
              "      <td>26.0</td>\n",
              "      <td>0</td>\n",
              "      <td>0</td>\n",
              "      <td>30.0000</td>\n",
              "    </tr>\n",
              "    <tr>\n",
              "      <th>886</th>\n",
              "      <td>0</td>\n",
              "      <td>3</td>\n",
              "      <td>Mr. Patrick Dooley</td>\n",
              "      <td>1</td>\n",
              "      <td>32.0</td>\n",
              "      <td>0</td>\n",
              "      <td>0</td>\n",
              "      <td>7.7500</td>\n",
              "    </tr>\n",
              "  </tbody>\n",
              "</table>\n",
              "<p>887 rows × 8 columns</p>\n",
              "</div>\n",
              "      <button class=\"colab-df-convert\" onclick=\"convertToInteractive('df-7ab7a5dd-7960-4fbb-9de1-5e82c30e8967')\"\n",
              "              title=\"Convert this dataframe to an interactive table.\"\n",
              "              style=\"display:none;\">\n",
              "        \n",
              "  <svg xmlns=\"http://www.w3.org/2000/svg\" height=\"24px\"viewBox=\"0 0 24 24\"\n",
              "       width=\"24px\">\n",
              "    <path d=\"M0 0h24v24H0V0z\" fill=\"none\"/>\n",
              "    <path d=\"M18.56 5.44l.94 2.06.94-2.06 2.06-.94-2.06-.94-.94-2.06-.94 2.06-2.06.94zm-11 1L8.5 8.5l.94-2.06 2.06-.94-2.06-.94L8.5 2.5l-.94 2.06-2.06.94zm10 10l.94 2.06.94-2.06 2.06-.94-2.06-.94-.94-2.06-.94 2.06-2.06.94z\"/><path d=\"M17.41 7.96l-1.37-1.37c-.4-.4-.92-.59-1.43-.59-.52 0-1.04.2-1.43.59L10.3 9.45l-7.72 7.72c-.78.78-.78 2.05 0 2.83L4 21.41c.39.39.9.59 1.41.59.51 0 1.02-.2 1.41-.59l7.78-7.78 2.81-2.81c.8-.78.8-2.07 0-2.86zM5.41 20L4 18.59l7.72-7.72 1.47 1.35L5.41 20z\"/>\n",
              "  </svg>\n",
              "      </button>\n",
              "      \n",
              "  <style>\n",
              "    .colab-df-container {\n",
              "      display:flex;\n",
              "      flex-wrap:wrap;\n",
              "      gap: 12px;\n",
              "    }\n",
              "\n",
              "    .colab-df-convert {\n",
              "      background-color: #E8F0FE;\n",
              "      border: none;\n",
              "      border-radius: 50%;\n",
              "      cursor: pointer;\n",
              "      display: none;\n",
              "      fill: #1967D2;\n",
              "      height: 32px;\n",
              "      padding: 0 0 0 0;\n",
              "      width: 32px;\n",
              "    }\n",
              "\n",
              "    .colab-df-convert:hover {\n",
              "      background-color: #E2EBFA;\n",
              "      box-shadow: 0px 1px 2px rgba(60, 64, 67, 0.3), 0px 1px 3px 1px rgba(60, 64, 67, 0.15);\n",
              "      fill: #174EA6;\n",
              "    }\n",
              "\n",
              "    [theme=dark] .colab-df-convert {\n",
              "      background-color: #3B4455;\n",
              "      fill: #D2E3FC;\n",
              "    }\n",
              "\n",
              "    [theme=dark] .colab-df-convert:hover {\n",
              "      background-color: #434B5C;\n",
              "      box-shadow: 0px 1px 3px 1px rgba(0, 0, 0, 0.15);\n",
              "      filter: drop-shadow(0px 1px 2px rgba(0, 0, 0, 0.3));\n",
              "      fill: #FFFFFF;\n",
              "    }\n",
              "  </style>\n",
              "\n",
              "      <script>\n",
              "        const buttonEl =\n",
              "          document.querySelector('#df-7ab7a5dd-7960-4fbb-9de1-5e82c30e8967 button.colab-df-convert');\n",
              "        buttonEl.style.display =\n",
              "          google.colab.kernel.accessAllowed ? 'block' : 'none';\n",
              "\n",
              "        async function convertToInteractive(key) {\n",
              "          const element = document.querySelector('#df-7ab7a5dd-7960-4fbb-9de1-5e82c30e8967');\n",
              "          const dataTable =\n",
              "            await google.colab.kernel.invokeFunction('convertToInteractive',\n",
              "                                                     [key], {});\n",
              "          if (!dataTable) return;\n",
              "\n",
              "          const docLinkHtml = 'Like what you see? Visit the ' +\n",
              "            '<a target=\"_blank\" href=https://colab.research.google.com/notebooks/data_table.ipynb>data table notebook</a>'\n",
              "            + ' to learn more about interactive tables.';\n",
              "          element.innerHTML = '';\n",
              "          dataTable['output_type'] = 'display_data';\n",
              "          await google.colab.output.renderOutput(dataTable, element);\n",
              "          const docLink = document.createElement('div');\n",
              "          docLink.innerHTML = docLinkHtml;\n",
              "          element.appendChild(docLink);\n",
              "        }\n",
              "      </script>\n",
              "    </div>\n",
              "  </div>\n",
              "  "
            ]
          },
          "metadata": {},
          "execution_count": 10
        }
      ]
    },
    {
      "cell_type": "code",
      "source": [
        "#titanic2.columns\n",
        "#titanic1.columns\n",
        "titanic.columns"
      ],
      "metadata": {
        "colab": {
          "base_uri": "https://localhost:8080/"
        },
        "id": "u1W_ljczOxPC",
        "outputId": "ed5351e4-5358-446e-fab4-b0664fb438a7"
      },
      "execution_count": 11,
      "outputs": [
        {
          "output_type": "execute_result",
          "data": {
            "text/plain": [
              "Index(['Survived', 'Pclass', 'Name', 'Sex', 'Age', 'Siblings/Spouses Aboard',\n",
              "       'Parents/Children Aboard', 'Fare'],\n",
              "      dtype='object')"
            ]
          },
          "metadata": {},
          "execution_count": 11
        }
      ]
    },
    {
      "cell_type": "code",
      "source": [
        "# Split into train and test splits using the \"survived\" column as target, without random state  and a test size of 20%\n",
        "#Tu vas effectuer une classification supervisée sur la colonne \"survived\", en effectuant un traintestsplit (sans fixer le random_state),\n",
        "# INSERT CODE HERE\n",
        "from sklearn.model_selection import train_test_split\n",
        "X = titanic.drop(['Survived','Name'],axis=1)\n",
        "y = titanic['Survived']\n",
        "\n",
        "X_train, X_test, y_train, y_test = train_test_split(X, y, train_size = 0.8,random_state=42)\n",
        "print(\"The length of the initial dataset is :\", len(X))\n",
        "print(\"The length of the train dataset is   :\", len(X_train))\n",
        "print(\"The length of the test dataset is    :\", len(X_test))"
      ],
      "metadata": {
        "colab": {
          "base_uri": "https://localhost:8080/"
        },
        "id": "9SGmccIKO6Oj",
        "outputId": "adbb255b-26bc-4b0d-99d3-0b0883dde359"
      },
      "execution_count": 12,
      "outputs": [
        {
          "output_type": "stream",
          "name": "stdout",
          "text": [
            "The length of the initial dataset is : 887\n",
            "The length of the train dataset is   : 709\n",
            "The length of the test dataset is    : 178\n"
          ]
        }
      ]
    },
    {
      "cell_type": "code",
      "source": [
        "X.head(5)"
      ],
      "metadata": {
        "colab": {
          "base_uri": "https://localhost:8080/",
          "height": 206
        },
        "id": "osuomLC2PPj7",
        "outputId": "47d64859-abee-4ece-e07a-a29af4815112"
      },
      "execution_count": 13,
      "outputs": [
        {
          "output_type": "execute_result",
          "data": {
            "text/plain": [
              "   Pclass  Sex   Age  Siblings/Spouses Aboard  Parents/Children Aboard  \\\n",
              "0       3    1  22.0                        1                        0   \n",
              "1       1    0  38.0                        1                        0   \n",
              "2       3    0  26.0                        0                        0   \n",
              "3       1    0  35.0                        1                        0   \n",
              "4       3    1  35.0                        0                        0   \n",
              "\n",
              "      Fare  \n",
              "0   7.2500  \n",
              "1  71.2833  \n",
              "2   7.9250  \n",
              "3  53.1000  \n",
              "4   8.0500  "
            ],
            "text/html": [
              "\n",
              "  <div id=\"df-24a7fd82-9c70-44cd-9906-760603ec6003\">\n",
              "    <div class=\"colab-df-container\">\n",
              "      <div>\n",
              "<style scoped>\n",
              "    .dataframe tbody tr th:only-of-type {\n",
              "        vertical-align: middle;\n",
              "    }\n",
              "\n",
              "    .dataframe tbody tr th {\n",
              "        vertical-align: top;\n",
              "    }\n",
              "\n",
              "    .dataframe thead th {\n",
              "        text-align: right;\n",
              "    }\n",
              "</style>\n",
              "<table border=\"1\" class=\"dataframe\">\n",
              "  <thead>\n",
              "    <tr style=\"text-align: right;\">\n",
              "      <th></th>\n",
              "      <th>Pclass</th>\n",
              "      <th>Sex</th>\n",
              "      <th>Age</th>\n",
              "      <th>Siblings/Spouses Aboard</th>\n",
              "      <th>Parents/Children Aboard</th>\n",
              "      <th>Fare</th>\n",
              "    </tr>\n",
              "  </thead>\n",
              "  <tbody>\n",
              "    <tr>\n",
              "      <th>0</th>\n",
              "      <td>3</td>\n",
              "      <td>1</td>\n",
              "      <td>22.0</td>\n",
              "      <td>1</td>\n",
              "      <td>0</td>\n",
              "      <td>7.2500</td>\n",
              "    </tr>\n",
              "    <tr>\n",
              "      <th>1</th>\n",
              "      <td>1</td>\n",
              "      <td>0</td>\n",
              "      <td>38.0</td>\n",
              "      <td>1</td>\n",
              "      <td>0</td>\n",
              "      <td>71.2833</td>\n",
              "    </tr>\n",
              "    <tr>\n",
              "      <th>2</th>\n",
              "      <td>3</td>\n",
              "      <td>0</td>\n",
              "      <td>26.0</td>\n",
              "      <td>0</td>\n",
              "      <td>0</td>\n",
              "      <td>7.9250</td>\n",
              "    </tr>\n",
              "    <tr>\n",
              "      <th>3</th>\n",
              "      <td>1</td>\n",
              "      <td>0</td>\n",
              "      <td>35.0</td>\n",
              "      <td>1</td>\n",
              "      <td>0</td>\n",
              "      <td>53.1000</td>\n",
              "    </tr>\n",
              "    <tr>\n",
              "      <th>4</th>\n",
              "      <td>3</td>\n",
              "      <td>1</td>\n",
              "      <td>35.0</td>\n",
              "      <td>0</td>\n",
              "      <td>0</td>\n",
              "      <td>8.0500</td>\n",
              "    </tr>\n",
              "  </tbody>\n",
              "</table>\n",
              "</div>\n",
              "      <button class=\"colab-df-convert\" onclick=\"convertToInteractive('df-24a7fd82-9c70-44cd-9906-760603ec6003')\"\n",
              "              title=\"Convert this dataframe to an interactive table.\"\n",
              "              style=\"display:none;\">\n",
              "        \n",
              "  <svg xmlns=\"http://www.w3.org/2000/svg\" height=\"24px\"viewBox=\"0 0 24 24\"\n",
              "       width=\"24px\">\n",
              "    <path d=\"M0 0h24v24H0V0z\" fill=\"none\"/>\n",
              "    <path d=\"M18.56 5.44l.94 2.06.94-2.06 2.06-.94-2.06-.94-.94-2.06-.94 2.06-2.06.94zm-11 1L8.5 8.5l.94-2.06 2.06-.94-2.06-.94L8.5 2.5l-.94 2.06-2.06.94zm10 10l.94 2.06.94-2.06 2.06-.94-2.06-.94-.94-2.06-.94 2.06-2.06.94z\"/><path d=\"M17.41 7.96l-1.37-1.37c-.4-.4-.92-.59-1.43-.59-.52 0-1.04.2-1.43.59L10.3 9.45l-7.72 7.72c-.78.78-.78 2.05 0 2.83L4 21.41c.39.39.9.59 1.41.59.51 0 1.02-.2 1.41-.59l7.78-7.78 2.81-2.81c.8-.78.8-2.07 0-2.86zM5.41 20L4 18.59l7.72-7.72 1.47 1.35L5.41 20z\"/>\n",
              "  </svg>\n",
              "      </button>\n",
              "      \n",
              "  <style>\n",
              "    .colab-df-container {\n",
              "      display:flex;\n",
              "      flex-wrap:wrap;\n",
              "      gap: 12px;\n",
              "    }\n",
              "\n",
              "    .colab-df-convert {\n",
              "      background-color: #E8F0FE;\n",
              "      border: none;\n",
              "      border-radius: 50%;\n",
              "      cursor: pointer;\n",
              "      display: none;\n",
              "      fill: #1967D2;\n",
              "      height: 32px;\n",
              "      padding: 0 0 0 0;\n",
              "      width: 32px;\n",
              "    }\n",
              "\n",
              "    .colab-df-convert:hover {\n",
              "      background-color: #E2EBFA;\n",
              "      box-shadow: 0px 1px 2px rgba(60, 64, 67, 0.3), 0px 1px 3px 1px rgba(60, 64, 67, 0.15);\n",
              "      fill: #174EA6;\n",
              "    }\n",
              "\n",
              "    [theme=dark] .colab-df-convert {\n",
              "      background-color: #3B4455;\n",
              "      fill: #D2E3FC;\n",
              "    }\n",
              "\n",
              "    [theme=dark] .colab-df-convert:hover {\n",
              "      background-color: #434B5C;\n",
              "      box-shadow: 0px 1px 3px 1px rgba(0, 0, 0, 0.15);\n",
              "      filter: drop-shadow(0px 1px 2px rgba(0, 0, 0, 0.3));\n",
              "      fill: #FFFFFF;\n",
              "    }\n",
              "  </style>\n",
              "\n",
              "      <script>\n",
              "        const buttonEl =\n",
              "          document.querySelector('#df-24a7fd82-9c70-44cd-9906-760603ec6003 button.colab-df-convert');\n",
              "        buttonEl.style.display =\n",
              "          google.colab.kernel.accessAllowed ? 'block' : 'none';\n",
              "\n",
              "        async function convertToInteractive(key) {\n",
              "          const element = document.querySelector('#df-24a7fd82-9c70-44cd-9906-760603ec6003');\n",
              "          const dataTable =\n",
              "            await google.colab.kernel.invokeFunction('convertToInteractive',\n",
              "                                                     [key], {});\n",
              "          if (!dataTable) return;\n",
              "\n",
              "          const docLinkHtml = 'Like what you see? Visit the ' +\n",
              "            '<a target=\"_blank\" href=https://colab.research.google.com/notebooks/data_table.ipynb>data table notebook</a>'\n",
              "            + ' to learn more about interactive tables.';\n",
              "          element.innerHTML = '';\n",
              "          dataTable['output_type'] = 'display_data';\n",
              "          await google.colab.output.renderOutput(dataTable, element);\n",
              "          const docLink = document.createElement('div');\n",
              "          docLink.innerHTML = docLinkHtml;\n",
              "          element.appendChild(docLink);\n",
              "        }\n",
              "      </script>\n",
              "    </div>\n",
              "  </div>\n",
              "  "
            ]
          },
          "metadata": {},
          "execution_count": 13
        }
      ]
    },
    {
      "cell_type": "code",
      "source": [
        "y.head(5)"
      ],
      "metadata": {
        "colab": {
          "base_uri": "https://localhost:8080/"
        },
        "id": "q-i7HrJ_PV0C",
        "outputId": "a0d0af45-7ec2-4d65-dd0d-8433db22b6f3"
      },
      "execution_count": 14,
      "outputs": [
        {
          "output_type": "execute_result",
          "data": {
            "text/plain": [
              "0    0\n",
              "1    1\n",
              "2    1\n",
              "3    1\n",
              "4    0\n",
              "Name: Survived, dtype: int64"
            ]
          },
          "metadata": {},
          "execution_count": 14
        }
      ]
    },
    {
      "cell_type": "code",
      "source": [
        "X.shape,y.shape"
      ],
      "metadata": {
        "colab": {
          "base_uri": "https://localhost:8080/"
        },
        "id": "L9CwFTpIPejs",
        "outputId": "abe31073-9f49-40dd-e1d6-fb48b92832a2"
      },
      "execution_count": 15,
      "outputs": [
        {
          "output_type": "execute_result",
          "data": {
            "text/plain": [
              "((887, 6), (887,))"
            ]
          },
          "metadata": {},
          "execution_count": 15
        }
      ]
    },
    {
      "cell_type": "code",
      "source": [
        "X_train.shape,X_test.shape,y_train.shape,y_test.shape"
      ],
      "metadata": {
        "colab": {
          "base_uri": "https://localhost:8080/"
        },
        "id": "botNjse4Pi1h",
        "outputId": "b78fff48-77ef-4ff0-d93c-c8830da1894c"
      },
      "execution_count": 16,
      "outputs": [
        {
          "output_type": "execute_result",
          "data": {
            "text/plain": [
              "((709, 6), (178, 6), (709,), (178,))"
            ]
          },
          "metadata": {},
          "execution_count": 16
        }
      ]
    },
    {
      "cell_type": "code",
      "source": [
        "from sklearn.tree import DecisionTreeClassifier\n",
        "modelDTC=DecisionTreeClassifier()\n",
        "modelDTC.fit(X_train,y_train)"
      ],
      "metadata": {
        "colab": {
          "base_uri": "https://localhost:8080/"
        },
        "id": "aHkyQsNgPl-n",
        "outputId": "8a636c89-647a-417f-f18e-3639c610fba9"
      },
      "execution_count": 17,
      "outputs": [
        {
          "output_type": "execute_result",
          "data": {
            "text/plain": [
              "DecisionTreeClassifier()"
            ]
          },
          "metadata": {},
          "execution_count": 17
        }
      ]
    },
    {
      "cell_type": "code",
      "source": [
        "# And now we compare both scores :\n",
        "print(\"\\nScore for the Train dataset :\", modelDTC.score(X_train, y_train))\n",
        "print(\"Score for the Test dataset :\", modelDTC.score(X_test, y_test))"
      ],
      "metadata": {
        "colab": {
          "base_uri": "https://localhost:8080/"
        },
        "id": "CkuI6yN7P-f-",
        "outputId": "ee5addf5-c40c-45e3-c6fa-5b6e6f9a2312"
      },
      "execution_count": 18,
      "outputs": [
        {
          "output_type": "stream",
          "name": "stdout",
          "text": [
            "\n",
            "Score for the Train dataset : 0.9858956276445698\n",
            "Score for the Test dataset : 0.7247191011235955\n"
          ]
        }
      ]
    },
    {
      "cell_type": "code",
      "source": [
        "from sklearn.metrics import classification_report\n",
        "\n",
        "\n",
        "print(classification_report(y_test, modelDTC.predict(X_test)))"
      ],
      "metadata": {
        "id": "r8LIHOrVFmc2",
        "outputId": "732ea884-ca58-4f08-9a6b-c5a9498e55c0",
        "colab": {
          "base_uri": "https://localhost:8080/"
        }
      },
      "execution_count": 19,
      "outputs": [
        {
          "output_type": "stream",
          "name": "stdout",
          "text": [
            "              precision    recall  f1-score   support\n",
            "\n",
            "           0       0.79      0.76      0.77       111\n",
            "           1       0.62      0.67      0.65        67\n",
            "\n",
            "    accuracy                           0.72       178\n",
            "   macro avg       0.71      0.71      0.71       178\n",
            "weighted avg       0.73      0.72      0.73       178\n",
            "\n"
          ]
        }
      ]
    },
    {
      "cell_type": "code",
      "source": [
        "from sklearn.metrics import confusion_matrix\n",
        "cm=confusion_matrix(y_test, y_pred = modelDTC.predict(X_test))  \n",
        "cm"
      ],
      "metadata": {
        "colab": {
          "base_uri": "https://localhost:8080/"
        },
        "id": "d2SJd4tmWRXv",
        "outputId": "ecae75d2-9a51-46a1-8f5d-b300d5cabe46"
      },
      "execution_count": null,
      "outputs": [
        {
          "output_type": "execute_result",
          "data": {
            "text/plain": [
              "array([[85, 26],\n",
              "       [19, 48]])"
            ]
          },
          "metadata": {},
          "execution_count": 25
        }
      ]
    },
    {
      "cell_type": "code",
      "source": [
        "sns.heatmap(cm)"
      ],
      "metadata": {
        "colab": {
          "base_uri": "https://localhost:8080/",
          "height": 283
        },
        "id": "QoZHYhwTckE0",
        "outputId": "ef84d7d0-a6db-49f6-c21e-a5816fc98ddd"
      },
      "execution_count": null,
      "outputs": [
        {
          "output_type": "execute_result",
          "data": {
            "text/plain": [
              "<matplotlib.axes._subplots.AxesSubplot at 0x7f2d02bac910>"
            ]
          },
          "metadata": {},
          "execution_count": 28
        },
        {
          "output_type": "display_data",
          "data": {
            "text/plain": [
              "<Figure size 432x288 with 2 Axes>"
            ],
            "image/png": "[encoded data removed]"
          },
          "metadata": {
            "needs_background": "light"
          }
        }
      ]
    },
    {
      "cell_type": "code",
      "source": [
        "import matplotlib.pyplot as plt\n",
        "import numpy\n",
        "from sklearn import metrics\n",
        "\n",
        "actual = y_test\n",
        "predicted = modelDTC.predict(X_test)\n",
        "\n",
        "confusion_matrix = metrics.confusion_matrix(actual, predicted)\n",
        "\n",
        "cm_display = metrics.ConfusionMatrixDisplay(confusion_matrix = confusion_matrix, display_labels = [False, True])\n",
        "\n",
        "cm_display.plot()\n",
        "plt.show()"
      ],
      "metadata": {
        "colab": {
          "base_uri": "https://localhost:8080/",
          "height": 279
        },
        "id": "Za3BowZ1eRc9",
        "outputId": "bce9c639-775b-4548-cfb4-b007eaa5ceeb"
      },
      "execution_count": 20,
      "outputs": [
        {
          "output_type": "display_data",
          "data": {
            "text/plain": [
              "<Figure size 432x288 with 2 Axes>"
            ],
            "image/png": "[encoded data removed]"
          },
          "metadata": {
            "needs_background": "light"
          }
        }
      ]
    },
    {
      "cell_type": "markdown",
      "source": [
        "https://machinelearningmastery.com/tune-number-size-decision-trees-xgboost-python/"
      ],
      "metadata": {
        "id": "ruY_cLw3ilfX"
      }
    },
    {
      "cell_type": "code",
      "source": [
        "# O==death , 1== Survived\n",
        "print(modelDTC.classes_)"
      ],
      "metadata": {
        "id": "fzDr0OhOIrxg",
        "colab": {
          "base_uri": "https://localhost:8080/"
        },
        "outputId": "51a0e87b-265a-48ab-8dc2-71caee32251a"
      },
      "execution_count": 21,
      "outputs": [
        {
          "output_type": "stream",
          "name": "stdout",
          "text": [
            "[0 1]\n"
          ]
        }
      ]
    },
    {
      "cell_type": "code",
      "source": [
        "X.columns"
      ],
      "metadata": {
        "colab": {
          "base_uri": "https://localhost:8080/"
        },
        "id": "1Rra0cuChgBu",
        "outputId": "b88c5c5e-1f1b-4445-bc08-b54d00d6ec44"
      },
      "execution_count": 22,
      "outputs": [
        {
          "output_type": "execute_result",
          "data": {
            "text/plain": [
              "Index(['Pclass', 'Sex', 'Age', 'Siblings/Spouses Aboard',\n",
              "       'Parents/Children Aboard', 'Fare'],\n",
              "      dtype='object')"
            ]
          },
          "metadata": {},
          "execution_count": 22
        }
      ]
    },
    {
      "cell_type": "code",
      "source": [
        "print(modelDTC.feature_importances_)"
      ],
      "metadata": {
        "colab": {
          "base_uri": "https://localhost:8080/"
        },
        "id": "9qCLrxlDgtIP",
        "outputId": "78547c42-6a93-455c-fcd9-d10653f953ea"
      },
      "execution_count": 23,
      "outputs": [
        {
          "output_type": "stream",
          "name": "stdout",
          "text": [
            "[0.11396069 0.33458335 0.23995266 0.05829933 0.02074845 0.23245551]\n"
          ]
        }
      ]
    },
    {
      "cell_type": "code",
      "source": [
        "#important#https://plainenglish.io/blog/hyperparameter-tuning-of-decision-tree-classifier-using-gridsearchcv-2a6ebcaffeda\n",
        "#https://www.projectpro.io/recipes/optimize-hyper-parameters-of-decisiontree-model-using-grid-search-in-python\n",
        "from sklearn.model_selection import GridSearchCV\n",
        "grid_param={'max_depth':np.arange(1,51),\n",
        "            'min_samples_leaf':np.arange(1,16),\n",
        "            'min_samples_split':(2, 5, 7, 10, 15, 30)\n",
        "            \n",
        "            }"
      ],
      "metadata": {
        "id": "cCwdGwvZgstv"
      },
      "execution_count": 27,
      "outputs": []
    },
    {
      "cell_type": "code",
      "source": [
        "grid=GridSearchCV(DecisionTreeClassifier(), grid_param , cv=6)"
      ],
      "metadata": {
        "id": "HJTfgSY5gxmv"
      },
      "execution_count": 28,
      "outputs": []
    },
    {
      "cell_type": "code",
      "source": [
        "grid.fit(X,y)"
      ],
      "metadata": {
        "colab": {
          "base_uri": "https://localhost:8080/"
        },
        "id": "YNT6f9L8krdG",
        "outputId": "0087ad20-49c9-4cb9-d05f-a89c2e7fe40b"
      },
      "execution_count": 29,
      "outputs": [
        {
          "output_type": "execute_result",
          "data": {
            "text/plain": [
              "GridSearchCV(cv=6, estimator=DecisionTreeClassifier(),\n",
              "             param_grid={'max_depth': array([ 1,  2,  3,  4,  5,  6,  7,  8,  9, 10, 11, 12, 13, 14, 15, 16, 17,\n",
              "       18, 19, 20, 21, 22, 23, 24, 25, 26, 27, 28, 29, 30, 31, 32, 33, 34,\n",
              "       35, 36, 37, 38, 39, 40, 41, 42, 43, 44, 45, 46, 47, 48, 49, 50]),\n",
              "                         'min_samples_leaf': array([ 1,  2,  3,  4,  5,  6,  7,  8,  9, 10, 11, 12, 13, 14, 15]),\n",
              "                         'min_samples_split': (2, 5, 7, 10, 15, 30)})"
            ]
          },
          "metadata": {},
          "execution_count": 29
        }
      ]
    },
    {
      "cell_type": "markdown",
      "source": [
        "grid.fit(X,y)\n",
        "\n",
        "GridSearchCV(cv=6, estimator=DecisionTreeClassifier(),\n",
        "             param_grid={'max_depth': array([ 1,  2,  3,  4,  5,  6,  7,  8,  9, 10, 11, 12, 13, 14, 15, 16, 17,\n",
        "       18, 19, 20, 21, 22, 23, 24, 25, 26, 27, 28, 29, 30, 31, 32, 33, 34,\n",
        "       35, 36, 37, 38, 39, 40, 41, 42, 43, 44, 45, 46, 47, 48, 49]),\n",
        "                         'min_samples_leaf': array([ 1,  2,  3,  4,  5,  6,  7,  8,  9, 10, 11, 12, 13, 14]),\n",
        "\n",
        "                         'min_samples_split': (2, 5, 7, 10, 15, 30)})\n",
        "\n",
        "# best score: 0.8354323711466569\n",
        "best parameters: {'max_depth': 12, 'min_samples_leaf': 6, 'min_samples_split': 2}"
      ],
      "metadata": {
        "id": "l2Ug8cAIxG8S"
      }
    },
    {
      "cell_type": "code",
      "source": [
        "grid.fit(X_train,y_train)"
      ],
      "metadata": {
        "colab": {
          "base_uri": "https://localhost:8080/"
        },
        "id": "dMm__mXSv91a",
        "outputId": "708f9059-151a-4284-c3b3-3cfcf2f3fff6"
      },
      "execution_count": 30,
      "outputs": [
        {
          "output_type": "execute_result",
          "data": {
            "text/plain": [
              "GridSearchCV(cv=6, estimator=DecisionTreeClassifier(),\n",
              "             param_grid={'max_depth': array([ 1,  2,  3,  4,  5,  6,  7,  8,  9, 10, 11, 12, 13, 14, 15, 16, 17,\n",
              "       18, 19, 20, 21, 22, 23, 24, 25, 26, 27, 28, 29, 30, 31, 32, 33, 34,\n",
              "       35, 36, 37, 38, 39, 40, 41, 42, 43, 44, 45, 46, 47, 48, 49, 50]),\n",
              "                         'min_samples_leaf': array([ 1,  2,  3,  4,  5,  6,  7,  8,  9, 10, 11, 12, 13, 14, 15]),\n",
              "                         'min_samples_split': (2, 5, 7, 10, 15, 30)})"
            ]
          },
          "metadata": {},
          "execution_count": 30
        }
      ]
    },
    {
      "cell_type": "code",
      "source": [
        "print(\"best score:\",grid.best_score_)\n",
        "print(\"best parameters:\",grid.best_params_)"
      ],
      "metadata": {
        "colab": {
          "base_uri": "https://localhost:8080/"
        },
        "id": "0yLVI0i0lUz4",
        "outputId": "35537bfd-3d30-47b9-a835-29d9e2f4eb2c"
      },
      "execution_count": 31,
      "outputs": [
        {
          "output_type": "stream",
          "name": "stdout",
          "text": [
            "best score: 0.8392204339362864\n",
            "best parameters: {'max_depth': 4, 'min_samples_leaf': 8, 'min_samples_split': 2}\n"
          ]
        }
      ]
    },
    {
      "cell_type": "code",
      "source": [
        "#Pour avoir plus de détail, nous pouvons utiliser cv_results_:\n",
        "grid.cv_results_"
      ],
      "metadata": {
        "id": "XC-bHkUolo6N",
        "colab": {
          "base_uri": "https://localhost:8080/"
        },
        "outputId": "aa5f872f-54e2-4d13-cf6a-d877b41dc9ce"
      },
      "execution_count": 32,
      "outputs": [
        {
          "output_type": "execute_result",
          "data": {
            "text/plain": [
              "{'mean_fit_time': array([0.00505376, 0.00577688, 0.00347078, ..., 0.00275453, 0.0027293 ,\n",
              "        0.00271893]),\n",
              " 'std_fit_time': array([1.78687365e-03, 1.79073008e-03, 3.48095691e-04, ...,\n",
              "        7.81138572e-05, 1.36753493e-04, 2.29831471e-04]),\n",
              " 'mean_score_time': array([0.00276915, 0.00261613, 0.00266925, ..., 0.00167763, 0.00146218,\n",
              "        0.0016975 ]),\n",
              " 'std_score_time': array([6.67653940e-04, 1.51919439e-04, 1.97127795e-04, ...,\n",
              "        1.78005763e-04, 1.06084361e-05, 3.22500397e-04]),\n",
              " 'param_max_depth': masked_array(data=[1, 1, 1, ..., 50, 50, 50],\n",
              "              mask=[False, False, False, ..., False, False, False],\n",
              "        fill_value='?',\n",
              "             dtype=object),\n",
              " 'param_min_samples_leaf': masked_array(data=[1, 1, 1, ..., 15, 15, 15],\n",
              "              mask=[False, False, False, ..., False, False, False],\n",
              "        fill_value='?',\n",
              "             dtype=object),\n",
              " 'param_min_samples_split': masked_array(data=[2, 5, 7, ..., 10, 15, 30],\n",
              "              mask=[False, False, False, ..., False, False, False],\n",
              "        fill_value='?',\n",
              "             dtype=object),\n",
              " 'params': [{'max_depth': 1, 'min_samples_leaf': 1, 'min_samples_split': 2},\n",
              "  {'max_depth': 1, 'min_samples_leaf': 1, 'min_samples_split': 5},\n",
              "  {'max_depth': 1, 'min_samples_leaf': 1, 'min_samples_split': 7},\n",
              "  {'max_depth': 1, 'min_samples_leaf': 1, 'min_samples_split': 10},\n",
              "  {'max_depth': 1, 'min_samples_leaf': 1, 'min_samples_split': 15},\n",
              "  {'max_depth': 1, 'min_samples_leaf': 1, 'min_samples_split': 30},\n",
              "  {'max_depth': 1, 'min_samples_leaf': 2, 'min_samples_split': 2},\n",
              "  {'max_depth': 1, 'min_samples_leaf': 2, 'min_samples_split': 5},\n",
              "  {'max_depth': 1, 'min_samples_leaf': 2, 'min_samples_split': 7},\n",
              "  {'max_depth': 1, 'min_samples_leaf': 2, 'min_samples_split': 10},\n",
              "  {'max_depth': 1, 'min_samples_leaf': 2, 'min_samples_split': 15},\n",
              "  {'max_depth': 1, 'min_samples_leaf': 2, 'min_samples_split': 30},\n",
              "  {'max_depth': 1, 'min_samples_leaf': 3, 'min_samples_split': 2},\n",
              "  {'max_depth': 1, 'min_samples_leaf': 3, 'min_samples_split': 5},\n",
              "  {'max_depth': 1, 'min_samples_leaf': 3, 'min_samples_split': 7},\n",
              "  {'max_depth': 1, 'min_samples_leaf': 3, 'min_samples_split': 10},\n",
              "  {'max_depth': 1, 'min_samples_leaf': 3, 'min_samples_split': 15},\n",
              "  {'max_depth': 1, 'min_samples_leaf': 3, 'min_samples_split': 30},\n",
              "  {'max_depth': 1, 'min_samples_leaf': 4, 'min_samples_split': 2},\n",
              "  {'max_depth': 1, 'min_samples_leaf': 4, 'min_samples_split': 5},\n",
              "  {'max_depth': 1, 'min_samples_leaf': 4, 'min_samples_split': 7},\n",
              "  {'max_depth': 1, 'min_samples_leaf': 4, 'min_samples_split': 10},\n",
              "  {'max_depth': 1, 'min_samples_leaf': 4, 'min_samples_split': 15},\n",
              "  {'max_depth': 1, 'min_samples_leaf': 4, 'min_samples_split': 30},\n",
              "  {'max_depth': 1, 'min_samples_leaf': 5, 'min_samples_split': 2},\n",
              "  {'max_depth': 1, 'min_samples_leaf': 5, 'min_samples_split': 5},\n",
              "  {'max_depth': 1, 'min_samples_leaf': 5, 'min_samples_split': 7},\n",
              "  {'max_depth': 1, 'min_samples_leaf': 5, 'min_samples_split': 10},\n",
              "  {'max_depth': 1, 'min_samples_leaf': 5, 'min_samples_split': 15},\n",
              "  {'max_depth': 1, 'min_samples_leaf': 5, 'min_samples_split': 30},\n",
              "  {'max_depth': 1, 'min_samples_leaf': 6, 'min_samples_split': 2},\n",
              "  {'max_depth': 1, 'min_samples_leaf': 6, 'min_samples_split': 5},\n",
              "  {'max_depth': 1, 'min_samples_leaf': 6, 'min_samples_split': 7},\n",
              "  {'max_depth': 1, 'min_samples_leaf': 6, 'min_samples_split': 10},\n",
              "  {'max_depth': 1, 'min_samples_leaf': 6, 'min_samples_split': 15},\n",
              "  {'max_depth': 1, 'min_samples_leaf': 6, 'min_samples_split': 30},\n",
              "  {'max_depth': 1, 'min_samples_leaf': 7, 'min_samples_split': 2},\n",
              "  {'max_depth': 1, 'min_samples_leaf': 7, 'min_samples_split': 5},\n",
              "  {'max_depth': 1, 'min_samples_leaf': 7, 'min_samples_split': 7},\n",
              "  {'max_depth': 1, 'min_samples_leaf': 7, 'min_samples_split': 10},\n",
              "  {'max_depth': 1, 'min_samples_leaf': 7, 'min_samples_split': 15},\n",
              "  {'max_depth': 1, 'min_samples_leaf': 7, 'min_samples_split': 30},\n",
              "  {'max_depth': 1, 'min_samples_leaf': 8, 'min_samples_split': 2},\n",
              "  {'max_depth': 1, 'min_samples_leaf': 8, 'min_samples_split': 5},\n",
              "  {'max_depth': 1, 'min_samples_leaf': 8, 'min_samples_split': 7},\n",
              "  {'max_depth': 1, 'min_samples_leaf': 8, 'min_samples_split': 10},\n",
              "  {'max_depth': 1, 'min_samples_leaf': 8, 'min_samples_split': 15},\n",
              "  {'max_depth': 1, 'min_samples_leaf': 8, 'min_samples_split': 30},\n",
              "  {'max_depth': 1, 'min_samples_leaf': 9, 'min_samples_split': 2},\n",
              "  {'max_depth': 1, 'min_samples_leaf': 9, 'min_samples_split': 5},\n",
              "  {'max_depth': 1, 'min_samples_leaf': 9, 'min_samples_split': 7},\n",
              "  {'max_depth': 1, 'min_samples_leaf': 9, 'min_samples_split': 10},\n",
              "  {'max_depth': 1, 'min_samples_leaf': 9, 'min_samples_split': 15},\n",
              "  {'max_depth': 1, 'min_samples_leaf': 9, 'min_samples_split': 30},\n",
              "  {'max_depth': 1, 'min_samples_leaf': 10, 'min_samples_split': 2},\n",
              "  {'max_depth': 1, 'min_samples_leaf': 10, 'min_samples_split': 5},\n",
              "  {'max_depth': 1, 'min_samples_leaf': 10, 'min_samples_split': 7},\n",
              "  {'max_depth': 1, 'min_samples_leaf': 10, 'min_samples_split': 10},\n",
              "  {'max_depth': 1, 'min_samples_leaf': 10, 'min_samples_split': 15},\n",
              "  {'max_depth': 1, 'min_samples_leaf': 10, 'min_samples_split': 30},\n",
              "  {'max_depth': 1, 'min_samples_leaf': 11, 'min_samples_split': 2},\n",
              "  {'max_depth': 1, 'min_samples_leaf': 11, 'min_samples_split': 5},\n",
              "  {'max_depth': 1, 'min_samples_leaf': 11, 'min_samples_split': 7},\n",
              "  {'max_depth': 1, 'min_samples_leaf': 11, 'min_samples_split': 10},\n",
              "  {'max_depth': 1, 'min_samples_leaf': 11, 'min_samples_split': 15},\n",
              "  {'max_depth': 1, 'min_samples_leaf': 11, 'min_samples_split': 30},\n",
              "  {'max_depth': 1, 'min_samples_leaf': 12, 'min_samples_split': 2},\n",
              "  {'max_depth': 1, 'min_samples_leaf': 12, 'min_samples_split': 5},\n",
              "  {'max_depth': 1, 'min_samples_leaf': 12, 'min_samples_split': 7},\n",
              "  {'max_depth': 1, 'min_samples_leaf': 12, 'min_samples_split': 10},\n",
              "  {'max_depth': 1, 'min_samples_leaf': 12, 'min_samples_split': 15},\n",
              "  {'max_depth': 1, 'min_samples_leaf': 12, 'min_samples_split': 30},\n",
              "  {'max_depth': 1, 'min_samples_leaf': 13, 'min_samples_split': 2},\n",
              "  {'max_depth': 1, 'min_samples_leaf': 13, 'min_samples_split': 5},\n",
              "  {'max_depth': 1, 'min_samples_leaf': 13, 'min_samples_split': 7},\n",
              "  {'max_depth': 1, 'min_samples_leaf': 13, 'min_samples_split': 10},\n",
              "  {'max_depth': 1, 'min_samples_leaf': 13, 'min_samples_split': 15},\n",
              "  {'max_depth': 1, 'min_samples_leaf': 13, 'min_samples_split': 30},\n",
              "  {'max_depth': 1, 'min_samples_leaf': 14, 'min_samples_split': 2},\n",
              "  {'max_depth': 1, 'min_samples_leaf': 14, 'min_samples_split': 5},\n",
              "  {'max_depth': 1, 'min_samples_leaf': 14, 'min_samples_split': 7},\n",
              "  {'max_depth': 1, 'min_samples_leaf': 14, 'min_samples_split': 10},\n",
              "  {'max_depth': 1, 'min_samples_leaf': 14, 'min_samples_split': 15},\n",
              "  {'max_depth': 1, 'min_samples_leaf': 14, 'min_samples_split': 30},\n",
              "  {'max_depth': 1, 'min_samples_leaf': 15, 'min_samples_split': 2},\n",
              "  {'max_depth': 1, 'min_samples_leaf': 15, 'min_samples_split': 5},\n",
              "  {'max_depth': 1, 'min_samples_leaf': 15, 'min_samples_split': 7},\n",
              "  {'max_depth': 1, 'min_samples_leaf': 15, 'min_samples_split': 10},\n",
              "  {'max_depth': 1, 'min_samples_leaf': 15, 'min_samples_split': 15},\n",
              "  {'max_depth': 1, 'min_samples_leaf': 15, 'min_samples_split': 30},\n",
              "  {'max_depth': 2, 'min_samples_leaf': 1, 'min_samples_split': 2},\n",
              "  {'max_depth': 2, 'min_samples_leaf': 1, 'min_samples_split': 5},\n",
              "  {'max_depth': 2, 'min_samples_leaf': 1, 'min_samples_split': 7},\n",
              "  {'max_depth': 2, 'min_samples_leaf': 1, 'min_samples_split': 10},\n",
              "  {'max_depth': 2, 'min_samples_leaf': 1, 'min_samples_split': 15},\n",
              "  {'max_depth': 2, 'min_samples_leaf': 1, 'min_samples_split': 30},\n",
              "  {'max_depth': 2, 'min_samples_leaf': 2, 'min_samples_split': 2},\n",
              "  {'max_depth': 2, 'min_samples_leaf': 2, 'min_samples_split': 5},\n",
              "  {'max_depth': 2, 'min_samples_leaf': 2, 'min_samples_split': 7},\n",
              "  {'max_depth': 2, 'min_samples_leaf': 2, 'min_samples_split': 10},\n",
              "  {'max_depth': 2, 'min_samples_leaf': 2, 'min_samples_split': 15},\n",
              "  {'max_depth': 2, 'min_samples_leaf': 2, 'min_samples_split': 30},\n",
              "  {'max_depth': 2, 'min_samples_leaf': 3, 'min_samples_split': 2},\n",
              "  {'max_depth': 2, 'min_samples_leaf': 3, 'min_samples_split': 5},\n",
              "  {'max_depth': 2, 'min_samples_leaf': 3, 'min_samples_split': 7},\n",
              "  {'max_depth': 2, 'min_samples_leaf': 3, 'min_samples_split': 10},\n",
              "  {'max_depth': 2, 'min_samples_leaf': 3, 'min_samples_split': 15},\n",
              "  {'max_depth': 2, 'min_samples_leaf': 3, 'min_samples_split': 30},\n",
              "  {'max_depth': 2, 'min_samples_leaf': 4, 'min_samples_split': 2},\n",
              "  {'max_depth': 2, 'min_samples_leaf': 4, 'min_samples_split': 5},\n",
              "  {'max_depth': 2, 'min_samples_leaf': 4, 'min_samples_split': 7},\n",
              "  {'max_depth': 2, 'min_samples_leaf': 4, 'min_samples_split': 10},\n",
              "  {'max_depth': 2, 'min_samples_leaf': 4, 'min_samples_split': 15},\n",
              "  {'max_depth': 2, 'min_samples_leaf': 4, 'min_samples_split': 30},\n",
              "  {'max_depth': 2, 'min_samples_leaf': 5, 'min_samples_split': 2},\n",
              "  {'max_depth': 2, 'min_samples_leaf': 5, 'min_samples_split': 5},\n",
              "  {'max_depth': 2, 'min_samples_leaf': 5, 'min_samples_split': 7},\n",
              "  {'max_depth': 2, 'min_samples_leaf': 5, 'min_samples_split': 10},\n",
              "  {'max_depth': 2, 'min_samples_leaf': 5, 'min_samples_split': 15},\n",
              "  {'max_depth': 2, 'min_samples_leaf': 5, 'min_samples_split': 30},\n",
              "  {'max_depth': 2, 'min_samples_leaf': 6, 'min_samples_split': 2},\n",
              "  {'max_depth': 2, 'min_samples_leaf': 6, 'min_samples_split': 5},\n",
              "  {'max_depth': 2, 'min_samples_leaf': 6, 'min_samples_split': 7},\n",
              "  {'max_depth': 2, 'min_samples_leaf': 6, 'min_samples_split': 10},\n",
              "  {'max_depth': 2, 'min_samples_leaf': 6, 'min_samples_split': 15},\n",
              "  {'max_depth': 2, 'min_samples_leaf': 6, 'min_samples_split': 30},\n",
              "  {'max_depth': 2, 'min_samples_leaf': 7, 'min_samples_split': 2},\n",
              "  {'max_depth': 2, 'min_samples_leaf': 7, 'min_samples_split': 5},\n",
              "  {'max_depth': 2, 'min_samples_leaf': 7, 'min_samples_split': 7},\n",
              "  {'max_depth': 2, 'min_samples_leaf': 7, 'min_samples_split': 10},\n",
              "  {'max_depth': 2, 'min_samples_leaf': 7, 'min_samples_split': 15},\n",
              "  {'max_depth': 2, 'min_samples_leaf': 7, 'min_samples_split': 30},\n",
              "  {'max_depth': 2, 'min_samples_leaf': 8, 'min_samples_split': 2},\n",
              "  {'max_depth': 2, 'min_samples_leaf': 8, 'min_samples_split': 5},\n",
              "  {'max_depth': 2, 'min_samples_leaf': 8, 'min_samples_split': 7},\n",
              "  {'max_depth': 2, 'min_samples_leaf': 8, 'min_samples_split': 10},\n",
              "  {'max_depth': 2, 'min_samples_leaf': 8, 'min_samples_split': 15},\n",
              "  {'max_depth': 2, 'min_samples_leaf': 8, 'min_samples_split': 30},\n",
              "  {'max_depth': 2, 'min_samples_leaf': 9, 'min_samples_split': 2},\n",
              "  {'max_depth': 2, 'min_samples_leaf': 9, 'min_samples_split': 5},\n",
              "  {'max_depth': 2, 'min_samples_leaf': 9, 'min_samples_split': 7},\n",
              "  {'max_depth': 2, 'min_samples_leaf': 9, 'min_samples_split': 10},\n",
              "  {'max_depth': 2, 'min_samples_leaf': 9, 'min_samples_split': 15},\n",
              "  {'max_depth': 2, 'min_samples_leaf': 9, 'min_samples_split': 30},\n",
              "  {'max_depth': 2, 'min_samples_leaf': 10, 'min_samples_split': 2},\n",
              "  {'max_depth': 2, 'min_samples_leaf': 10, 'min_samples_split': 5},\n",
              "  {'max_depth': 2, 'min_samples_leaf': 10, 'min_samples_split': 7},\n",
              "  {'max_depth': 2, 'min_samples_leaf': 10, 'min_samples_split': 10},\n",
              "  {'max_depth': 2, 'min_samples_leaf': 10, 'min_samples_split': 15},\n",
              "  {'max_depth': 2, 'min_samples_leaf': 10, 'min_samples_split': 30},\n",
              "  {'max_depth': 2, 'min_samples_leaf': 11, 'min_samples_split': 2},\n",
              "  {'max_depth': 2, 'min_samples_leaf': 11, 'min_samples_split': 5},\n",
              "  {'max_depth': 2, 'min_samples_leaf': 11, 'min_samples_split': 7},\n",
              "  {'max_depth': 2, 'min_samples_leaf': 11, 'min_samples_split': 10},\n",
              "  {'max_depth': 2, 'min_samples_leaf': 11, 'min_samples_split': 15},\n",
              "  {'max_depth': 2, 'min_samples_leaf': 11, 'min_samples_split': 30},\n",
              "  {'max_depth': 2, 'min_samples_leaf': 12, 'min_samples_split': 2},\n",
              "  {'max_depth': 2, 'min_samples_leaf': 12, 'min_samples_split': 5},\n",
              "  {'max_depth': 2, 'min_samples_leaf': 12, 'min_samples_split': 7},\n",
              "  {'max_depth': 2, 'min_samples_leaf': 12, 'min_samples_split': 10},\n",
              "  {'max_depth': 2, 'min_samples_leaf': 12, 'min_samples_split': 15},\n",
              "  {'max_depth': 2, 'min_samples_leaf': 12, 'min_samples_split': 30},\n",
              "  {'max_depth': 2, 'min_samples_leaf': 13, 'min_samples_split': 2},\n",
              "  {'max_depth': 2, 'min_samples_leaf': 13, 'min_samples_split': 5},\n",
              "  {'max_depth': 2, 'min_samples_leaf': 13, 'min_samples_split': 7},\n",
              "  {'max_depth': 2, 'min_samples_leaf': 13, 'min_samples_split': 10},\n",
              "  {'max_depth': 2, 'min_samples_leaf': 13, 'min_samples_split': 15},\n",
              "  {'max_depth': 2, 'min_samples_leaf': 13, 'min_samples_split': 30},\n",
              "  {'max_depth': 2, 'min_samples_leaf': 14, 'min_samples_split': 2},\n",
              "  {'max_depth': 2, 'min_samples_leaf': 14, 'min_samples_split': 5},\n",
              "  {'max_depth': 2, 'min_samples_leaf': 14, 'min_samples_split': 7},\n",
              "  {'max_depth': 2, 'min_samples_leaf': 14, 'min_samples_split': 10},\n",
              "  {'max_depth': 2, 'min_samples_leaf': 14, 'min_samples_split': 15},\n",
              "  {'max_depth': 2, 'min_samples_leaf': 14, 'min_samples_split': 30},\n",
              "  {'max_depth': 2, 'min_samples_leaf': 15, 'min_samples_split': 2},\n",
              "  {'max_depth': 2, 'min_samples_leaf': 15, 'min_samples_split': 5},\n",
              "  {'max_depth': 2, 'min_samples_leaf': 15, 'min_samples_split': 7},\n",
              "  {'max_depth': 2, 'min_samples_leaf': 15, 'min_samples_split': 10},\n",
              "  {'max_depth': 2, 'min_samples_leaf': 15, 'min_samples_split': 15},\n",
              "  {'max_depth': 2, 'min_samples_leaf': 15, 'min_samples_split': 30},\n",
              "  {'max_depth': 3, 'min_samples_leaf': 1, 'min_samples_split': 2},\n",
              "  {'max_depth': 3, 'min_samples_leaf': 1, 'min_samples_split': 5},\n",
              "  {'max_depth': 3, 'min_samples_leaf': 1, 'min_samples_split': 7},\n",
              "  {'max_depth': 3, 'min_samples_leaf': 1, 'min_samples_split': 10},\n",
              "  {'max_depth': 3, 'min_samples_leaf': 1, 'min_samples_split': 15},\n",
              "  {'max_depth': 3, 'min_samples_leaf': 1, 'min_samples_split': 30},\n",
              "  {'max_depth': 3, 'min_samples_leaf': 2, 'min_samples_split': 2},\n",
              "  {'max_depth': 3, 'min_samples_leaf': 2, 'min_samples_split': 5},\n",
              "  {'max_depth': 3, 'min_samples_leaf': 2, 'min_samples_split': 7},\n",
              "  {'max_depth': 3, 'min_samples_leaf': 2, 'min_samples_split': 10},\n",
              "  {'max_depth': 3, 'min_samples_leaf': 2, 'min_samples_split': 15},\n",
              "  {'max_depth': 3, 'min_samples_leaf': 2, 'min_samples_split': 30},\n",
              "  {'max_depth': 3, 'min_samples_leaf': 3, 'min_samples_split': 2},\n",
              "  {'max_depth': 3, 'min_samples_leaf': 3, 'min_samples_split': 5},\n",
              "  {'max_depth': 3, 'min_samples_leaf': 3, 'min_samples_split': 7},\n",
              "  {'max_depth': 3, 'min_samples_leaf': 3, 'min_samples_split': 10},\n",
              "  {'max_depth': 3, 'min_samples_leaf': 3, 'min_samples_split': 15},\n",
              "  {'max_depth': 3, 'min_samples_leaf': 3, 'min_samples_split': 30},\n",
              "  {'max_depth': 3, 'min_samples_leaf': 4, 'min_samples_split': 2},\n",
              "  {'max_depth': 3, 'min_samples_leaf': 4, 'min_samples_split': 5},\n",
              "  {'max_depth': 3, 'min_samples_leaf': 4, 'min_samples_split': 7},\n",
              "  {'max_depth': 3, 'min_samples_leaf': 4, 'min_samples_split': 10},\n",
              "  {'max_depth': 3, 'min_samples_leaf': 4, 'min_samples_split': 15},\n",
              "  {'max_depth': 3, 'min_samples_leaf': 4, 'min_samples_split': 30},\n",
              "  {'max_depth': 3, 'min_samples_leaf': 5, 'min_samples_split': 2},\n",
              "  {'max_depth': 3, 'min_samples_leaf': 5, 'min_samples_split': 5},\n",
              "  {'max_depth': 3, 'min_samples_leaf': 5, 'min_samples_split': 7},\n",
              "  {'max_depth': 3, 'min_samples_leaf': 5, 'min_samples_split': 10},\n",
              "  {'max_depth': 3, 'min_samples_leaf': 5, 'min_samples_split': 15},\n",
              "  {'max_depth': 3, 'min_samples_leaf': 5, 'min_samples_split': 30},\n",
              "  {'max_depth': 3, 'min_samples_leaf': 6, 'min_samples_split': 2},\n",
              "  {'max_depth': 3, 'min_samples_leaf': 6, 'min_samples_split': 5},\n",
              "  {'max_depth': 3, 'min_samples_leaf': 6, 'min_samples_split': 7},\n",
              "  {'max_depth': 3, 'min_samples_leaf': 6, 'min_samples_split': 10},\n",
              "  {'max_depth': 3, 'min_samples_leaf': 6, 'min_samples_split': 15},\n",
              "  {'max_depth': 3, 'min_samples_leaf': 6, 'min_samples_split': 30},\n",
              "  {'max_depth': 3, 'min_samples_leaf': 7, 'min_samples_split': 2},\n",
              "  {'max_depth': 3, 'min_samples_leaf': 7, 'min_samples_split': 5},\n",
              "  {'max_depth': 3, 'min_samples_leaf': 7, 'min_samples_split': 7},\n",
              "  {'max_depth': 3, 'min_samples_leaf': 7, 'min_samples_split': 10},\n",
              "  {'max_depth': 3, 'min_samples_leaf': 7, 'min_samples_split': 15},\n",
              "  {'max_depth': 3, 'min_samples_leaf': 7, 'min_samples_split': 30},\n",
              "  {'max_depth': 3, 'min_samples_leaf': 8, 'min_samples_split': 2},\n",
              "  {'max_depth': 3, 'min_samples_leaf': 8, 'min_samples_split': 5},\n",
              "  {'max_depth': 3, 'min_samples_leaf': 8, 'min_samples_split': 7},\n",
              "  {'max_depth': 3, 'min_samples_leaf': 8, 'min_samples_split': 10},\n",
              "  {'max_depth': 3, 'min_samples_leaf': 8, 'min_samples_split': 15},\n",
              "  {'max_depth': 3, 'min_samples_leaf': 8, 'min_samples_split': 30},\n",
              "  {'max_depth': 3, 'min_samples_leaf': 9, 'min_samples_split': 2},\n",
              "  {'max_depth': 3, 'min_samples_leaf': 9, 'min_samples_split': 5},\n",
              "  {'max_depth': 3, 'min_samples_leaf': 9, 'min_samples_split': 7},\n",
              "  {'max_depth': 3, 'min_samples_leaf': 9, 'min_samples_split': 10},\n",
              "  {'max_depth': 3, 'min_samples_leaf': 9, 'min_samples_split': 15},\n",
              "  {'max_depth': 3, 'min_samples_leaf': 9, 'min_samples_split': 30},\n",
              "  {'max_depth': 3, 'min_samples_leaf': 10, 'min_samples_split': 2},\n",
              "  {'max_depth': 3, 'min_samples_leaf': 10, 'min_samples_split': 5},\n",
              "  {'max_depth': 3, 'min_samples_leaf': 10, 'min_samples_split': 7},\n",
              "  {'max_depth': 3, 'min_samples_leaf': 10, 'min_samples_split': 10},\n",
              "  {'max_depth': 3, 'min_samples_leaf': 10, 'min_samples_split': 15},\n",
              "  {'max_depth': 3, 'min_samples_leaf': 10, 'min_samples_split': 30},\n",
              "  {'max_depth': 3, 'min_samples_leaf': 11, 'min_samples_split': 2},\n",
              "  {'max_depth': 3, 'min_samples_leaf': 11, 'min_samples_split': 5},\n",
              "  {'max_depth': 3, 'min_samples_leaf': 11, 'min_samples_split': 7},\n",
              "  {'max_depth': 3, 'min_samples_leaf': 11, 'min_samples_split': 10},\n",
              "  {'max_depth': 3, 'min_samples_leaf': 11, 'min_samples_split': 15},\n",
              "  {'max_depth': 3, 'min_samples_leaf': 11, 'min_samples_split': 30},\n",
              "  {'max_depth': 3, 'min_samples_leaf': 12, 'min_samples_split': 2},\n",
              "  {'max_depth': 3, 'min_samples_leaf': 12, 'min_samples_split': 5},\n",
              "  {'max_depth': 3, 'min_samples_leaf': 12, 'min_samples_split': 7},\n",
              "  {'max_depth': 3, 'min_samples_leaf': 12, 'min_samples_split': 10},\n",
              "  {'max_depth': 3, 'min_samples_leaf': 12, 'min_samples_split': 15},\n",
              "  {'max_depth': 3, 'min_samples_leaf': 12, 'min_samples_split': 30},\n",
              "  {'max_depth': 3, 'min_samples_leaf': 13, 'min_samples_split': 2},\n",
              "  {'max_depth': 3, 'min_samples_leaf': 13, 'min_samples_split': 5},\n",
              "  {'max_depth': 3, 'min_samples_leaf': 13, 'min_samples_split': 7},\n",
              "  {'max_depth': 3, 'min_samples_leaf': 13, 'min_samples_split': 10},\n",
              "  {'max_depth': 3, 'min_samples_leaf': 13, 'min_samples_split': 15},\n",
              "  {'max_depth': 3, 'min_samples_leaf': 13, 'min_samples_split': 30},\n",
              "  {'max_depth': 3, 'min_samples_leaf': 14, 'min_samples_split': 2},\n",
              "  {'max_depth': 3, 'min_samples_leaf': 14, 'min_samples_split': 5},\n",
              "  {'max_depth': 3, 'min_samples_leaf': 14, 'min_samples_split': 7},\n",
              "  {'max_depth': 3, 'min_samples_leaf': 14, 'min_samples_split': 10},\n",
              "  {'max_depth': 3, 'min_samples_leaf': 14, 'min_samples_split': 15},\n",
              "  {'max_depth': 3, 'min_samples_leaf': 14, 'min_samples_split': 30},\n",
              "  {'max_depth': 3, 'min_samples_leaf': 15, 'min_samples_split': 2},\n",
              "  {'max_depth': 3, 'min_samples_leaf': 15, 'min_samples_split': 5},\n",
              "  {'max_depth': 3, 'min_samples_leaf': 15, 'min_samples_split': 7},\n",
              "  {'max_depth': 3, 'min_samples_leaf': 15, 'min_samples_split': 10},\n",
              "  {'max_depth': 3, 'min_samples_leaf': 15, 'min_samples_split': 15},\n",
              "  {'max_depth': 3, 'min_samples_leaf': 15, 'min_samples_split': 30},\n",
              "  {'max_depth': 4, 'min_samples_leaf': 1, 'min_samples_split': 2},\n",
              "  {'max_depth': 4, 'min_samples_leaf': 1, 'min_samples_split': 5},\n",
              "  {'max_depth': 4, 'min_samples_leaf': 1, 'min_samples_split': 7},\n",
              "  {'max_depth': 4, 'min_samples_leaf': 1, 'min_samples_split': 10},\n",
              "  {'max_depth': 4, 'min_samples_leaf': 1, 'min_samples_split': 15},\n",
              "  {'max_depth': 4, 'min_samples_leaf': 1, 'min_samples_split': 30},\n",
              "  {'max_depth': 4, 'min_samples_leaf': 2, 'min_samples_split': 2},\n",
              "  {'max_depth': 4, 'min_samples_leaf': 2, 'min_samples_split': 5},\n",
              "  {'max_depth': 4, 'min_samples_leaf': 2, 'min_samples_split': 7},\n",
              "  {'max_depth': 4, 'min_samples_leaf': 2, 'min_samples_split': 10},\n",
              "  {'max_depth': 4, 'min_samples_leaf': 2, 'min_samples_split': 15},\n",
              "  {'max_depth': 4, 'min_samples_leaf': 2, 'min_samples_split': 30},\n",
              "  {'max_depth': 4, 'min_samples_leaf': 3, 'min_samples_split': 2},\n",
              "  {'max_depth': 4, 'min_samples_leaf': 3, 'min_samples_split': 5},\n",
              "  {'max_depth': 4, 'min_samples_leaf': 3, 'min_samples_split': 7},\n",
              "  {'max_depth': 4, 'min_samples_leaf': 3, 'min_samples_split': 10},\n",
              "  {'max_depth': 4, 'min_samples_leaf': 3, 'min_samples_split': 15},\n",
              "  {'max_depth': 4, 'min_samples_leaf': 3, 'min_samples_split': 30},\n",
              "  {'max_depth': 4, 'min_samples_leaf': 4, 'min_samples_split': 2},\n",
              "  {'max_depth': 4, 'min_samples_leaf': 4, 'min_samples_split': 5},\n",
              "  {'max_depth': 4, 'min_samples_leaf': 4, 'min_samples_split': 7},\n",
              "  {'max_depth': 4, 'min_samples_leaf': 4, 'min_samples_split': 10},\n",
              "  {'max_depth': 4, 'min_samples_leaf': 4, 'min_samples_split': 15},\n",
              "  {'max_depth': 4, 'min_samples_leaf': 4, 'min_samples_split': 30},\n",
              "  {'max_depth': 4, 'min_samples_leaf': 5, 'min_samples_split': 2},\n",
              "  {'max_depth': 4, 'min_samples_leaf': 5, 'min_samples_split': 5},\n",
              "  {'max_depth': 4, 'min_samples_leaf': 5, 'min_samples_split': 7},\n",
              "  {'max_depth': 4, 'min_samples_leaf': 5, 'min_samples_split': 10},\n",
              "  {'max_depth': 4, 'min_samples_leaf': 5, 'min_samples_split': 15},\n",
              "  {'max_depth': 4, 'min_samples_leaf': 5, 'min_samples_split': 30},\n",
              "  {'max_depth': 4, 'min_samples_leaf': 6, 'min_samples_split': 2},\n",
              "  {'max_depth': 4, 'min_samples_leaf': 6, 'min_samples_split': 5},\n",
              "  {'max_depth': 4, 'min_samples_leaf': 6, 'min_samples_split': 7},\n",
              "  {'max_depth': 4, 'min_samples_leaf': 6, 'min_samples_split': 10},\n",
              "  {'max_depth': 4, 'min_samples_leaf': 6, 'min_samples_split': 15},\n",
              "  {'max_depth': 4, 'min_samples_leaf': 6, 'min_samples_split': 30},\n",
              "  {'max_depth': 4, 'min_samples_leaf': 7, 'min_samples_split': 2},\n",
              "  {'max_depth': 4, 'min_samples_leaf': 7, 'min_samples_split': 5},\n",
              "  {'max_depth': 4, 'min_samples_leaf': 7, 'min_samples_split': 7},\n",
              "  {'max_depth': 4, 'min_samples_leaf': 7, 'min_samples_split': 10},\n",
              "  {'max_depth': 4, 'min_samples_leaf': 7, 'min_samples_split': 15},\n",
              "  {'max_depth': 4, 'min_samples_leaf': 7, 'min_samples_split': 30},\n",
              "  {'max_depth': 4, 'min_samples_leaf': 8, 'min_samples_split': 2},\n",
              "  {'max_depth': 4, 'min_samples_leaf': 8, 'min_samples_split': 5},\n",
              "  {'max_depth': 4, 'min_samples_leaf': 8, 'min_samples_split': 7},\n",
              "  {'max_depth': 4, 'min_samples_leaf': 8, 'min_samples_split': 10},\n",
              "  {'max_depth': 4, 'min_samples_leaf': 8, 'min_samples_split': 15},\n",
              "  {'max_depth': 4, 'min_samples_leaf': 8, 'min_samples_split': 30},\n",
              "  {'max_depth': 4, 'min_samples_leaf': 9, 'min_samples_split': 2},\n",
              "  {'max_depth': 4, 'min_samples_leaf': 9, 'min_samples_split': 5},\n",
              "  {'max_depth': 4, 'min_samples_leaf': 9, 'min_samples_split': 7},\n",
              "  {'max_depth': 4, 'min_samples_leaf': 9, 'min_samples_split': 10},\n",
              "  {'max_depth': 4, 'min_samples_leaf': 9, 'min_samples_split': 15},\n",
              "  {'max_depth': 4, 'min_samples_leaf': 9, 'min_samples_split': 30},\n",
              "  {'max_depth': 4, 'min_samples_leaf': 10, 'min_samples_split': 2},\n",
              "  {'max_depth': 4, 'min_samples_leaf': 10, 'min_samples_split': 5},\n",
              "  {'max_depth': 4, 'min_samples_leaf': 10, 'min_samples_split': 7},\n",
              "  {'max_depth': 4, 'min_samples_leaf': 10, 'min_samples_split': 10},\n",
              "  {'max_depth': 4, 'min_samples_leaf': 10, 'min_samples_split': 15},\n",
              "  {'max_depth': 4, 'min_samples_leaf': 10, 'min_samples_split': 30},\n",
              "  {'max_depth': 4, 'min_samples_leaf': 11, 'min_samples_split': 2},\n",
              "  {'max_depth': 4, 'min_samples_leaf': 11, 'min_samples_split': 5},\n",
              "  {'max_depth': 4, 'min_samples_leaf': 11, 'min_samples_split': 7},\n",
              "  {'max_depth': 4, 'min_samples_leaf': 11, 'min_samples_split': 10},\n",
              "  {'max_depth': 4, 'min_samples_leaf': 11, 'min_samples_split': 15},\n",
              "  {'max_depth': 4, 'min_samples_leaf': 11, 'min_samples_split': 30},\n",
              "  {'max_depth': 4, 'min_samples_leaf': 12, 'min_samples_split': 2},\n",
              "  {'max_depth': 4, 'min_samples_leaf': 12, 'min_samples_split': 5},\n",
              "  {'max_depth': 4, 'min_samples_leaf': 12, 'min_samples_split': 7},\n",
              "  {'max_depth': 4, 'min_samples_leaf': 12, 'min_samples_split': 10},\n",
              "  {'max_depth': 4, 'min_samples_leaf': 12, 'min_samples_split': 15},\n",
              "  {'max_depth': 4, 'min_samples_leaf': 12, 'min_samples_split': 30},\n",
              "  {'max_depth': 4, 'min_samples_leaf': 13, 'min_samples_split': 2},\n",
              "  {'max_depth': 4, 'min_samples_leaf': 13, 'min_samples_split': 5},\n",
              "  {'max_depth': 4, 'min_samples_leaf': 13, 'min_samples_split': 7},\n",
              "  {'max_depth': 4, 'min_samples_leaf': 13, 'min_samples_split': 10},\n",
              "  {'max_depth': 4, 'min_samples_leaf': 13, 'min_samples_split': 15},\n",
              "  {'max_depth': 4, 'min_samples_leaf': 13, 'min_samples_split': 30},\n",
              "  {'max_depth': 4, 'min_samples_leaf': 14, 'min_samples_split': 2},\n",
              "  {'max_depth': 4, 'min_samples_leaf': 14, 'min_samples_split': 5},\n",
              "  {'max_depth': 4, 'min_samples_leaf': 14, 'min_samples_split': 7},\n",
              "  {'max_depth': 4, 'min_samples_leaf': 14, 'min_samples_split': 10},\n",
              "  {'max_depth': 4, 'min_samples_leaf': 14, 'min_samples_split': 15},\n",
              "  {'max_depth': 4, 'min_samples_leaf': 14, 'min_samples_split': 30},\n",
              "  {'max_depth': 4, 'min_samples_leaf': 15, 'min_samples_split': 2},\n",
              "  {'max_depth': 4, 'min_samples_leaf': 15, 'min_samples_split': 5},\n",
              "  {'max_depth': 4, 'min_samples_leaf': 15, 'min_samples_split': 7},\n",
              "  {'max_depth': 4, 'min_samples_leaf': 15, 'min_samples_split': 10},\n",
              "  {'max_depth': 4, 'min_samples_leaf': 15, 'min_samples_split': 15},\n",
              "  {'max_depth': 4, 'min_samples_leaf': 15, 'min_samples_split': 30},\n",
              "  {'max_depth': 5, 'min_samples_leaf': 1, 'min_samples_split': 2},\n",
              "  {'max_depth': 5, 'min_samples_leaf': 1, 'min_samples_split': 5},\n",
              "  {'max_depth': 5, 'min_samples_leaf': 1, 'min_samples_split': 7},\n",
              "  {'max_depth': 5, 'min_samples_leaf': 1, 'min_samples_split': 10},\n",
              "  {'max_depth': 5, 'min_samples_leaf': 1, 'min_samples_split': 15},\n",
              "  {'max_depth': 5, 'min_samples_leaf': 1, 'min_samples_split': 30},\n",
              "  {'max_depth': 5, 'min_samples_leaf': 2, 'min_samples_split': 2},\n",
              "  {'max_depth': 5, 'min_samples_leaf': 2, 'min_samples_split': 5},\n",
              "  {'max_depth': 5, 'min_samples_leaf': 2, 'min_samples_split': 7},\n",
              "  {'max_depth': 5, 'min_samples_leaf': 2, 'min_samples_split': 10},\n",
              "  {'max_depth': 5, 'min_samples_leaf': 2, 'min_samples_split': 15},\n",
              "  {'max_depth': 5, 'min_samples_leaf': 2, 'min_samples_split': 30},\n",
              "  {'max_depth': 5, 'min_samples_leaf': 3, 'min_samples_split': 2},\n",
              "  {'max_depth': 5, 'min_samples_leaf': 3, 'min_samples_split': 5},\n",
              "  {'max_depth': 5, 'min_samples_leaf': 3, 'min_samples_split': 7},\n",
              "  {'max_depth': 5, 'min_samples_leaf': 3, 'min_samples_split': 10},\n",
              "  {'max_depth': 5, 'min_samples_leaf': 3, 'min_samples_split': 15},\n",
              "  {'max_depth': 5, 'min_samples_leaf': 3, 'min_samples_split': 30},\n",
              "  {'max_depth': 5, 'min_samples_leaf': 4, 'min_samples_split': 2},\n",
              "  {'max_depth': 5, 'min_samples_leaf': 4, 'min_samples_split': 5},\n",
              "  {'max_depth': 5, 'min_samples_leaf': 4, 'min_samples_split': 7},\n",
              "  {'max_depth': 5, 'min_samples_leaf': 4, 'min_samples_split': 10},\n",
              "  {'max_depth': 5, 'min_samples_leaf': 4, 'min_samples_split': 15},\n",
              "  {'max_depth': 5, 'min_samples_leaf': 4, 'min_samples_split': 30},\n",
              "  {'max_depth': 5, 'min_samples_leaf': 5, 'min_samples_split': 2},\n",
              "  {'max_depth': 5, 'min_samples_leaf': 5, 'min_samples_split': 5},\n",
              "  {'max_depth': 5, 'min_samples_leaf': 5, 'min_samples_split': 7},\n",
              "  {'max_depth': 5, 'min_samples_leaf': 5, 'min_samples_split': 10},\n",
              "  {'max_depth': 5, 'min_samples_leaf': 5, 'min_samples_split': 15},\n",
              "  {'max_depth': 5, 'min_samples_leaf': 5, 'min_samples_split': 30},\n",
              "  {'max_depth': 5, 'min_samples_leaf': 6, 'min_samples_split': 2},\n",
              "  {'max_depth': 5, 'min_samples_leaf': 6, 'min_samples_split': 5},\n",
              "  {'max_depth': 5, 'min_samples_leaf': 6, 'min_samples_split': 7},\n",
              "  {'max_depth': 5, 'min_samples_leaf': 6, 'min_samples_split': 10},\n",
              "  {'max_depth': 5, 'min_samples_leaf': 6, 'min_samples_split': 15},\n",
              "  {'max_depth': 5, 'min_samples_leaf': 6, 'min_samples_split': 30},\n",
              "  {'max_depth': 5, 'min_samples_leaf': 7, 'min_samples_split': 2},\n",
              "  {'max_depth': 5, 'min_samples_leaf': 7, 'min_samples_split': 5},\n",
              "  {'max_depth': 5, 'min_samples_leaf': 7, 'min_samples_split': 7},\n",
              "  {'max_depth': 5, 'min_samples_leaf': 7, 'min_samples_split': 10},\n",
              "  {'max_depth': 5, 'min_samples_leaf': 7, 'min_samples_split': 15},\n",
              "  {'max_depth': 5, 'min_samples_leaf': 7, 'min_samples_split': 30},\n",
              "  {'max_depth': 5, 'min_samples_leaf': 8, 'min_samples_split': 2},\n",
              "  {'max_depth': 5, 'min_samples_leaf': 8, 'min_samples_split': 5},\n",
              "  {'max_depth': 5, 'min_samples_leaf': 8, 'min_samples_split': 7},\n",
              "  {'max_depth': 5, 'min_samples_leaf': 8, 'min_samples_split': 10},\n",
              "  {'max_depth': 5, 'min_samples_leaf': 8, 'min_samples_split': 15},\n",
              "  {'max_depth': 5, 'min_samples_leaf': 8, 'min_samples_split': 30},\n",
              "  {'max_depth': 5, 'min_samples_leaf': 9, 'min_samples_split': 2},\n",
              "  {'max_depth': 5, 'min_samples_leaf': 9, 'min_samples_split': 5},\n",
              "  {'max_depth': 5, 'min_samples_leaf': 9, 'min_samples_split': 7},\n",
              "  {'max_depth': 5, 'min_samples_leaf': 9, 'min_samples_split': 10},\n",
              "  {'max_depth': 5, 'min_samples_leaf': 9, 'min_samples_split': 15},\n",
              "  {'max_depth': 5, 'min_samples_leaf': 9, 'min_samples_split': 30},\n",
              "  {'max_depth': 5, 'min_samples_leaf': 10, 'min_samples_split': 2},\n",
              "  {'max_depth': 5, 'min_samples_leaf': 10, 'min_samples_split': 5},\n",
              "  {'max_depth': 5, 'min_samples_leaf': 10, 'min_samples_split': 7},\n",
              "  {'max_depth': 5, 'min_samples_leaf': 10, 'min_samples_split': 10},\n",
              "  {'max_depth': 5, 'min_samples_leaf': 10, 'min_samples_split': 15},\n",
              "  {'max_depth': 5, 'min_samples_leaf': 10, 'min_samples_split': 30},\n",
              "  {'max_depth': 5, 'min_samples_leaf': 11, 'min_samples_split': 2},\n",
              "  {'max_depth': 5, 'min_samples_leaf': 11, 'min_samples_split': 5},\n",
              "  {'max_depth': 5, 'min_samples_leaf': 11, 'min_samples_split': 7},\n",
              "  {'max_depth': 5, 'min_samples_leaf': 11, 'min_samples_split': 10},\n",
              "  {'max_depth': 5, 'min_samples_leaf': 11, 'min_samples_split': 15},\n",
              "  {'max_depth': 5, 'min_samples_leaf': 11, 'min_samples_split': 30},\n",
              "  {'max_depth': 5, 'min_samples_leaf': 12, 'min_samples_split': 2},\n",
              "  {'max_depth': 5, 'min_samples_leaf': 12, 'min_samples_split': 5},\n",
              "  {'max_depth': 5, 'min_samples_leaf': 12, 'min_samples_split': 7},\n",
              "  {'max_depth': 5, 'min_samples_leaf': 12, 'min_samples_split': 10},\n",
              "  {'max_depth': 5, 'min_samples_leaf': 12, 'min_samples_split': 15},\n",
              "  {'max_depth': 5, 'min_samples_leaf': 12, 'min_samples_split': 30},\n",
              "  {'max_depth': 5, 'min_samples_leaf': 13, 'min_samples_split': 2},\n",
              "  {'max_depth': 5, 'min_samples_leaf': 13, 'min_samples_split': 5},\n",
              "  {'max_depth': 5, 'min_samples_leaf': 13, 'min_samples_split': 7},\n",
              "  {'max_depth': 5, 'min_samples_leaf': 13, 'min_samples_split': 10},\n",
              "  {'max_depth': 5, 'min_samples_leaf': 13, 'min_samples_split': 15},\n",
              "  {'max_depth': 5, 'min_samples_leaf': 13, 'min_samples_split': 30},\n",
              "  {'max_depth': 5, 'min_samples_leaf': 14, 'min_samples_split': 2},\n",
              "  {'max_depth': 5, 'min_samples_leaf': 14, 'min_samples_split': 5},\n",
              "  {'max_depth': 5, 'min_samples_leaf': 14, 'min_samples_split': 7},\n",
              "  {'max_depth': 5, 'min_samples_leaf': 14, 'min_samples_split': 10},\n",
              "  {'max_depth': 5, 'min_samples_leaf': 14, 'min_samples_split': 15},\n",
              "  {'max_depth': 5, 'min_samples_leaf': 14, 'min_samples_split': 30},\n",
              "  {'max_depth': 5, 'min_samples_leaf': 15, 'min_samples_split': 2},\n",
              "  {'max_depth': 5, 'min_samples_leaf': 15, 'min_samples_split': 5},\n",
              "  {'max_depth': 5, 'min_samples_leaf': 15, 'min_samples_split': 7},\n",
              "  {'max_depth': 5, 'min_samples_leaf': 15, 'min_samples_split': 10},\n",
              "  {'max_depth': 5, 'min_samples_leaf': 15, 'min_samples_split': 15},\n",
              "  {'max_depth': 5, 'min_samples_leaf': 15, 'min_samples_split': 30},\n",
              "  {'max_depth': 6, 'min_samples_leaf': 1, 'min_samples_split': 2},\n",
              "  {'max_depth': 6, 'min_samples_leaf': 1, 'min_samples_split': 5},\n",
              "  {'max_depth': 6, 'min_samples_leaf': 1, 'min_samples_split': 7},\n",
              "  {'max_depth': 6, 'min_samples_leaf': 1, 'min_samples_split': 10},\n",
              "  {'max_depth': 6, 'min_samples_leaf': 1, 'min_samples_split': 15},\n",
              "  {'max_depth': 6, 'min_samples_leaf': 1, 'min_samples_split': 30},\n",
              "  {'max_depth': 6, 'min_samples_leaf': 2, 'min_samples_split': 2},\n",
              "  {'max_depth': 6, 'min_samples_leaf': 2, 'min_samples_split': 5},\n",
              "  {'max_depth': 6, 'min_samples_leaf': 2, 'min_samples_split': 7},\n",
              "  {'max_depth': 6, 'min_samples_leaf': 2, 'min_samples_split': 10},\n",
              "  {'max_depth': 6, 'min_samples_leaf': 2, 'min_samples_split': 15},\n",
              "  {'max_depth': 6, 'min_samples_leaf': 2, 'min_samples_split': 30},\n",
              "  {'max_depth': 6, 'min_samples_leaf': 3, 'min_samples_split': 2},\n",
              "  {'max_depth': 6, 'min_samples_leaf': 3, 'min_samples_split': 5},\n",
              "  {'max_depth': 6, 'min_samples_leaf': 3, 'min_samples_split': 7},\n",
              "  {'max_depth': 6, 'min_samples_leaf': 3, 'min_samples_split': 10},\n",
              "  {'max_depth': 6, 'min_samples_leaf': 3, 'min_samples_split': 15},\n",
              "  {'max_depth': 6, 'min_samples_leaf': 3, 'min_samples_split': 30},\n",
              "  {'max_depth': 6, 'min_samples_leaf': 4, 'min_samples_split': 2},\n",
              "  {'max_depth': 6, 'min_samples_leaf': 4, 'min_samples_split': 5},\n",
              "  {'max_depth': 6, 'min_samples_leaf': 4, 'min_samples_split': 7},\n",
              "  {'max_depth': 6, 'min_samples_leaf': 4, 'min_samples_split': 10},\n",
              "  {'max_depth': 6, 'min_samples_leaf': 4, 'min_samples_split': 15},\n",
              "  {'max_depth': 6, 'min_samples_leaf': 4, 'min_samples_split': 30},\n",
              "  {'max_depth': 6, 'min_samples_leaf': 5, 'min_samples_split': 2},\n",
              "  {'max_depth': 6, 'min_samples_leaf': 5, 'min_samples_split': 5},\n",
              "  {'max_depth': 6, 'min_samples_leaf': 5, 'min_samples_split': 7},\n",
              "  {'max_depth': 6, 'min_samples_leaf': 5, 'min_samples_split': 10},\n",
              "  {'max_depth': 6, 'min_samples_leaf': 5, 'min_samples_split': 15},\n",
              "  {'max_depth': 6, 'min_samples_leaf': 5, 'min_samples_split': 30},\n",
              "  {'max_depth': 6, 'min_samples_leaf': 6, 'min_samples_split': 2},\n",
              "  {'max_depth': 6, 'min_samples_leaf': 6, 'min_samples_split': 5},\n",
              "  {'max_depth': 6, 'min_samples_leaf': 6, 'min_samples_split': 7},\n",
              "  {'max_depth': 6, 'min_samples_leaf': 6, 'min_samples_split': 10},\n",
              "  {'max_depth': 6, 'min_samples_leaf': 6, 'min_samples_split': 15},\n",
              "  {'max_depth': 6, 'min_samples_leaf': 6, 'min_samples_split': 30},\n",
              "  {'max_depth': 6, 'min_samples_leaf': 7, 'min_samples_split': 2},\n",
              "  {'max_depth': 6, 'min_samples_leaf': 7, 'min_samples_split': 5},\n",
              "  {'max_depth': 6, 'min_samples_leaf': 7, 'min_samples_split': 7},\n",
              "  {'max_depth': 6, 'min_samples_leaf': 7, 'min_samples_split': 10},\n",
              "  {'max_depth': 6, 'min_samples_leaf': 7, 'min_samples_split': 15},\n",
              "  {'max_depth': 6, 'min_samples_leaf': 7, 'min_samples_split': 30},\n",
              "  {'max_depth': 6, 'min_samples_leaf': 8, 'min_samples_split': 2},\n",
              "  {'max_depth': 6, 'min_samples_leaf': 8, 'min_samples_split': 5},\n",
              "  {'max_depth': 6, 'min_samples_leaf': 8, 'min_samples_split': 7},\n",
              "  {'max_depth': 6, 'min_samples_leaf': 8, 'min_samples_split': 10},\n",
              "  {'max_depth': 6, 'min_samples_leaf': 8, 'min_samples_split': 15},\n",
              "  {'max_depth': 6, 'min_samples_leaf': 8, 'min_samples_split': 30},\n",
              "  {'max_depth': 6, 'min_samples_leaf': 9, 'min_samples_split': 2},\n",
              "  {'max_depth': 6, 'min_samples_leaf': 9, 'min_samples_split': 5},\n",
              "  {'max_depth': 6, 'min_samples_leaf': 9, 'min_samples_split': 7},\n",
              "  {'max_depth': 6, 'min_samples_leaf': 9, 'min_samples_split': 10},\n",
              "  {'max_depth': 6, 'min_samples_leaf': 9, 'min_samples_split': 15},\n",
              "  {'max_depth': 6, 'min_samples_leaf': 9, 'min_samples_split': 30},\n",
              "  {'max_depth': 6, 'min_samples_leaf': 10, 'min_samples_split': 2},\n",
              "  {'max_depth': 6, 'min_samples_leaf': 10, 'min_samples_split': 5},\n",
              "  {'max_depth': 6, 'min_samples_leaf': 10, 'min_samples_split': 7},\n",
              "  {'max_depth': 6, 'min_samples_leaf': 10, 'min_samples_split': 10},\n",
              "  {'max_depth': 6, 'min_samples_leaf': 10, 'min_samples_split': 15},\n",
              "  {'max_depth': 6, 'min_samples_leaf': 10, 'min_samples_split': 30},\n",
              "  {'max_depth': 6, 'min_samples_leaf': 11, 'min_samples_split': 2},\n",
              "  {'max_depth': 6, 'min_samples_leaf': 11, 'min_samples_split': 5},\n",
              "  {'max_depth': 6, 'min_samples_leaf': 11, 'min_samples_split': 7},\n",
              "  {'max_depth': 6, 'min_samples_leaf': 11, 'min_samples_split': 10},\n",
              "  {'max_depth': 6, 'min_samples_leaf': 11, 'min_samples_split': 15},\n",
              "  {'max_depth': 6, 'min_samples_leaf': 11, 'min_samples_split': 30},\n",
              "  {'max_depth': 6, 'min_samples_leaf': 12, 'min_samples_split': 2},\n",
              "  {'max_depth': 6, 'min_samples_leaf': 12, 'min_samples_split': 5},\n",
              "  {'max_depth': 6, 'min_samples_leaf': 12, 'min_samples_split': 7},\n",
              "  {'max_depth': 6, 'min_samples_leaf': 12, 'min_samples_split': 10},\n",
              "  {'max_depth': 6, 'min_samples_leaf': 12, 'min_samples_split': 15},\n",
              "  {'max_depth': 6, 'min_samples_leaf': 12, 'min_samples_split': 30},\n",
              "  {'max_depth': 6, 'min_samples_leaf': 13, 'min_samples_split': 2},\n",
              "  {'max_depth': 6, 'min_samples_leaf': 13, 'min_samples_split': 5},\n",
              "  {'max_depth': 6, 'min_samples_leaf': 13, 'min_samples_split': 7},\n",
              "  {'max_depth': 6, 'min_samples_leaf': 13, 'min_samples_split': 10},\n",
              "  {'max_depth': 6, 'min_samples_leaf': 13, 'min_samples_split': 15},\n",
              "  {'max_depth': 6, 'min_samples_leaf': 13, 'min_samples_split': 30},\n",
              "  {'max_depth': 6, 'min_samples_leaf': 14, 'min_samples_split': 2},\n",
              "  {'max_depth': 6, 'min_samples_leaf': 14, 'min_samples_split': 5},\n",
              "  {'max_depth': 6, 'min_samples_leaf': 14, 'min_samples_split': 7},\n",
              "  {'max_depth': 6, 'min_samples_leaf': 14, 'min_samples_split': 10},\n",
              "  {'max_depth': 6, 'min_samples_leaf': 14, 'min_samples_split': 15},\n",
              "  {'max_depth': 6, 'min_samples_leaf': 14, 'min_samples_split': 30},\n",
              "  {'max_depth': 6, 'min_samples_leaf': 15, 'min_samples_split': 2},\n",
              "  {'max_depth': 6, 'min_samples_leaf': 15, 'min_samples_split': 5},\n",
              "  {'max_depth': 6, 'min_samples_leaf': 15, 'min_samples_split': 7},\n",
              "  {'max_depth': 6, 'min_samples_leaf': 15, 'min_samples_split': 10},\n",
              "  {'max_depth': 6, 'min_samples_leaf': 15, 'min_samples_split': 15},\n",
              "  {'max_depth': 6, 'min_samples_leaf': 15, 'min_samples_split': 30},\n",
              "  {'max_depth': 7, 'min_samples_leaf': 1, 'min_samples_split': 2},\n",
              "  {'max_depth': 7, 'min_samples_leaf': 1, 'min_samples_split': 5},\n",
              "  {'max_depth': 7, 'min_samples_leaf': 1, 'min_samples_split': 7},\n",
              "  {'max_depth': 7, 'min_samples_leaf': 1, 'min_samples_split': 10},\n",
              "  {'max_depth': 7, 'min_samples_leaf': 1, 'min_samples_split': 15},\n",
              "  {'max_depth': 7, 'min_samples_leaf': 1, 'min_samples_split': 30},\n",
              "  {'max_depth': 7, 'min_samples_leaf': 2, 'min_samples_split': 2},\n",
              "  {'max_depth': 7, 'min_samples_leaf': 2, 'min_samples_split': 5},\n",
              "  {'max_depth': 7, 'min_samples_leaf': 2, 'min_samples_split': 7},\n",
              "  {'max_depth': 7, 'min_samples_leaf': 2, 'min_samples_split': 10},\n",
              "  {'max_depth': 7, 'min_samples_leaf': 2, 'min_samples_split': 15},\n",
              "  {'max_depth': 7, 'min_samples_leaf': 2, 'min_samples_split': 30},\n",
              "  {'max_depth': 7, 'min_samples_leaf': 3, 'min_samples_split': 2},\n",
              "  {'max_depth': 7, 'min_samples_leaf': 3, 'min_samples_split': 5},\n",
              "  {'max_depth': 7, 'min_samples_leaf': 3, 'min_samples_split': 7},\n",
              "  {'max_depth': 7, 'min_samples_leaf': 3, 'min_samples_split': 10},\n",
              "  {'max_depth': 7, 'min_samples_leaf': 3, 'min_samples_split': 15},\n",
              "  {'max_depth': 7, 'min_samples_leaf': 3, 'min_samples_split': 30},\n",
              "  {'max_depth': 7, 'min_samples_leaf': 4, 'min_samples_split': 2},\n",
              "  {'max_depth': 7, 'min_samples_leaf': 4, 'min_samples_split': 5},\n",
              "  {'max_depth': 7, 'min_samples_leaf': 4, 'min_samples_split': 7},\n",
              "  {'max_depth': 7, 'min_samples_leaf': 4, 'min_samples_split': 10},\n",
              "  {'max_depth': 7, 'min_samples_leaf': 4, 'min_samples_split': 15},\n",
              "  {'max_depth': 7, 'min_samples_leaf': 4, 'min_samples_split': 30},\n",
              "  {'max_depth': 7, 'min_samples_leaf': 5, 'min_samples_split': 2},\n",
              "  {'max_depth': 7, 'min_samples_leaf': 5, 'min_samples_split': 5},\n",
              "  {'max_depth': 7, 'min_samples_leaf': 5, 'min_samples_split': 7},\n",
              "  {'max_depth': 7, 'min_samples_leaf': 5, 'min_samples_split': 10},\n",
              "  {'max_depth': 7, 'min_samples_leaf': 5, 'min_samples_split': 15},\n",
              "  {'max_depth': 7, 'min_samples_leaf': 5, 'min_samples_split': 30},\n",
              "  {'max_depth': 7, 'min_samples_leaf': 6, 'min_samples_split': 2},\n",
              "  {'max_depth': 7, 'min_samples_leaf': 6, 'min_samples_split': 5},\n",
              "  {'max_depth': 7, 'min_samples_leaf': 6, 'min_samples_split': 7},\n",
              "  {'max_depth': 7, 'min_samples_leaf': 6, 'min_samples_split': 10},\n",
              "  {'max_depth': 7, 'min_samples_leaf': 6, 'min_samples_split': 15},\n",
              "  {'max_depth': 7, 'min_samples_leaf': 6, 'min_samples_split': 30},\n",
              "  {'max_depth': 7, 'min_samples_leaf': 7, 'min_samples_split': 2},\n",
              "  {'max_depth': 7, 'min_samples_leaf': 7, 'min_samples_split': 5},\n",
              "  {'max_depth': 7, 'min_samples_leaf': 7, 'min_samples_split': 7},\n",
              "  {'max_depth': 7, 'min_samples_leaf': 7, 'min_samples_split': 10},\n",
              "  {'max_depth': 7, 'min_samples_leaf': 7, 'min_samples_split': 15},\n",
              "  {'max_depth': 7, 'min_samples_leaf': 7, 'min_samples_split': 30},\n",
              "  {'max_depth': 7, 'min_samples_leaf': 8, 'min_samples_split': 2},\n",
              "  {'max_depth': 7, 'min_samples_leaf': 8, 'min_samples_split': 5},\n",
              "  {'max_depth': 7, 'min_samples_leaf': 8, 'min_samples_split': 7},\n",
              "  {'max_depth': 7, 'min_samples_leaf': 8, 'min_samples_split': 10},\n",
              "  {'max_depth': 7, 'min_samples_leaf': 8, 'min_samples_split': 15},\n",
              "  {'max_depth': 7, 'min_samples_leaf': 8, 'min_samples_split': 30},\n",
              "  {'max_depth': 7, 'min_samples_leaf': 9, 'min_samples_split': 2},\n",
              "  {'max_depth': 7, 'min_samples_leaf': 9, 'min_samples_split': 5},\n",
              "  {'max_depth': 7, 'min_samples_leaf': 9, 'min_samples_split': 7},\n",
              "  {'max_depth': 7, 'min_samples_leaf': 9, 'min_samples_split': 10},\n",
              "  {'max_depth': 7, 'min_samples_leaf': 9, 'min_samples_split': 15},\n",
              "  {'max_depth': 7, 'min_samples_leaf': 9, 'min_samples_split': 30},\n",
              "  {'max_depth': 7, 'min_samples_leaf': 10, 'min_samples_split': 2},\n",
              "  {'max_depth': 7, 'min_samples_leaf': 10, 'min_samples_split': 5},\n",
              "  {'max_depth': 7, 'min_samples_leaf': 10, 'min_samples_split': 7},\n",
              "  {'max_depth': 7, 'min_samples_leaf': 10, 'min_samples_split': 10},\n",
              "  {'max_depth': 7, 'min_samples_leaf': 10, 'min_samples_split': 15},\n",
              "  {'max_depth': 7, 'min_samples_leaf': 10, 'min_samples_split': 30},\n",
              "  {'max_depth': 7, 'min_samples_leaf': 11, 'min_samples_split': 2},\n",
              "  {'max_depth': 7, 'min_samples_leaf': 11, 'min_samples_split': 5},\n",
              "  {'max_depth': 7, 'min_samples_leaf': 11, 'min_samples_split': 7},\n",
              "  {'max_depth': 7, 'min_samples_leaf': 11, 'min_samples_split': 10},\n",
              "  {'max_depth': 7, 'min_samples_leaf': 11, 'min_samples_split': 15},\n",
              "  {'max_depth': 7, 'min_samples_leaf': 11, 'min_samples_split': 30},\n",
              "  {'max_depth': 7, 'min_samples_leaf': 12, 'min_samples_split': 2},\n",
              "  {'max_depth': 7, 'min_samples_leaf': 12, 'min_samples_split': 5},\n",
              "  {'max_depth': 7, 'min_samples_leaf': 12, 'min_samples_split': 7},\n",
              "  {'max_depth': 7, 'min_samples_leaf': 12, 'min_samples_split': 10},\n",
              "  {'max_depth': 7, 'min_samples_leaf': 12, 'min_samples_split': 15},\n",
              "  {'max_depth': 7, 'min_samples_leaf': 12, 'min_samples_split': 30},\n",
              "  {'max_depth': 7, 'min_samples_leaf': 13, 'min_samples_split': 2},\n",
              "  {'max_depth': 7, 'min_samples_leaf': 13, 'min_samples_split': 5},\n",
              "  {'max_depth': 7, 'min_samples_leaf': 13, 'min_samples_split': 7},\n",
              "  {'max_depth': 7, 'min_samples_leaf': 13, 'min_samples_split': 10},\n",
              "  {'max_depth': 7, 'min_samples_leaf': 13, 'min_samples_split': 15},\n",
              "  {'max_depth': 7, 'min_samples_leaf': 13, 'min_samples_split': 30},\n",
              "  {'max_depth': 7, 'min_samples_leaf': 14, 'min_samples_split': 2},\n",
              "  {'max_depth': 7, 'min_samples_leaf': 14, 'min_samples_split': 5},\n",
              "  {'max_depth': 7, 'min_samples_leaf': 14, 'min_samples_split': 7},\n",
              "  {'max_depth': 7, 'min_samples_leaf': 14, 'min_samples_split': 10},\n",
              "  {'max_depth': 7, 'min_samples_leaf': 14, 'min_samples_split': 15},\n",
              "  {'max_depth': 7, 'min_samples_leaf': 14, 'min_samples_split': 30},\n",
              "  {'max_depth': 7, 'min_samples_leaf': 15, 'min_samples_split': 2},\n",
              "  {'max_depth': 7, 'min_samples_leaf': 15, 'min_samples_split': 5},\n",
              "  {'max_depth': 7, 'min_samples_leaf': 15, 'min_samples_split': 7},\n",
              "  {'max_depth': 7, 'min_samples_leaf': 15, 'min_samples_split': 10},\n",
              "  {'max_depth': 7, 'min_samples_leaf': 15, 'min_samples_split': 15},\n",
              "  {'max_depth': 7, 'min_samples_leaf': 15, 'min_samples_split': 30},\n",
              "  {'max_depth': 8, 'min_samples_leaf': 1, 'min_samples_split': 2},\n",
              "  {'max_depth': 8, 'min_samples_leaf': 1, 'min_samples_split': 5},\n",
              "  {'max_depth': 8, 'min_samples_leaf': 1, 'min_samples_split': 7},\n",
              "  {'max_depth': 8, 'min_samples_leaf': 1, 'min_samples_split': 10},\n",
              "  {'max_depth': 8, 'min_samples_leaf': 1, 'min_samples_split': 15},\n",
              "  {'max_depth': 8, 'min_samples_leaf': 1, 'min_samples_split': 30},\n",
              "  {'max_depth': 8, 'min_samples_leaf': 2, 'min_samples_split': 2},\n",
              "  {'max_depth': 8, 'min_samples_leaf': 2, 'min_samples_split': 5},\n",
              "  {'max_depth': 8, 'min_samples_leaf': 2, 'min_samples_split': 7},\n",
              "  {'max_depth': 8, 'min_samples_leaf': 2, 'min_samples_split': 10},\n",
              "  {'max_depth': 8, 'min_samples_leaf': 2, 'min_samples_split': 15},\n",
              "  {'max_depth': 8, 'min_samples_leaf': 2, 'min_samples_split': 30},\n",
              "  {'max_depth': 8, 'min_samples_leaf': 3, 'min_samples_split': 2},\n",
              "  {'max_depth': 8, 'min_samples_leaf': 3, 'min_samples_split': 5},\n",
              "  {'max_depth': 8, 'min_samples_leaf': 3, 'min_samples_split': 7},\n",
              "  {'max_depth': 8, 'min_samples_leaf': 3, 'min_samples_split': 10},\n",
              "  {'max_depth': 8, 'min_samples_leaf': 3, 'min_samples_split': 15},\n",
              "  {'max_depth': 8, 'min_samples_leaf': 3, 'min_samples_split': 30},\n",
              "  {'max_depth': 8, 'min_samples_leaf': 4, 'min_samples_split': 2},\n",
              "  {'max_depth': 8, 'min_samples_leaf': 4, 'min_samples_split': 5},\n",
              "  {'max_depth': 8, 'min_samples_leaf': 4, 'min_samples_split': 7},\n",
              "  {'max_depth': 8, 'min_samples_leaf': 4, 'min_samples_split': 10},\n",
              "  {'max_depth': 8, 'min_samples_leaf': 4, 'min_samples_split': 15},\n",
              "  {'max_depth': 8, 'min_samples_leaf': 4, 'min_samples_split': 30},\n",
              "  {'max_depth': 8, 'min_samples_leaf': 5, 'min_samples_split': 2},\n",
              "  {'max_depth': 8, 'min_samples_leaf': 5, 'min_samples_split': 5},\n",
              "  {'max_depth': 8, 'min_samples_leaf': 5, 'min_samples_split': 7},\n",
              "  {'max_depth': 8, 'min_samples_leaf': 5, 'min_samples_split': 10},\n",
              "  {'max_depth': 8, 'min_samples_leaf': 5, 'min_samples_split': 15},\n",
              "  {'max_depth': 8, 'min_samples_leaf': 5, 'min_samples_split': 30},\n",
              "  {'max_depth': 8, 'min_samples_leaf': 6, 'min_samples_split': 2},\n",
              "  {'max_depth': 8, 'min_samples_leaf': 6, 'min_samples_split': 5},\n",
              "  {'max_depth': 8, 'min_samples_leaf': 6, 'min_samples_split': 7},\n",
              "  {'max_depth': 8, 'min_samples_leaf': 6, 'min_samples_split': 10},\n",
              "  {'max_depth': 8, 'min_samples_leaf': 6, 'min_samples_split': 15},\n",
              "  {'max_depth': 8, 'min_samples_leaf': 6, 'min_samples_split': 30},\n",
              "  {'max_depth': 8, 'min_samples_leaf': 7, 'min_samples_split': 2},\n",
              "  {'max_depth': 8, 'min_samples_leaf': 7, 'min_samples_split': 5},\n",
              "  {'max_depth': 8, 'min_samples_leaf': 7, 'min_samples_split': 7},\n",
              "  {'max_depth': 8, 'min_samples_leaf': 7, 'min_samples_split': 10},\n",
              "  {'max_depth': 8, 'min_samples_leaf': 7, 'min_samples_split': 15},\n",
              "  {'max_depth': 8, 'min_samples_leaf': 7, 'min_samples_split': 30},\n",
              "  {'max_depth': 8, 'min_samples_leaf': 8, 'min_samples_split': 2},\n",
              "  {'max_depth': 8, 'min_samples_leaf': 8, 'min_samples_split': 5},\n",
              "  {'max_depth': 8, 'min_samples_leaf': 8, 'min_samples_split': 7},\n",
              "  {'max_depth': 8, 'min_samples_leaf': 8, 'min_samples_split': 10},\n",
              "  {'max_depth': 8, 'min_samples_leaf': 8, 'min_samples_split': 15},\n",
              "  {'max_depth': 8, 'min_samples_leaf': 8, 'min_samples_split': 30},\n",
              "  {'max_depth': 8, 'min_samples_leaf': 9, 'min_samples_split': 2},\n",
              "  {'max_depth': 8, 'min_samples_leaf': 9, 'min_samples_split': 5},\n",
              "  {'max_depth': 8, 'min_samples_leaf': 9, 'min_samples_split': 7},\n",
              "  {'max_depth': 8, 'min_samples_leaf': 9, 'min_samples_split': 10},\n",
              "  {'max_depth': 8, 'min_samples_leaf': 9, 'min_samples_split': 15},\n",
              "  {'max_depth': 8, 'min_samples_leaf': 9, 'min_samples_split': 30},\n",
              "  {'max_depth': 8, 'min_samples_leaf': 10, 'min_samples_split': 2},\n",
              "  {'max_depth': 8, 'min_samples_leaf': 10, 'min_samples_split': 5},\n",
              "  {'max_depth': 8, 'min_samples_leaf': 10, 'min_samples_split': 7},\n",
              "  {'max_depth': 8, 'min_samples_leaf': 10, 'min_samples_split': 10},\n",
              "  {'max_depth': 8, 'min_samples_leaf': 10, 'min_samples_split': 15},\n",
              "  {'max_depth': 8, 'min_samples_leaf': 10, 'min_samples_split': 30},\n",
              "  {'max_depth': 8, 'min_samples_leaf': 11, 'min_samples_split': 2},\n",
              "  {'max_depth': 8, 'min_samples_leaf': 11, 'min_samples_split': 5},\n",
              "  {'max_depth': 8, 'min_samples_leaf': 11, 'min_samples_split': 7},\n",
              "  {'max_depth': 8, 'min_samples_leaf': 11, 'min_samples_split': 10},\n",
              "  {'max_depth': 8, 'min_samples_leaf': 11, 'min_samples_split': 15},\n",
              "  {'max_depth': 8, 'min_samples_leaf': 11, 'min_samples_split': 30},\n",
              "  {'max_depth': 8, 'min_samples_leaf': 12, 'min_samples_split': 2},\n",
              "  {'max_depth': 8, 'min_samples_leaf': 12, 'min_samples_split': 5},\n",
              "  {'max_depth': 8, 'min_samples_leaf': 12, 'min_samples_split': 7},\n",
              "  {'max_depth': 8, 'min_samples_leaf': 12, 'min_samples_split': 10},\n",
              "  {'max_depth': 8, 'min_samples_leaf': 12, 'min_samples_split': 15},\n",
              "  {'max_depth': 8, 'min_samples_leaf': 12, 'min_samples_split': 30},\n",
              "  {'max_depth': 8, 'min_samples_leaf': 13, 'min_samples_split': 2},\n",
              "  {'max_depth': 8, 'min_samples_leaf': 13, 'min_samples_split': 5},\n",
              "  {'max_depth': 8, 'min_samples_leaf': 13, 'min_samples_split': 7},\n",
              "  {'max_depth': 8, 'min_samples_leaf': 13, 'min_samples_split': 10},\n",
              "  {'max_depth': 8, 'min_samples_leaf': 13, 'min_samples_split': 15},\n",
              "  {'max_depth': 8, 'min_samples_leaf': 13, 'min_samples_split': 30},\n",
              "  {'max_depth': 8, 'min_samples_leaf': 14, 'min_samples_split': 2},\n",
              "  {'max_depth': 8, 'min_samples_leaf': 14, 'min_samples_split': 5},\n",
              "  {'max_depth': 8, 'min_samples_leaf': 14, 'min_samples_split': 7},\n",
              "  {'max_depth': 8, 'min_samples_leaf': 14, 'min_samples_split': 10},\n",
              "  {'max_depth': 8, 'min_samples_leaf': 14, 'min_samples_split': 15},\n",
              "  {'max_depth': 8, 'min_samples_leaf': 14, 'min_samples_split': 30},\n",
              "  {'max_depth': 8, 'min_samples_leaf': 15, 'min_samples_split': 2},\n",
              "  {'max_depth': 8, 'min_samples_leaf': 15, 'min_samples_split': 5},\n",
              "  {'max_depth': 8, 'min_samples_leaf': 15, 'min_samples_split': 7},\n",
              "  {'max_depth': 8, 'min_samples_leaf': 15, 'min_samples_split': 10},\n",
              "  {'max_depth': 8, 'min_samples_leaf': 15, 'min_samples_split': 15},\n",
              "  {'max_depth': 8, 'min_samples_leaf': 15, 'min_samples_split': 30},\n",
              "  {'max_depth': 9, 'min_samples_leaf': 1, 'min_samples_split': 2},\n",
              "  {'max_depth': 9, 'min_samples_leaf': 1, 'min_samples_split': 5},\n",
              "  {'max_depth': 9, 'min_samples_leaf': 1, 'min_samples_split': 7},\n",
              "  {'max_depth': 9, 'min_samples_leaf': 1, 'min_samples_split': 10},\n",
              "  {'max_depth': 9, 'min_samples_leaf': 1, 'min_samples_split': 15},\n",
              "  {'max_depth': 9, 'min_samples_leaf': 1, 'min_samples_split': 30},\n",
              "  {'max_depth': 9, 'min_samples_leaf': 2, 'min_samples_split': 2},\n",
              "  {'max_depth': 9, 'min_samples_leaf': 2, 'min_samples_split': 5},\n",
              "  {'max_depth': 9, 'min_samples_leaf': 2, 'min_samples_split': 7},\n",
              "  {'max_depth': 9, 'min_samples_leaf': 2, 'min_samples_split': 10},\n",
              "  {'max_depth': 9, 'min_samples_leaf': 2, 'min_samples_split': 15},\n",
              "  {'max_depth': 9, 'min_samples_leaf': 2, 'min_samples_split': 30},\n",
              "  {'max_depth': 9, 'min_samples_leaf': 3, 'min_samples_split': 2},\n",
              "  {'max_depth': 9, 'min_samples_leaf': 3, 'min_samples_split': 5},\n",
              "  {'max_depth': 9, 'min_samples_leaf': 3, 'min_samples_split': 7},\n",
              "  {'max_depth': 9, 'min_samples_leaf': 3, 'min_samples_split': 10},\n",
              "  {'max_depth': 9, 'min_samples_leaf': 3, 'min_samples_split': 15},\n",
              "  {'max_depth': 9, 'min_samples_leaf': 3, 'min_samples_split': 30},\n",
              "  {'max_depth': 9, 'min_samples_leaf': 4, 'min_samples_split': 2},\n",
              "  {'max_depth': 9, 'min_samples_leaf': 4, 'min_samples_split': 5},\n",
              "  {'max_depth': 9, 'min_samples_leaf': 4, 'min_samples_split': 7},\n",
              "  {'max_depth': 9, 'min_samples_leaf': 4, 'min_samples_split': 10},\n",
              "  {'max_depth': 9, 'min_samples_leaf': 4, 'min_samples_split': 15},\n",
              "  {'max_depth': 9, 'min_samples_leaf': 4, 'min_samples_split': 30},\n",
              "  {'max_depth': 9, 'min_samples_leaf': 5, 'min_samples_split': 2},\n",
              "  {'max_depth': 9, 'min_samples_leaf': 5, 'min_samples_split': 5},\n",
              "  {'max_depth': 9, 'min_samples_leaf': 5, 'min_samples_split': 7},\n",
              "  {'max_depth': 9, 'min_samples_leaf': 5, 'min_samples_split': 10},\n",
              "  {'max_depth': 9, 'min_samples_leaf': 5, 'min_samples_split': 15},\n",
              "  {'max_depth': 9, 'min_samples_leaf': 5, 'min_samples_split': 30},\n",
              "  {'max_depth': 9, 'min_samples_leaf': 6, 'min_samples_split': 2},\n",
              "  {'max_depth': 9, 'min_samples_leaf': 6, 'min_samples_split': 5},\n",
              "  {'max_depth': 9, 'min_samples_leaf': 6, 'min_samples_split': 7},\n",
              "  {'max_depth': 9, 'min_samples_leaf': 6, 'min_samples_split': 10},\n",
              "  {'max_depth': 9, 'min_samples_leaf': 6, 'min_samples_split': 15},\n",
              "  {'max_depth': 9, 'min_samples_leaf': 6, 'min_samples_split': 30},\n",
              "  {'max_depth': 9, 'min_samples_leaf': 7, 'min_samples_split': 2},\n",
              "  {'max_depth': 9, 'min_samples_leaf': 7, 'min_samples_split': 5},\n",
              "  {'max_depth': 9, 'min_samples_leaf': 7, 'min_samples_split': 7},\n",
              "  {'max_depth': 9, 'min_samples_leaf': 7, 'min_samples_split': 10},\n",
              "  {'max_depth': 9, 'min_samples_leaf': 7, 'min_samples_split': 15},\n",
              "  {'max_depth': 9, 'min_samples_leaf': 7, 'min_samples_split': 30},\n",
              "  {'max_depth': 9, 'min_samples_leaf': 8, 'min_samples_split': 2},\n",
              "  {'max_depth': 9, 'min_samples_leaf': 8, 'min_samples_split': 5},\n",
              "  {'max_depth': 9, 'min_samples_leaf': 8, 'min_samples_split': 7},\n",
              "  {'max_depth': 9, 'min_samples_leaf': 8, 'min_samples_split': 10},\n",
              "  {'max_depth': 9, 'min_samples_leaf': 8, 'min_samples_split': 15},\n",
              "  {'max_depth': 9, 'min_samples_leaf': 8, 'min_samples_split': 30},\n",
              "  {'max_depth': 9, 'min_samples_leaf': 9, 'min_samples_split': 2},\n",
              "  {'max_depth': 9, 'min_samples_leaf': 9, 'min_samples_split': 5},\n",
              "  {'max_depth': 9, 'min_samples_leaf': 9, 'min_samples_split': 7},\n",
              "  {'max_depth': 9, 'min_samples_leaf': 9, 'min_samples_split': 10},\n",
              "  {'max_depth': 9, 'min_samples_leaf': 9, 'min_samples_split': 15},\n",
              "  {'max_depth': 9, 'min_samples_leaf': 9, 'min_samples_split': 30},\n",
              "  {'max_depth': 9, 'min_samples_leaf': 10, 'min_samples_split': 2},\n",
              "  {'max_depth': 9, 'min_samples_leaf': 10, 'min_samples_split': 5},\n",
              "  {'max_depth': 9, 'min_samples_leaf': 10, 'min_samples_split': 7},\n",
              "  {'max_depth': 9, 'min_samples_leaf': 10, 'min_samples_split': 10},\n",
              "  {'max_depth': 9, 'min_samples_leaf': 10, 'min_samples_split': 15},\n",
              "  {'max_depth': 9, 'min_samples_leaf': 10, 'min_samples_split': 30},\n",
              "  {'max_depth': 9, 'min_samples_leaf': 11, 'min_samples_split': 2},\n",
              "  {'max_depth': 9, 'min_samples_leaf': 11, 'min_samples_split': 5},\n",
              "  {'max_depth': 9, 'min_samples_leaf': 11, 'min_samples_split': 7},\n",
              "  {'max_depth': 9, 'min_samples_leaf': 11, 'min_samples_split': 10},\n",
              "  {'max_depth': 9, 'min_samples_leaf': 11, 'min_samples_split': 15},\n",
              "  {'max_depth': 9, 'min_samples_leaf': 11, 'min_samples_split': 30},\n",
              "  {'max_depth': 9, 'min_samples_leaf': 12, 'min_samples_split': 2},\n",
              "  {'max_depth': 9, 'min_samples_leaf': 12, 'min_samples_split': 5},\n",
              "  {'max_depth': 9, 'min_samples_leaf': 12, 'min_samples_split': 7},\n",
              "  {'max_depth': 9, 'min_samples_leaf': 12, 'min_samples_split': 10},\n",
              "  {'max_depth': 9, 'min_samples_leaf': 12, 'min_samples_split': 15},\n",
              "  {'max_depth': 9, 'min_samples_leaf': 12, 'min_samples_split': 30},\n",
              "  {'max_depth': 9, 'min_samples_leaf': 13, 'min_samples_split': 2},\n",
              "  {'max_depth': 9, 'min_samples_leaf': 13, 'min_samples_split': 5},\n",
              "  {'max_depth': 9, 'min_samples_leaf': 13, 'min_samples_split': 7},\n",
              "  {'max_depth': 9, 'min_samples_leaf': 13, 'min_samples_split': 10},\n",
              "  {'max_depth': 9, 'min_samples_leaf': 13, 'min_samples_split': 15},\n",
              "  {'max_depth': 9, 'min_samples_leaf': 13, 'min_samples_split': 30},\n",
              "  {'max_depth': 9, 'min_samples_leaf': 14, 'min_samples_split': 2},\n",
              "  {'max_depth': 9, 'min_samples_leaf': 14, 'min_samples_split': 5},\n",
              "  {'max_depth': 9, 'min_samples_leaf': 14, 'min_samples_split': 7},\n",
              "  {'max_depth': 9, 'min_samples_leaf': 14, 'min_samples_split': 10},\n",
              "  {'max_depth': 9, 'min_samples_leaf': 14, 'min_samples_split': 15},\n",
              "  {'max_depth': 9, 'min_samples_leaf': 14, 'min_samples_split': 30},\n",
              "  {'max_depth': 9, 'min_samples_leaf': 15, 'min_samples_split': 2},\n",
              "  {'max_depth': 9, 'min_samples_leaf': 15, 'min_samples_split': 5},\n",
              "  {'max_depth': 9, 'min_samples_leaf': 15, 'min_samples_split': 7},\n",
              "  {'max_depth': 9, 'min_samples_leaf': 15, 'min_samples_split': 10},\n",
              "  {'max_depth': 9, 'min_samples_leaf': 15, 'min_samples_split': 15},\n",
              "  {'max_depth': 9, 'min_samples_leaf': 15, 'min_samples_split': 30},\n",
              "  {'max_depth': 10, 'min_samples_leaf': 1, 'min_samples_split': 2},\n",
              "  {'max_depth': 10, 'min_samples_leaf': 1, 'min_samples_split': 5},\n",
              "  {'max_depth': 10, 'min_samples_leaf': 1, 'min_samples_split': 7},\n",
              "  {'max_depth': 10, 'min_samples_leaf': 1, 'min_samples_split': 10},\n",
              "  {'max_depth': 10, 'min_samples_leaf': 1, 'min_samples_split': 15},\n",
              "  {'max_depth': 10, 'min_samples_leaf': 1, 'min_samples_split': 30},\n",
              "  {'max_depth': 10, 'min_samples_leaf': 2, 'min_samples_split': 2},\n",
              "  {'max_depth': 10, 'min_samples_leaf': 2, 'min_samples_split': 5},\n",
              "  {'max_depth': 10, 'min_samples_leaf': 2, 'min_samples_split': 7},\n",
              "  {'max_depth': 10, 'min_samples_leaf': 2, 'min_samples_split': 10},\n",
              "  {'max_depth': 10, 'min_samples_leaf': 2, 'min_samples_split': 15},\n",
              "  {'max_depth': 10, 'min_samples_leaf': 2, 'min_samples_split': 30},\n",
              "  {'max_depth': 10, 'min_samples_leaf': 3, 'min_samples_split': 2},\n",
              "  {'max_depth': 10, 'min_samples_leaf': 3, 'min_samples_split': 5},\n",
              "  {'max_depth': 10, 'min_samples_leaf': 3, 'min_samples_split': 7},\n",
              "  {'max_depth': 10, 'min_samples_leaf': 3, 'min_samples_split': 10},\n",
              "  {'max_depth': 10, 'min_samples_leaf': 3, 'min_samples_split': 15},\n",
              "  {'max_depth': 10, 'min_samples_leaf': 3, 'min_samples_split': 30},\n",
              "  {'max_depth': 10, 'min_samples_leaf': 4, 'min_samples_split': 2},\n",
              "  {'max_depth': 10, 'min_samples_leaf': 4, 'min_samples_split': 5},\n",
              "  {'max_depth': 10, 'min_samples_leaf': 4, 'min_samples_split': 7},\n",
              "  {'max_depth': 10, 'min_samples_leaf': 4, 'min_samples_split': 10},\n",
              "  {'max_depth': 10, 'min_samples_leaf': 4, 'min_samples_split': 15},\n",
              "  {'max_depth': 10, 'min_samples_leaf': 4, 'min_samples_split': 30},\n",
              "  {'max_depth': 10, 'min_samples_leaf': 5, 'min_samples_split': 2},\n",
              "  {'max_depth': 10, 'min_samples_leaf': 5, 'min_samples_split': 5},\n",
              "  {'max_depth': 10, 'min_samples_leaf': 5, 'min_samples_split': 7},\n",
              "  {'max_depth': 10, 'min_samples_leaf': 5, 'min_samples_split': 10},\n",
              "  {'max_depth': 10, 'min_samples_leaf': 5, 'min_samples_split': 15},\n",
              "  {'max_depth': 10, 'min_samples_leaf': 5, 'min_samples_split': 30},\n",
              "  {'max_depth': 10, 'min_samples_leaf': 6, 'min_samples_split': 2},\n",
              "  {'max_depth': 10, 'min_samples_leaf': 6, 'min_samples_split': 5},\n",
              "  {'max_depth': 10, 'min_samples_leaf': 6, 'min_samples_split': 7},\n",
              "  {'max_depth': 10, 'min_samples_leaf': 6, 'min_samples_split': 10},\n",
              "  {'max_depth': 10, 'min_samples_leaf': 6, 'min_samples_split': 15},\n",
              "  {'max_depth': 10, 'min_samples_leaf': 6, 'min_samples_split': 30},\n",
              "  {'max_depth': 10, 'min_samples_leaf': 7, 'min_samples_split': 2},\n",
              "  {'max_depth': 10, 'min_samples_leaf': 7, 'min_samples_split': 5},\n",
              "  {'max_depth': 10, 'min_samples_leaf': 7, 'min_samples_split': 7},\n",
              "  {'max_depth': 10, 'min_samples_leaf': 7, 'min_samples_split': 10},\n",
              "  {'max_depth': 10, 'min_samples_leaf': 7, 'min_samples_split': 15},\n",
              "  {'max_depth': 10, 'min_samples_leaf': 7, 'min_samples_split': 30},\n",
              "  {'max_depth': 10, 'min_samples_leaf': 8, 'min_samples_split': 2},\n",
              "  {'max_depth': 10, 'min_samples_leaf': 8, 'min_samples_split': 5},\n",
              "  {'max_depth': 10, 'min_samples_leaf': 8, 'min_samples_split': 7},\n",
              "  {'max_depth': 10, 'min_samples_leaf': 8, 'min_samples_split': 10},\n",
              "  {'max_depth': 10, 'min_samples_leaf': 8, 'min_samples_split': 15},\n",
              "  {'max_depth': 10, 'min_samples_leaf': 8, 'min_samples_split': 30},\n",
              "  {'max_depth': 10, 'min_samples_leaf': 9, 'min_samples_split': 2},\n",
              "  {'max_depth': 10, 'min_samples_leaf': 9, 'min_samples_split': 5},\n",
              "  {'max_depth': 10, 'min_samples_leaf': 9, 'min_samples_split': 7},\n",
              "  {'max_depth': 10, 'min_samples_leaf': 9, 'min_samples_split': 10},\n",
              "  {'max_depth': 10, 'min_samples_leaf': 9, 'min_samples_split': 15},\n",
              "  {'max_depth': 10, 'min_samples_leaf': 9, 'min_samples_split': 30},\n",
              "  {'max_depth': 10, 'min_samples_leaf': 10, 'min_samples_split': 2},\n",
              "  {'max_depth': 10, 'min_samples_leaf': 10, 'min_samples_split': 5},\n",
              "  {'max_depth': 10, 'min_samples_leaf': 10, 'min_samples_split': 7},\n",
              "  {'max_depth': 10, 'min_samples_leaf': 10, 'min_samples_split': 10},\n",
              "  {'max_depth': 10, 'min_samples_leaf': 10, 'min_samples_split': 15},\n",
              "  {'max_depth': 10, 'min_samples_leaf': 10, 'min_samples_split': 30},\n",
              "  {'max_depth': 10, 'min_samples_leaf': 11, 'min_samples_split': 2},\n",
              "  {'max_depth': 10, 'min_samples_leaf': 11, 'min_samples_split': 5},\n",
              "  {'max_depth': 10, 'min_samples_leaf': 11, 'min_samples_split': 7},\n",
              "  {'max_depth': 10, 'min_samples_leaf': 11, 'min_samples_split': 10},\n",
              "  {'max_depth': 10, 'min_samples_leaf': 11, 'min_samples_split': 15},\n",
              "  {'max_depth': 10, 'min_samples_leaf': 11, 'min_samples_split': 30},\n",
              "  {'max_depth': 10, 'min_samples_leaf': 12, 'min_samples_split': 2},\n",
              "  {'max_depth': 10, 'min_samples_leaf': 12, 'min_samples_split': 5},\n",
              "  {'max_depth': 10, 'min_samples_leaf': 12, 'min_samples_split': 7},\n",
              "  {'max_depth': 10, 'min_samples_leaf': 12, 'min_samples_split': 10},\n",
              "  {'max_depth': 10, 'min_samples_leaf': 12, 'min_samples_split': 15},\n",
              "  {'max_depth': 10, 'min_samples_leaf': 12, 'min_samples_split': 30},\n",
              "  {'max_depth': 10, 'min_samples_leaf': 13, 'min_samples_split': 2},\n",
              "  {'max_depth': 10, 'min_samples_leaf': 13, 'min_samples_split': 5},\n",
              "  {'max_depth': 10, 'min_samples_leaf': 13, 'min_samples_split': 7},\n",
              "  {'max_depth': 10, 'min_samples_leaf': 13, 'min_samples_split': 10},\n",
              "  {'max_depth': 10, 'min_samples_leaf': 13, 'min_samples_split': 15},\n",
              "  {'max_depth': 10, 'min_samples_leaf': 13, 'min_samples_split': 30},\n",
              "  {'max_depth': 10, 'min_samples_leaf': 14, 'min_samples_split': 2},\n",
              "  {'max_depth': 10, 'min_samples_leaf': 14, 'min_samples_split': 5},\n",
              "  {'max_depth': 10, 'min_samples_leaf': 14, 'min_samples_split': 7},\n",
              "  {'max_depth': 10, 'min_samples_leaf': 14, 'min_samples_split': 10},\n",
              "  {'max_depth': 10, 'min_samples_leaf': 14, 'min_samples_split': 15},\n",
              "  {'max_depth': 10, 'min_samples_leaf': 14, 'min_samples_split': 30},\n",
              "  {'max_depth': 10, 'min_samples_leaf': 15, 'min_samples_split': 2},\n",
              "  {'max_depth': 10, 'min_samples_leaf': 15, 'min_samples_split': 5},\n",
              "  {'max_depth': 10, 'min_samples_leaf': 15, 'min_samples_split': 7},\n",
              "  {'max_depth': 10, 'min_samples_leaf': 15, 'min_samples_split': 10},\n",
              "  {'max_depth': 10, 'min_samples_leaf': 15, 'min_samples_split': 15},\n",
              "  {'max_depth': 10, 'min_samples_leaf': 15, 'min_samples_split': 30},\n",
              "  {'max_depth': 11, 'min_samples_leaf': 1, 'min_samples_split': 2},\n",
              "  {'max_depth': 11, 'min_samples_leaf': 1, 'min_samples_split': 5},\n",
              "  {'max_depth': 11, 'min_samples_leaf': 1, 'min_samples_split': 7},\n",
              "  {'max_depth': 11, 'min_samples_leaf': 1, 'min_samples_split': 10},\n",
              "  {'max_depth': 11, 'min_samples_leaf': 1, 'min_samples_split': 15},\n",
              "  {'max_depth': 11, 'min_samples_leaf': 1, 'min_samples_split': 30},\n",
              "  {'max_depth': 11, 'min_samples_leaf': 2, 'min_samples_split': 2},\n",
              "  {'max_depth': 11, 'min_samples_leaf': 2, 'min_samples_split': 5},\n",
              "  {'max_depth': 11, 'min_samples_leaf': 2, 'min_samples_split': 7},\n",
              "  {'max_depth': 11, 'min_samples_leaf': 2, 'min_samples_split': 10},\n",
              "  {'max_depth': 11, 'min_samples_leaf': 2, 'min_samples_split': 15},\n",
              "  {'max_depth': 11, 'min_samples_leaf': 2, 'min_samples_split': 30},\n",
              "  {'max_depth': 11, 'min_samples_leaf': 3, 'min_samples_split': 2},\n",
              "  {'max_depth': 11, 'min_samples_leaf': 3, 'min_samples_split': 5},\n",
              "  {'max_depth': 11, 'min_samples_leaf': 3, 'min_samples_split': 7},\n",
              "  {'max_depth': 11, 'min_samples_leaf': 3, 'min_samples_split': 10},\n",
              "  {'max_depth': 11, 'min_samples_leaf': 3, 'min_samples_split': 15},\n",
              "  {'max_depth': 11, 'min_samples_leaf': 3, 'min_samples_split': 30},\n",
              "  {'max_depth': 11, 'min_samples_leaf': 4, 'min_samples_split': 2},\n",
              "  {'max_depth': 11, 'min_samples_leaf': 4, 'min_samples_split': 5},\n",
              "  {'max_depth': 11, 'min_samples_leaf': 4, 'min_samples_split': 7},\n",
              "  {'max_depth': 11, 'min_samples_leaf': 4, 'min_samples_split': 10},\n",
              "  {'max_depth': 11, 'min_samples_leaf': 4, 'min_samples_split': 15},\n",
              "  {'max_depth': 11, 'min_samples_leaf': 4, 'min_samples_split': 30},\n",
              "  {'max_depth': 11, 'min_samples_leaf': 5, 'min_samples_split': 2},\n",
              "  {'max_depth': 11, 'min_samples_leaf': 5, 'min_samples_split': 5},\n",
              "  {'max_depth': 11, 'min_samples_leaf': 5, 'min_samples_split': 7},\n",
              "  {'max_depth': 11, 'min_samples_leaf': 5, 'min_samples_split': 10},\n",
              "  {'max_depth': 11, 'min_samples_leaf': 5, 'min_samples_split': 15},\n",
              "  {'max_depth': 11, 'min_samples_leaf': 5, 'min_samples_split': 30},\n",
              "  {'max_depth': 11, 'min_samples_leaf': 6, 'min_samples_split': 2},\n",
              "  {'max_depth': 11, 'min_samples_leaf': 6, 'min_samples_split': 5},\n",
              "  {'max_depth': 11, 'min_samples_leaf': 6, 'min_samples_split': 7},\n",
              "  {'max_depth': 11, 'min_samples_leaf': 6, 'min_samples_split': 10},\n",
              "  {'max_depth': 11, 'min_samples_leaf': 6, 'min_samples_split': 15},\n",
              "  {'max_depth': 11, 'min_samples_leaf': 6, 'min_samples_split': 30},\n",
              "  {'max_depth': 11, 'min_samples_leaf': 7, 'min_samples_split': 2},\n",
              "  {'max_depth': 11, 'min_samples_leaf': 7, 'min_samples_split': 5},\n",
              "  {'max_depth': 11, 'min_samples_leaf': 7, 'min_samples_split': 7},\n",
              "  {'max_depth': 11, 'min_samples_leaf': 7, 'min_samples_split': 10},\n",
              "  {'max_depth': 11, 'min_samples_leaf': 7, 'min_samples_split': 15},\n",
              "  {'max_depth': 11, 'min_samples_leaf': 7, 'min_samples_split': 30},\n",
              "  {'max_depth': 11, 'min_samples_leaf': 8, 'min_samples_split': 2},\n",
              "  {'max_depth': 11, 'min_samples_leaf': 8, 'min_samples_split': 5},\n",
              "  {'max_depth': 11, 'min_samples_leaf': 8, 'min_samples_split': 7},\n",
              "  {'max_depth': 11, 'min_samples_leaf': 8, 'min_samples_split': 10},\n",
              "  {'max_depth': 11, 'min_samples_leaf': 8, 'min_samples_split': 15},\n",
              "  {'max_depth': 11, 'min_samples_leaf': 8, 'min_samples_split': 30},\n",
              "  {'max_depth': 11, 'min_samples_leaf': 9, 'min_samples_split': 2},\n",
              "  {'max_depth': 11, 'min_samples_leaf': 9, 'min_samples_split': 5},\n",
              "  {'max_depth': 11, 'min_samples_leaf': 9, 'min_samples_split': 7},\n",
              "  {'max_depth': 11, 'min_samples_leaf': 9, 'min_samples_split': 10},\n",
              "  {'max_depth': 11, 'min_samples_leaf': 9, 'min_samples_split': 15},\n",
              "  {'max_depth': 11, 'min_samples_leaf': 9, 'min_samples_split': 30},\n",
              "  {'max_depth': 11, 'min_samples_leaf': 10, 'min_samples_split': 2},\n",
              "  {'max_depth': 11, 'min_samples_leaf': 10, 'min_samples_split': 5},\n",
              "  {'max_depth': 11, 'min_samples_leaf': 10, 'min_samples_split': 7},\n",
              "  {'max_depth': 11, 'min_samples_leaf': 10, 'min_samples_split': 10},\n",
              "  {'max_depth': 11, 'min_samples_leaf': 10, 'min_samples_split': 15},\n",
              "  {'max_depth': 11, 'min_samples_leaf': 10, 'min_samples_split': 30},\n",
              "  {'max_depth': 11, 'min_samples_leaf': 11, 'min_samples_split': 2},\n",
              "  {'max_depth': 11, 'min_samples_leaf': 11, 'min_samples_split': 5},\n",
              "  {'max_depth': 11, 'min_samples_leaf': 11, 'min_samples_split': 7},\n",
              "  {'max_depth': 11, 'min_samples_leaf': 11, 'min_samples_split': 10},\n",
              "  {'max_depth': 11, 'min_samples_leaf': 11, 'min_samples_split': 15},\n",
              "  {'max_depth': 11, 'min_samples_leaf': 11, 'min_samples_split': 30},\n",
              "  {'max_depth': 11, 'min_samples_leaf': 12, 'min_samples_split': 2},\n",
              "  {'max_depth': 11, 'min_samples_leaf': 12, 'min_samples_split': 5},\n",
              "  {'max_depth': 11, 'min_samples_leaf': 12, 'min_samples_split': 7},\n",
              "  {'max_depth': 11, 'min_samples_leaf': 12, 'min_samples_split': 10},\n",
              "  {'max_depth': 11, 'min_samples_leaf': 12, 'min_samples_split': 15},\n",
              "  {'max_depth': 11, 'min_samples_leaf': 12, 'min_samples_split': 30},\n",
              "  {'max_depth': 11, 'min_samples_leaf': 13, 'min_samples_split': 2},\n",
              "  {'max_depth': 11, 'min_samples_leaf': 13, 'min_samples_split': 5},\n",
              "  {'max_depth': 11, 'min_samples_leaf': 13, 'min_samples_split': 7},\n",
              "  {'max_depth': 11, 'min_samples_leaf': 13, 'min_samples_split': 10},\n",
              "  {'max_depth': 11, 'min_samples_leaf': 13, 'min_samples_split': 15},\n",
              "  {'max_depth': 11, 'min_samples_leaf': 13, 'min_samples_split': 30},\n",
              "  {'max_depth': 11, 'min_samples_leaf': 14, 'min_samples_split': 2},\n",
              "  {'max_depth': 11, 'min_samples_leaf': 14, 'min_samples_split': 5},\n",
              "  {'max_depth': 11, 'min_samples_leaf': 14, 'min_samples_split': 7},\n",
              "  {'max_depth': 11, 'min_samples_leaf': 14, 'min_samples_split': 10},\n",
              "  {'max_depth': 11, 'min_samples_leaf': 14, 'min_samples_split': 15},\n",
              "  {'max_depth': 11, 'min_samples_leaf': 14, 'min_samples_split': 30},\n",
              "  {'max_depth': 11, 'min_samples_leaf': 15, 'min_samples_split': 2},\n",
              "  {'max_depth': 11, 'min_samples_leaf': 15, 'min_samples_split': 5},\n",
              "  {'max_depth': 11, 'min_samples_leaf': 15, 'min_samples_split': 7},\n",
              "  {'max_depth': 11, 'min_samples_leaf': 15, 'min_samples_split': 10},\n",
              "  {'max_depth': 11, 'min_samples_leaf': 15, 'min_samples_split': 15},\n",
              "  {'max_depth': 11, 'min_samples_leaf': 15, 'min_samples_split': 30},\n",
              "  {'max_depth': 12, 'min_samples_leaf': 1, 'min_samples_split': 2},\n",
              "  {'max_depth': 12, 'min_samples_leaf': 1, 'min_samples_split': 5},\n",
              "  {'max_depth': 12, 'min_samples_leaf': 1, 'min_samples_split': 7},\n",
              "  {'max_depth': 12, 'min_samples_leaf': 1, 'min_samples_split': 10},\n",
              "  {'max_depth': 12, 'min_samples_leaf': 1, 'min_samples_split': 15},\n",
              "  {'max_depth': 12, 'min_samples_leaf': 1, 'min_samples_split': 30},\n",
              "  {'max_depth': 12, 'min_samples_leaf': 2, 'min_samples_split': 2},\n",
              "  {'max_depth': 12, 'min_samples_leaf': 2, 'min_samples_split': 5},\n",
              "  {'max_depth': 12, 'min_samples_leaf': 2, 'min_samples_split': 7},\n",
              "  {'max_depth': 12, 'min_samples_leaf': 2, 'min_samples_split': 10},\n",
              "  ...],\n",
              " 'split0_test_score': array([0.75630252, 0.75630252, 0.75630252, ..., 0.76470588, 0.76470588,\n",
              "        0.76470588]),\n",
              " 'split1_test_score': array([0.80508475, 0.80508475, 0.80508475, ..., 0.78813559, 0.78813559,\n",
              "        0.78813559]),\n",
              " 'split2_test_score': array([0.84745763, 0.84745763, 0.84745763, ..., 0.81355932, 0.81355932,\n",
              "        0.81355932]),\n",
              " 'split3_test_score': array([0.81355932, 0.81355932, 0.81355932, ..., 0.84745763, 0.84745763,\n",
              "        0.84745763]),\n",
              " 'split4_test_score': array([0.76271186, 0.76271186, 0.76271186, ..., 0.79661017, 0.79661017,\n",
              "        0.79661017]),\n",
              " 'split5_test_score': array([0.79661017, 0.79661017, 0.79661017, ..., 0.81355932, 0.81355932,\n",
              "        0.81355932]),\n",
              " 'mean_test_score': array([0.79695437, 0.79695437, 0.79695437, ..., 0.80400465, 0.80400465,\n",
              "        0.80400465]),\n",
              " 'std_test_score': array([0.03086974, 0.03086974, 0.03086974, ..., 0.02556574, 0.02556574,\n",
              "        0.02556574]),\n",
              " 'rank_test_score': array([4137, 4137, 4137, ..., 3255, 3255, 3255], dtype=int32)}"
            ]
          },
          "metadata": {},
          "execution_count": 32
        }
      ]
    },
    {
      "cell_type": "code",
      "source": [
        "# display the rando result \n",
        "grid_cv_data = pd.DataFrame(grid.cv_results_)\n",
        "grid_cv_data"
      ],
      "metadata": {
        "colab": {
          "base_uri": "https://localhost:8080/",
          "height": 835
        },
        "id": "No_RXujYcy_J",
        "outputId": "656a87f4-35a3-4f8a-e55d-e362aff4ebee"
      },
      "execution_count": 34,
      "outputs": [
        {
          "output_type": "execute_result",
          "data": {
            "text/plain": [
              "      mean_fit_time  std_fit_time  mean_score_time  std_score_time  \\\n",
              "0          0.005054      0.001787         0.002769        0.000668   \n",
              "1          0.005777      0.001791         0.002616        0.000152   \n",
              "2          0.003471      0.000348         0.002669        0.000197   \n",
              "3          0.004038      0.001305         0.002421        0.000177   \n",
              "4          0.004886      0.001962         0.002585        0.000218   \n",
              "...             ...           ...              ...             ...   \n",
              "4495       0.002836      0.000178         0.001691        0.000209   \n",
              "4496       0.002759      0.000184         0.001592        0.000156   \n",
              "4497       0.002755      0.000078         0.001678        0.000178   \n",
              "4498       0.002729      0.000137         0.001462        0.000011   \n",
              "4499       0.002719      0.000230         0.001698        0.000323   \n",
              "\n",
              "     param_max_depth param_min_samples_leaf param_min_samples_split  \\\n",
              "0                  1                      1                       2   \n",
              "1                  1                      1                       5   \n",
              "2                  1                      1                       7   \n",
              "3                  1                      1                      10   \n",
              "4                  1                      1                      15   \n",
              "...              ...                    ...                     ...   \n",
              "4495              50                     15                       5   \n",
              "4496              50                     15                       7   \n",
              "4497              50                     15                      10   \n",
              "4498              50                     15                      15   \n",
              "4499              50                     15                      30   \n",
              "\n",
              "                                                 params  split0_test_score  \\\n",
              "0     {'max_depth': 1, 'min_samples_leaf': 1, 'min_s...           0.756303   \n",
              "1     {'max_depth': 1, 'min_samples_leaf': 1, 'min_s...           0.756303   \n",
              "2     {'max_depth': 1, 'min_samples_leaf': 1, 'min_s...           0.756303   \n",
              "3     {'max_depth': 1, 'min_samples_leaf': 1, 'min_s...           0.756303   \n",
              "4     {'max_depth': 1, 'min_samples_leaf': 1, 'min_s...           0.756303   \n",
              "...                                                 ...                ...   \n",
              "4495  {'max_depth': 50, 'min_samples_leaf': 15, 'min...           0.764706   \n",
              "4496  {'max_depth': 50, 'min_samples_leaf': 15, 'min...           0.764706   \n",
              "4497  {'max_depth': 50, 'min_samples_leaf': 15, 'min...           0.764706   \n",
              "4498  {'max_depth': 50, 'min_samples_leaf': 15, 'min...           0.764706   \n",
              "4499  {'max_depth': 50, 'min_samples_leaf': 15, 'min...           0.764706   \n",
              "\n",
              "      split1_test_score  split2_test_score  split3_test_score  \\\n",
              "0              0.805085           0.847458           0.813559   \n",
              "1              0.805085           0.847458           0.813559   \n",
              "2              0.805085           0.847458           0.813559   \n",
              "3              0.805085           0.847458           0.813559   \n",
              "4              0.805085           0.847458           0.813559   \n",
              "...                 ...                ...                ...   \n",
              "4495           0.788136           0.813559           0.847458   \n",
              "4496           0.788136           0.813559           0.847458   \n",
              "4497           0.788136           0.813559           0.847458   \n",
              "4498           0.788136           0.813559           0.847458   \n",
              "4499           0.788136           0.813559           0.847458   \n",
              "\n",
              "      split4_test_score  split5_test_score  mean_test_score  std_test_score  \\\n",
              "0              0.762712           0.796610         0.796954        0.030870   \n",
              "1              0.762712           0.796610         0.796954        0.030870   \n",
              "2              0.762712           0.796610         0.796954        0.030870   \n",
              "3              0.762712           0.796610         0.796954        0.030870   \n",
              "4              0.762712           0.796610         0.796954        0.030870   \n",
              "...                 ...                ...              ...             ...   \n",
              "4495           0.796610           0.813559         0.804005        0.025566   \n",
              "4496           0.796610           0.813559         0.804005        0.025566   \n",
              "4497           0.796610           0.813559         0.804005        0.025566   \n",
              "4498           0.796610           0.813559         0.804005        0.025566   \n",
              "4499           0.796610           0.813559         0.804005        0.025566   \n",
              "\n",
              "      rank_test_score  \n",
              "0                4137  \n",
              "1                4137  \n",
              "2                4137  \n",
              "3                4137  \n",
              "4                4137  \n",
              "...               ...  \n",
              "4495             3255  \n",
              "4496             3255  \n",
              "4497             3255  \n",
              "4498             3255  \n",
              "4499             3255  \n",
              "\n",
              "[4500 rows x 17 columns]"
            ],
            "text/html": [
              "\n",
              "  <div id=\"df-347164fd-2a12-4e1c-a29d-f9ab5d848360\">\n",
              "    <div class=\"colab-df-container\">\n",
              "      <div>\n",
              "<style scoped>\n",
              "    .dataframe tbody tr th:only-of-type {\n",
              "        vertical-align: middle;\n",
              "    }\n",
              "\n",
              "    .dataframe tbody tr th {\n",
              "        vertical-align: top;\n",
              "    }\n",
              "\n",
              "    .dataframe thead th {\n",
              "        text-align: right;\n",
              "    }\n",
              "</style>\n",
              "<table border=\"1\" class=\"dataframe\">\n",
              "  <thead>\n",
              "    <tr style=\"text-align: right;\">\n",
              "      <th></th>\n",
              "      <th>mean_fit_time</th>\n",
              "      <th>std_fit_time</th>\n",
              "      <th>mean_score_time</th>\n",
              "      <th>std_score_time</th>\n",
              "      <th>param_max_depth</th>\n",
              "      <th>param_min_samples_leaf</th>\n",
              "      <th>param_min_samples_split</th>\n",
              "      <th>params</th>\n",
              "      <th>split0_test_score</th>\n",
              "      <th>split1_test_score</th>\n",
              "      <th>split2_test_score</th>\n",
              "      <th>split3_test_score</th>\n",
              "      <th>split4_test_score</th>\n",
              "      <th>split5_test_score</th>\n",
              "      <th>mean_test_score</th>\n",
              "      <th>std_test_score</th>\n",
              "      <th>rank_test_score</th>\n",
              "    </tr>\n",
              "  </thead>\n",
              "  <tbody>\n",
              "    <tr>\n",
              "      <th>0</th>\n",
              "      <td>0.005054</td>\n",
              "      <td>0.001787</td>\n",
              "      <td>0.002769</td>\n",
              "      <td>0.000668</td>\n",
              "      <td>1</td>\n",
              "      <td>1</td>\n",
              "      <td>2</td>\n",
              "      <td>{'max_depth': 1, 'min_samples_leaf': 1, 'min_s...</td>\n",
              "      <td>0.756303</td>\n",
              "      <td>0.805085</td>\n",
              "      <td>0.847458</td>\n",
              "      <td>0.813559</td>\n",
              "      <td>0.762712</td>\n",
              "      <td>0.796610</td>\n",
              "      <td>0.796954</td>\n",
              "      <td>0.030870</td>\n",
              "      <td>4137</td>\n",
              "    </tr>\n",
              "    <tr>\n",
              "      <th>1</th>\n",
              "      <td>0.005777</td>\n",
              "      <td>0.001791</td>\n",
              "      <td>0.002616</td>\n",
              "      <td>0.000152</td>\n",
              "      <td>1</td>\n",
              "      <td>1</td>\n",
              "      <td>5</td>\n",
              "      <td>{'max_depth': 1, 'min_samples_leaf': 1, 'min_s...</td>\n",
              "      <td>0.756303</td>\n",
              "      <td>0.805085</td>\n",
              "      <td>0.847458</td>\n",
              "      <td>0.813559</td>\n",
              "      <td>0.762712</td>\n",
              "      <td>0.796610</td>\n",
              "      <td>0.796954</td>\n",
              "      <td>0.030870</td>\n",
              "      <td>4137</td>\n",
              "    </tr>\n",
              "    <tr>\n",
              "      <th>2</th>\n",
              "      <td>0.003471</td>\n",
              "      <td>0.000348</td>\n",
              "      <td>0.002669</td>\n",
              "      <td>0.000197</td>\n",
              "      <td>1</td>\n",
              "      <td>1</td>\n",
              "      <td>7</td>\n",
              "      <td>{'max_depth': 1, 'min_samples_leaf': 1, 'min_s...</td>\n",
              "      <td>0.756303</td>\n",
              "      <td>0.805085</td>\n",
              "      <td>0.847458</td>\n",
              "      <td>0.813559</td>\n",
              "      <td>0.762712</td>\n",
              "      <td>0.796610</td>\n",
              "      <td>0.796954</td>\n",
              "      <td>0.030870</td>\n",
              "      <td>4137</td>\n",
              "    </tr>\n",
              "    <tr>\n",
              "      <th>3</th>\n",
              "      <td>0.004038</td>\n",
              "      <td>0.001305</td>\n",
              "      <td>0.002421</td>\n",
              "      <td>0.000177</td>\n",
              "      <td>1</td>\n",
              "      <td>1</td>\n",
              "      <td>10</td>\n",
              "      <td>{'max_depth': 1, 'min_samples_leaf': 1, 'min_s...</td>\n",
              "      <td>0.756303</td>\n",
              "      <td>0.805085</td>\n",
              "      <td>0.847458</td>\n",
              "      <td>0.813559</td>\n",
              "      <td>0.762712</td>\n",
              "      <td>0.796610</td>\n",
              "      <td>0.796954</td>\n",
              "      <td>0.030870</td>\n",
              "      <td>4137</td>\n",
              "    </tr>\n",
              "    <tr>\n",
              "      <th>4</th>\n",
              "      <td>0.004886</td>\n",
              "      <td>0.001962</td>\n",
              "      <td>0.002585</td>\n",
              "      <td>0.000218</td>\n",
              "      <td>1</td>\n",
              "      <td>1</td>\n",
              "      <td>15</td>\n",
              "      <td>{'max_depth': 1, 'min_samples_leaf': 1, 'min_s...</td>\n",
              "      <td>0.756303</td>\n",
              "      <td>0.805085</td>\n",
              "      <td>0.847458</td>\n",
              "      <td>0.813559</td>\n",
              "      <td>0.762712</td>\n",
              "      <td>0.796610</td>\n",
              "      <td>0.796954</td>\n",
              "      <td>0.030870</td>\n",
              "      <td>4137</td>\n",
              "    </tr>\n",
              "    <tr>\n",
              "      <th>...</th>\n",
              "      <td>...</td>\n",
              "      <td>...</td>\n",
              "      <td>...</td>\n",
              "      <td>...</td>\n",
              "      <td>...</td>\n",
              "      <td>...</td>\n",
              "      <td>...</td>\n",
              "      <td>...</td>\n",
              "      <td>...</td>\n",
              "      <td>...</td>\n",
              "      <td>...</td>\n",
              "      <td>...</td>\n",
              "      <td>...</td>\n",
              "      <td>...</td>\n",
              "      <td>...</td>\n",
              "      <td>...</td>\n",
              "      <td>...</td>\n",
              "    </tr>\n",
              "    <tr>\n",
              "      <th>4495</th>\n",
              "      <td>0.002836</td>\n",
              "      <td>0.000178</td>\n",
              "      <td>0.001691</td>\n",
              "      <td>0.000209</td>\n",
              "      <td>50</td>\n",
              "      <td>15</td>\n",
              "      <td>5</td>\n",
              "      <td>{'max_depth': 50, 'min_samples_leaf': 15, 'min...</td>\n",
              "      <td>0.764706</td>\n",
              "      <td>0.788136</td>\n",
              "      <td>0.813559</td>\n",
              "      <td>0.847458</td>\n",
              "      <td>0.796610</td>\n",
              "      <td>0.813559</td>\n",
              "      <td>0.804005</td>\n",
              "      <td>0.025566</td>\n",
              "      <td>3255</td>\n",
              "    </tr>\n",
              "    <tr>\n",
              "      <th>4496</th>\n",
              "      <td>0.002759</td>\n",
              "      <td>0.000184</td>\n",
              "      <td>0.001592</td>\n",
              "      <td>0.000156</td>\n",
              "      <td>50</td>\n",
              "      <td>15</td>\n",
              "      <td>7</td>\n",
              "      <td>{'max_depth': 50, 'min_samples_leaf': 15, 'min...</td>\n",
              "      <td>0.764706</td>\n",
              "      <td>0.788136</td>\n",
              "      <td>0.813559</td>\n",
              "      <td>0.847458</td>\n",
              "      <td>0.796610</td>\n",
              "      <td>0.813559</td>\n",
              "      <td>0.804005</td>\n",
              "      <td>0.025566</td>\n",
              "      <td>3255</td>\n",
              "    </tr>\n",
              "    <tr>\n",
              "      <th>4497</th>\n",
              "      <td>0.002755</td>\n",
              "      <td>0.000078</td>\n",
              "      <td>0.001678</td>\n",
              "      <td>0.000178</td>\n",
              "      <td>50</td>\n",
              "      <td>15</td>\n",
              "      <td>10</td>\n",
              "      <td>{'max_depth': 50, 'min_samples_leaf': 15, 'min...</td>\n",
              "      <td>0.764706</td>\n",
              "      <td>0.788136</td>\n",
              "      <td>0.813559</td>\n",
              "      <td>0.847458</td>\n",
              "      <td>0.796610</td>\n",
              "      <td>0.813559</td>\n",
              "      <td>0.804005</td>\n",
              "      <td>0.025566</td>\n",
              "      <td>3255</td>\n",
              "    </tr>\n",
              "    <tr>\n",
              "      <th>4498</th>\n",
              "      <td>0.002729</td>\n",
              "      <td>0.000137</td>\n",
              "      <td>0.001462</td>\n",
              "      <td>0.000011</td>\n",
              "      <td>50</td>\n",
              "      <td>15</td>\n",
              "      <td>15</td>\n",
              "      <td>{'max_depth': 50, 'min_samples_leaf': 15, 'min...</td>\n",
              "      <td>0.764706</td>\n",
              "      <td>0.788136</td>\n",
              "      <td>0.813559</td>\n",
              "      <td>0.847458</td>\n",
              "      <td>0.796610</td>\n",
              "      <td>0.813559</td>\n",
              "      <td>0.804005</td>\n",
              "      <td>0.025566</td>\n",
              "      <td>3255</td>\n",
              "    </tr>\n",
              "    <tr>\n",
              "      <th>4499</th>\n",
              "      <td>0.002719</td>\n",
              "      <td>0.000230</td>\n",
              "      <td>0.001698</td>\n",
              "      <td>0.000323</td>\n",
              "      <td>50</td>\n",
              "      <td>15</td>\n",
              "      <td>30</td>\n",
              "      <td>{'max_depth': 50, 'min_samples_leaf': 15, 'min...</td>\n",
              "      <td>0.764706</td>\n",
              "      <td>0.788136</td>\n",
              "      <td>0.813559</td>\n",
              "      <td>0.847458</td>\n",
              "      <td>0.796610</td>\n",
              "      <td>0.813559</td>\n",
              "      <td>0.804005</td>\n",
              "      <td>0.025566</td>\n",
              "      <td>3255</td>\n",
              "    </tr>\n",
              "  </tbody>\n",
              "</table>\n",
              "<p>4500 rows × 17 columns</p>\n",
              "</div>\n",
              "      <button class=\"colab-df-convert\" onclick=\"convertToInteractive('df-347164fd-2a12-4e1c-a29d-f9ab5d848360')\"\n",
              "              title=\"Convert this dataframe to an interactive table.\"\n",
              "              style=\"display:none;\">\n",
              "        \n",
              "  <svg xmlns=\"http://www.w3.org/2000/svg\" height=\"24px\"viewBox=\"0 0 24 24\"\n",
              "       width=\"24px\">\n",
              "    <path d=\"M0 0h24v24H0V0z\" fill=\"none\"/>\n",
              "    <path d=\"M18.56 5.44l.94 2.06.94-2.06 2.06-.94-2.06-.94-.94-2.06-.94 2.06-2.06.94zm-11 1L8.5 8.5l.94-2.06 2.06-.94-2.06-.94L8.5 2.5l-.94 2.06-2.06.94zm10 10l.94 2.06.94-2.06 2.06-.94-2.06-.94-.94-2.06-.94 2.06-2.06.94z\"/><path d=\"M17.41 7.96l-1.37-1.37c-.4-.4-.92-.59-1.43-.59-.52 0-1.04.2-1.43.59L10.3 9.45l-7.72 7.72c-.78.78-.78 2.05 0 2.83L4 21.41c.39.39.9.59 1.41.59.51 0 1.02-.2 1.41-.59l7.78-7.78 2.81-2.81c.8-.78.8-2.07 0-2.86zM5.41 20L4 18.59l7.72-7.72 1.47 1.35L5.41 20z\"/>\n",
              "  </svg>\n",
              "      </button>\n",
              "      \n",
              "  <style>\n",
              "    .colab-df-container {\n",
              "      display:flex;\n",
              "      flex-wrap:wrap;\n",
              "      gap: 12px;\n",
              "    }\n",
              "\n",
              "    .colab-df-convert {\n",
              "      background-color: #E8F0FE;\n",
              "      border: none;\n",
              "      border-radius: 50%;\n",
              "      cursor: pointer;\n",
              "      display: none;\n",
              "      fill: #1967D2;\n",
              "      height: 32px;\n",
              "      padding: 0 0 0 0;\n",
              "      width: 32px;\n",
              "    }\n",
              "\n",
              "    .colab-df-convert:hover {\n",
              "      background-color: #E2EBFA;\n",
              "      box-shadow: 0px 1px 2px rgba(60, 64, 67, 0.3), 0px 1px 3px 1px rgba(60, 64, 67, 0.15);\n",
              "      fill: #174EA6;\n",
              "    }\n",
              "\n",
              "    [theme=dark] .colab-df-convert {\n",
              "      background-color: #3B4455;\n",
              "      fill: #D2E3FC;\n",
              "    }\n",
              "\n",
              "    [theme=dark] .colab-df-convert:hover {\n",
              "      background-color: #434B5C;\n",
              "      box-shadow: 0px 1px 3px 1px rgba(0, 0, 0, 0.15);\n",
              "      filter: drop-shadow(0px 1px 2px rgba(0, 0, 0, 0.3));\n",
              "      fill: #FFFFFF;\n",
              "    }\n",
              "  </style>\n",
              "\n",
              "      <script>\n",
              "        const buttonEl =\n",
              "          document.querySelector('#df-347164fd-2a12-4e1c-a29d-f9ab5d848360 button.colab-df-convert');\n",
              "        buttonEl.style.display =\n",
              "          google.colab.kernel.accessAllowed ? 'block' : 'none';\n",
              "\n",
              "        async function convertToInteractive(key) {\n",
              "          const element = document.querySelector('#df-347164fd-2a12-4e1c-a29d-f9ab5d848360');\n",
              "          const dataTable =\n",
              "            await google.colab.kernel.invokeFunction('convertToInteractive',\n",
              "                                                     [key], {});\n",
              "          if (!dataTable) return;\n",
              "\n",
              "          const docLinkHtml = 'Like what you see? Visit the ' +\n",
              "            '<a target=\"_blank\" href=https://colab.research.google.com/notebooks/data_table.ipynb>data table notebook</a>'\n",
              "            + ' to learn more about interactive tables.';\n",
              "          element.innerHTML = '';\n",
              "          dataTable['output_type'] = 'display_data';\n",
              "          await google.colab.output.renderOutput(dataTable, element);\n",
              "          const docLink = document.createElement('div');\n",
              "          docLink.innerHTML = docLinkHtml;\n",
              "          element.appendChild(docLink);\n",
              "        }\n",
              "      </script>\n",
              "    </div>\n",
              "  </div>\n",
              "  "
            ]
          },
          "metadata": {},
          "execution_count": 34
        }
      ]
    },
    {
      "cell_type": "code",
      "source": [
        "grid.best_estimator_"
      ],
      "metadata": {
        "colab": {
          "base_uri": "https://localhost:8080/"
        },
        "id": "xddgPGaxlzPB",
        "outputId": "156c592d-3a7a-4e2a-8ae2-b69694ec7a26"
      },
      "execution_count": 35,
      "outputs": [
        {
          "output_type": "execute_result",
          "data": {
            "text/plain": [
              "DecisionTreeClassifier(max_depth=4, min_samples_leaf=8)"
            ]
          },
          "metadata": {},
          "execution_count": 35
        }
      ]
    },
    {
      "cell_type": "code",
      "source": [
        "grid.best_params_"
      ],
      "metadata": {
        "colab": {
          "base_uri": "https://localhost:8080/"
        },
        "id": "Ozs0R-ZeoE84",
        "outputId": "6a32d9c0-e553-4ee5-a3db-cb81b89493a9"
      },
      "execution_count": 36,
      "outputs": [
        {
          "output_type": "execute_result",
          "data": {
            "text/plain": [
              "{'max_depth': 4, 'min_samples_leaf': 8, 'min_samples_split': 2}"
            ]
          },
          "metadata": {},
          "execution_count": 36
        }
      ]
    },
    {
      "cell_type": "code",
      "source": [
        "grid.best_index_"
      ],
      "metadata": {
        "colab": {
          "base_uri": "https://localhost:8080/"
        },
        "id": "FaZ5uZyZoo5k",
        "outputId": "731b33f3-b40f-4c7e-b37a-5921bf62ba89"
      },
      "execution_count": 37,
      "outputs": [
        {
          "output_type": "execute_result",
          "data": {
            "text/plain": [
              "312"
            ]
          },
          "metadata": {},
          "execution_count": 37
        }
      ]
    },
    {
      "cell_type": "code",
      "source": [
        "model_grid=grid.best_estimator_"
      ],
      "metadata": {
        "id": "dK4RtxqmzOV6"
      },
      "execution_count": 38,
      "outputs": []
    },
    {
      "cell_type": "code",
      "source": [
        "model_grid.score(X_test,y_test)"
      ],
      "metadata": {
        "colab": {
          "base_uri": "https://localhost:8080/"
        },
        "id": "gYIlGjRN0Jmb",
        "outputId": "817fb19d-22b4-45df-cc9e-d92948298dcd"
      },
      "execution_count": 39,
      "outputs": [
        {
          "output_type": "execute_result",
          "data": {
            "text/plain": [
              "0.8033707865168539"
            ]
          },
          "metadata": {},
          "execution_count": 39
        }
      ]
    },
    {
      "cell_type": "code",
      "source": [
        "from sklearn.metrics import confusion_matrix\n",
        "cm=confusion_matrix(y_test,  model_grid.predict(X_test))  \n",
        "cm"
      ],
      "metadata": {
        "colab": {
          "base_uri": "https://localhost:8080/"
        },
        "id": "rDhSa5h40tUT",
        "outputId": "fe1a8652-c139-4e66-a480-b872f4d40858"
      },
      "execution_count": 40,
      "outputs": [
        {
          "output_type": "execute_result",
          "data": {
            "text/plain": [
              "array([[99, 12],\n",
              "       [23, 44]])"
            ]
          },
          "metadata": {},
          "execution_count": 40
        }
      ]
    },
    {
      "cell_type": "code",
      "source": [
        "import matplotlib.pyplot as plt\n",
        "import numpy\n",
        "from sklearn import metrics\n",
        "\n",
        "actual = y_test\n",
        "predicted = model_grid.predict(X_test)\n",
        "\n",
        "confusion_matrix = metrics.confusion_matrix(actual, predicted)\n",
        "\n",
        "cm_display = metrics.ConfusionMatrixDisplay(confusion_matrix = confusion_matrix, display_labels = [False, True])\n",
        "\n",
        "cm_display.plot()\n",
        "plt.show()"
      ],
      "metadata": {
        "colab": {
          "base_uri": "https://localhost:8080/",
          "height": 279
        },
        "id": "xVU597690fhT",
        "outputId": "9121fac6-f3c1-4d3a-9a53-e144dc1388b0"
      },
      "execution_count": 41,
      "outputs": [
        {
          "output_type": "display_data",
          "data": {
            "text/plain": [
              "<Figure size 432x288 with 2 Axes>"
            ],
            "image/png": "[encoded data removed]"
          },
          "metadata": {
            "needs_background": "light"
          }
        }
      ]
    },
    {
      "cell_type": "markdown",
      "source": [
        "**RandomizedSearchCV**"
      ],
      "metadata": {
        "id": "KyIwxcbwmeM8"
      }
    },
    {
      "cell_type": "code",
      "source": [
        "from sklearn.model_selection import RandomizedSearchCV\n",
        "\n",
        "grid_param={'max_depth':np.arange(1,50),\n",
        "            'min_samples_leaf':np.arange(1,15),\n",
        "            'min_samples_split':(2, 5, 7, 10, 15, 30)\n",
        "            \n",
        "            }\n",
        "\n",
        "rando = RandomizedSearchCV(DecisionTreeClassifier(), grid_param , \n",
        "\n",
        "                           n_iter=200)\n",
        "\n",
        "rando.fit(X_train,y_train)"
      ],
      "metadata": {
        "colab": {
          "base_uri": "https://localhost:8080/"
        },
        "id": "pW7agk8Bmd3o",
        "outputId": "5293fa38-439e-470e-9c19-5a0203450751"
      },
      "execution_count": 42,
      "outputs": [
        {
          "output_type": "execute_result",
          "data": {
            "text/plain": [
              "RandomizedSearchCV(estimator=DecisionTreeClassifier(), n_iter=200,\n",
              "                   param_distributions={'max_depth': array([ 1,  2,  3,  4,  5,  6,  7,  8,  9, 10, 11, 12, 13, 14, 15, 16, 17,\n",
              "       18, 19, 20, 21, 22, 23, 24, 25, 26, 27, 28, 29, 30, 31, 32, 33, 34,\n",
              "       35, 36, 37, 38, 39, 40, 41, 42, 43, 44, 45, 46, 47, 48, 49]),\n",
              "                                        'min_samples_leaf': array([ 1,  2,  3,  4,  5,  6,  7,  8,  9, 10, 11, 12, 13, 14]),\n",
              "                                        'min_samples_split': (2, 5, 7, 10, 15,\n",
              "                                                              30)})"
            ]
          },
          "metadata": {},
          "execution_count": 42
        }
      ]
    },
    {
      "cell_type": "markdown",
      "source": [
        "rando.fit(X,y)\n",
        "\n",
        "best score: 0.8252840728750079\n",
        "best parameters: {'min_samples_split': 7, 'min_samples_leaf': 6, 'max_depth': 8}\n",
        "\n"
      ],
      "metadata": {
        "id": "X3H-EWHFxtQf"
      }
    },
    {
      "cell_type": "code",
      "source": [
        "print(\"best score:\",rando.best_score_)\n",
        "print(\"best parameters:\",rando.best_params_)"
      ],
      "metadata": {
        "colab": {
          "base_uri": "https://localhost:8080/"
        },
        "id": "DW1gO2KWnKY_",
        "outputId": "8abce591-a110-49cf-dd1a-0db48816865b"
      },
      "execution_count": 43,
      "outputs": [
        {
          "output_type": "stream",
          "name": "stdout",
          "text": [
            "best score: 0.8278893217460792\n",
            "best parameters: {'min_samples_split': 5, 'min_samples_leaf': 10, 'max_depth': 4}\n"
          ]
        }
      ]
    },
    {
      "cell_type": "code",
      "source": [
        "rando.best_estimator_"
      ],
      "metadata": {
        "colab": {
          "base_uri": "https://localhost:8080/"
        },
        "id": "GOiU3Bf7nwQG",
        "outputId": "114be562-5911-4f76-c439-bd2f8fc507a0"
      },
      "execution_count": 44,
      "outputs": [
        {
          "output_type": "execute_result",
          "data": {
            "text/plain": [
              "DecisionTreeClassifier(max_depth=4, min_samples_leaf=10, min_samples_split=5)"
            ]
          },
          "metadata": {},
          "execution_count": 44
        }
      ]
    },
    {
      "cell_type": "code",
      "source": [
        "rando.best_params_"
      ],
      "metadata": {
        "colab": {
          "base_uri": "https://localhost:8080/"
        },
        "id": "GJPZcGVeoKfp",
        "outputId": "54b01071-226e-4bb5-825e-980f5b03acf6"
      },
      "execution_count": 45,
      "outputs": [
        {
          "output_type": "execute_result",
          "data": {
            "text/plain": [
              "{'min_samples_split': 5, 'min_samples_leaf': 10, 'max_depth': 4}"
            ]
          },
          "metadata": {},
          "execution_count": 45
        }
      ]
    },
    {
      "cell_type": "code",
      "source": [
        "rando.best_index_"
      ],
      "metadata": {
        "colab": {
          "base_uri": "https://localhost:8080/"
        },
        "id": "TzoisnoUoi_K",
        "outputId": "949d9d4b-adb5-4616-b1d3-b93c3fee59d4"
      },
      "execution_count": 46,
      "outputs": [
        {
          "output_type": "execute_result",
          "data": {
            "text/plain": [
              "158"
            ]
          },
          "metadata": {},
          "execution_count": 46
        }
      ]
    },
    {
      "cell_type": "code",
      "source": [
        "model_rando=rando.best_estimator_"
      ],
      "metadata": {
        "id": "zF-y4KIx1LLr"
      },
      "execution_count": 49,
      "outputs": []
    },
    {
      "cell_type": "code",
      "source": [
        "model_rando.score(X_test,y_test)"
      ],
      "metadata": {
        "colab": {
          "base_uri": "https://localhost:8080/"
        },
        "id": "STu2CJDM1RR5",
        "outputId": "4303b053-996e-4b86-a1c3-360e2d618c53"
      },
      "execution_count": 48,
      "outputs": [
        {
          "output_type": "execute_result",
          "data": {
            "text/plain": [
              "0.7808988764044944"
            ]
          },
          "metadata": {},
          "execution_count": 48
        }
      ]
    },
    {
      "cell_type": "code",
      "source": [
        "# display the rando result \n",
        "rando_cv_data = pd.DataFrame(rando.cv_results_)\n",
        "rando_cv_data"
      ],
      "metadata": {
        "colab": {
          "base_uri": "https://localhost:8080/",
          "height": 1000
        },
        "id": "elFqCRg-dfhe",
        "outputId": "b6d8366a-3c24-46cd-a2af-aa2d2e7c8d21"
      },
      "execution_count": 50,
      "outputs": [
        {
          "output_type": "execute_result",
          "data": {
            "text/plain": [
              "     mean_fit_time  std_fit_time  mean_score_time  std_score_time  \\\n",
              "0         0.003431      0.001091         0.001783        0.000275   \n",
              "1         0.002848      0.000176         0.001591        0.000116   \n",
              "2         0.003227      0.000391         0.001935        0.000214   \n",
              "3         0.002789      0.000045         0.001834        0.000263   \n",
              "4         0.003056      0.000404         0.001708        0.000089   \n",
              "..             ...           ...              ...             ...   \n",
              "195       0.002466      0.000081         0.001752        0.000222   \n",
              "196       0.003000      0.000337         0.001613        0.000167   \n",
              "197       0.002563      0.000115         0.001570        0.000139   \n",
              "198       0.002280      0.000190         0.001454        0.000035   \n",
              "199       0.002688      0.000095         0.001511        0.000068   \n",
              "\n",
              "    param_min_samples_split param_min_samples_leaf param_max_depth  \\\n",
              "0                        10                      5              20   \n",
              "1                         2                      9              30   \n",
              "2                        30                      6              39   \n",
              "3                         2                     12              36   \n",
              "4                         5                     13              33   \n",
              "..                      ...                    ...             ...   \n",
              "195                      30                      6               3   \n",
              "196                       5                     12               9   \n",
              "197                       5                     13              25   \n",
              "198                       2                      3               1   \n",
              "199                      30                      3               8   \n",
              "\n",
              "                                                params  split0_test_score  \\\n",
              "0    {'min_samples_split': 10, 'min_samples_leaf': ...           0.774648   \n",
              "1    {'min_samples_split': 2, 'min_samples_leaf': 9...           0.802817   \n",
              "2    {'min_samples_split': 30, 'min_samples_leaf': ...           0.767606   \n",
              "3    {'min_samples_split': 2, 'min_samples_leaf': 1...           0.767606   \n",
              "4    {'min_samples_split': 5, 'min_samples_leaf': 1...           0.760563   \n",
              "..                                                 ...                ...   \n",
              "195  {'min_samples_split': 30, 'min_samples_leaf': ...           0.774648   \n",
              "196  {'min_samples_split': 5, 'min_samples_leaf': 1...           0.767606   \n",
              "197  {'min_samples_split': 5, 'min_samples_leaf': 1...           0.760563   \n",
              "198  {'min_samples_split': 2, 'min_samples_leaf': 3...           0.753521   \n",
              "199  {'min_samples_split': 30, 'min_samples_leaf': ...           0.767606   \n",
              "\n",
              "     split1_test_score  split2_test_score  split3_test_score  \\\n",
              "0             0.830986           0.873239           0.767606   \n",
              "1             0.845070           0.873239           0.753521   \n",
              "2             0.823944           0.852113           0.746479   \n",
              "3             0.823944           0.859155           0.774648   \n",
              "4             0.823944           0.845070           0.774648   \n",
              "..                 ...                ...                ...   \n",
              "195           0.859155           0.830986           0.753521   \n",
              "196           0.823944           0.859155           0.774648   \n",
              "197           0.823944           0.845070           0.774648   \n",
              "198           0.838028           0.852113           0.725352   \n",
              "199           0.852113           0.845070           0.746479   \n",
              "\n",
              "     split4_test_score  mean_test_score  std_test_score  rank_test_score  \n",
              "0             0.815603         0.812416        0.038701               47  \n",
              "1             0.808511         0.816632        0.040627               25  \n",
              "2             0.794326         0.796893        0.037913              167  \n",
              "3             0.787234         0.802517        0.034340              112  \n",
              "4             0.787234         0.798292        0.031467              133  \n",
              "..                 ...              ...             ...              ...  \n",
              "195           0.801418         0.803946        0.037912              110  \n",
              "196           0.787234         0.802517        0.034340              112  \n",
              "197           0.787234         0.798292        0.031467              133  \n",
              "198           0.815603         0.796923        0.049174              162  \n",
              "199           0.787234         0.799700        0.042008              126  \n",
              "\n",
              "[200 rows x 16 columns]"
            ],
            "text/html": [
              "\n",
              "  <div id=\"df-ac8866f6-3cba-4c0b-9143-96d49855ba8c\">\n",
              "    <div class=\"colab-df-container\">\n",
              "      <div>\n",
              "<style scoped>\n",
              "    .dataframe tbody tr th:only-of-type {\n",
              "        vertical-align: middle;\n",
              "    }\n",
              "\n",
              "    .dataframe tbody tr th {\n",
              "        vertical-align: top;\n",
              "    }\n",
              "\n",
              "    .dataframe thead th {\n",
              "        text-align: right;\n",
              "    }\n",
              "</style>\n",
              "<table border=\"1\" class=\"dataframe\">\n",
              "  <thead>\n",
              "    <tr style=\"text-align: right;\">\n",
              "      <th></th>\n",
              "      <th>mean_fit_time</th>\n",
              "      <th>std_fit_time</th>\n",
              "      <th>mean_score_time</th>\n",
              "      <th>std_score_time</th>\n",
              "      <th>param_min_samples_split</th>\n",
              "      <th>param_min_samples_leaf</th>\n",
              "      <th>param_max_depth</th>\n",
              "      <th>params</th>\n",
              "      <th>split0_test_score</th>\n",
              "      <th>split1_test_score</th>\n",
              "      <th>split2_test_score</th>\n",
              "      <th>split3_test_score</th>\n",
              "      <th>split4_test_score</th>\n",
              "      <th>mean_test_score</th>\n",
              "      <th>std_test_score</th>\n",
              "      <th>rank_test_score</th>\n",
              "    </tr>\n",
              "  </thead>\n",
              "  <tbody>\n",
              "    <tr>\n",
              "      <th>0</th>\n",
              "      <td>0.003431</td>\n",
              "      <td>0.001091</td>\n",
              "      <td>0.001783</td>\n",
              "      <td>0.000275</td>\n",
              "      <td>10</td>\n",
              "      <td>5</td>\n",
              "      <td>20</td>\n",
              "      <td>{'min_samples_split': 10, 'min_samples_leaf': ...</td>\n",
              "      <td>0.774648</td>\n",
              "      <td>0.830986</td>\n",
              "      <td>0.873239</td>\n",
              "      <td>0.767606</td>\n",
              "      <td>0.815603</td>\n",
              "      <td>0.812416</td>\n",
              "      <td>0.038701</td>\n",
              "      <td>47</td>\n",
              "    </tr>\n",
              "    <tr>\n",
              "      <th>1</th>\n",
              "      <td>0.002848</td>\n",
              "      <td>0.000176</td>\n",
              "      <td>0.001591</td>\n",
              "      <td>0.000116</td>\n",
              "      <td>2</td>\n",
              "      <td>9</td>\n",
              "      <td>30</td>\n",
              "      <td>{'min_samples_split': 2, 'min_samples_leaf': 9...</td>\n",
              "      <td>0.802817</td>\n",
              "      <td>0.845070</td>\n",
              "      <td>0.873239</td>\n",
              "      <td>0.753521</td>\n",
              "      <td>0.808511</td>\n",
              "      <td>0.816632</td>\n",
              "      <td>0.040627</td>\n",
              "      <td>25</td>\n",
              "    </tr>\n",
              "    <tr>\n",
              "      <th>2</th>\n",
              "      <td>0.003227</td>\n",
              "      <td>0.000391</td>\n",
              "      <td>0.001935</td>\n",
              "      <td>0.000214</td>\n",
              "      <td>30</td>\n",
              "      <td>6</td>\n",
              "      <td>39</td>\n",
              "      <td>{'min_samples_split': 30, 'min_samples_leaf': ...</td>\n",
              "      <td>0.767606</td>\n",
              "      <td>0.823944</td>\n",
              "      <td>0.852113</td>\n",
              "      <td>0.746479</td>\n",
              "      <td>0.794326</td>\n",
              "      <td>0.796893</td>\n",
              "      <td>0.037913</td>\n",
              "      <td>167</td>\n",
              "    </tr>\n",
              "    <tr>\n",
              "      <th>3</th>\n",
              "      <td>0.002789</td>\n",
              "      <td>0.000045</td>\n",
              "      <td>0.001834</td>\n",
              "      <td>0.000263</td>\n",
              "      <td>2</td>\n",
              "      <td>12</td>\n",
              "      <td>36</td>\n",
              "      <td>{'min_samples_split': 2, 'min_samples_leaf': 1...</td>\n",
              "      <td>0.767606</td>\n",
              "      <td>0.823944</td>\n",
              "      <td>0.859155</td>\n",
              "      <td>0.774648</td>\n",
              "      <td>0.787234</td>\n",
              "      <td>0.802517</td>\n",
              "      <td>0.034340</td>\n",
              "      <td>112</td>\n",
              "    </tr>\n",
              "    <tr>\n",
              "      <th>4</th>\n",
              "      <td>0.003056</td>\n",
              "      <td>0.000404</td>\n",
              "      <td>0.001708</td>\n",
              "      <td>0.000089</td>\n",
              "      <td>5</td>\n",
              "      <td>13</td>\n",
              "      <td>33</td>\n",
              "      <td>{'min_samples_split': 5, 'min_samples_leaf': 1...</td>\n",
              "      <td>0.760563</td>\n",
              "      <td>0.823944</td>\n",
              "      <td>0.845070</td>\n",
              "      <td>0.774648</td>\n",
              "      <td>0.787234</td>\n",
              "      <td>0.798292</td>\n",
              "      <td>0.031467</td>\n",
              "      <td>133</td>\n",
              "    </tr>\n",
              "    <tr>\n",
              "      <th>...</th>\n",
              "      <td>...</td>\n",
              "      <td>...</td>\n",
              "      <td>...</td>\n",
              "      <td>...</td>\n",
              "      <td>...</td>\n",
              "      <td>...</td>\n",
              "      <td>...</td>\n",
              "      <td>...</td>\n",
              "      <td>...</td>\n",
              "      <td>...</td>\n",
              "      <td>...</td>\n",
              "      <td>...</td>\n",
              "      <td>...</td>\n",
              "      <td>...</td>\n",
              "      <td>...</td>\n",
              "      <td>...</td>\n",
              "    </tr>\n",
              "    <tr>\n",
              "      <th>195</th>\n",
              "      <td>0.002466</td>\n",
              "      <td>0.000081</td>\n",
              "      <td>0.001752</td>\n",
              "      <td>0.000222</td>\n",
              "      <td>30</td>\n",
              "      <td>6</td>\n",
              "      <td>3</td>\n",
              "      <td>{'min_samples_split': 30, 'min_samples_leaf': ...</td>\n",
              "      <td>0.774648</td>\n",
              "      <td>0.859155</td>\n",
              "      <td>0.830986</td>\n",
              "      <td>0.753521</td>\n",
              "      <td>0.801418</td>\n",
              "      <td>0.803946</td>\n",
              "      <td>0.037912</td>\n",
              "      <td>110</td>\n",
              "    </tr>\n",
              "    <tr>\n",
              "      <th>196</th>\n",
              "      <td>0.003000</td>\n",
              "      <td>0.000337</td>\n",
              "      <td>0.001613</td>\n",
              "      <td>0.000167</td>\n",
              "      <td>5</td>\n",
              "      <td>12</td>\n",
              "      <td>9</td>\n",
              "      <td>{'min_samples_split': 5, 'min_samples_leaf': 1...</td>\n",
              "      <td>0.767606</td>\n",
              "      <td>0.823944</td>\n",
              "      <td>0.859155</td>\n",
              "      <td>0.774648</td>\n",
              "      <td>0.787234</td>\n",
              "      <td>0.802517</td>\n",
              "      <td>0.034340</td>\n",
              "      <td>112</td>\n",
              "    </tr>\n",
              "    <tr>\n",
              "      <th>197</th>\n",
              "      <td>0.002563</td>\n",
              "      <td>0.000115</td>\n",
              "      <td>0.001570</td>\n",
              "      <td>0.000139</td>\n",
              "      <td>5</td>\n",
              "      <td>13</td>\n",
              "      <td>25</td>\n",
              "      <td>{'min_samples_split': 5, 'min_samples_leaf': 1...</td>\n",
              "      <td>0.760563</td>\n",
              "      <td>0.823944</td>\n",
              "      <td>0.845070</td>\n",
              "      <td>0.774648</td>\n",
              "      <td>0.787234</td>\n",
              "      <td>0.798292</td>\n",
              "      <td>0.031467</td>\n",
              "      <td>133</td>\n",
              "    </tr>\n",
              "    <tr>\n",
              "      <th>198</th>\n",
              "      <td>0.002280</td>\n",
              "      <td>0.000190</td>\n",
              "      <td>0.001454</td>\n",
              "      <td>0.000035</td>\n",
              "      <td>2</td>\n",
              "      <td>3</td>\n",
              "      <td>1</td>\n",
              "      <td>{'min_samples_split': 2, 'min_samples_leaf': 3...</td>\n",
              "      <td>0.753521</td>\n",
              "      <td>0.838028</td>\n",
              "      <td>0.852113</td>\n",
              "      <td>0.725352</td>\n",
              "      <td>0.815603</td>\n",
              "      <td>0.796923</td>\n",
              "      <td>0.049174</td>\n",
              "      <td>162</td>\n",
              "    </tr>\n",
              "    <tr>\n",
              "      <th>199</th>\n",
              "      <td>0.002688</td>\n",
              "      <td>0.000095</td>\n",
              "      <td>0.001511</td>\n",
              "      <td>0.000068</td>\n",
              "      <td>30</td>\n",
              "      <td>3</td>\n",
              "      <td>8</td>\n",
              "      <td>{'min_samples_split': 30, 'min_samples_leaf': ...</td>\n",
              "      <td>0.767606</td>\n",
              "      <td>0.852113</td>\n",
              "      <td>0.845070</td>\n",
              "      <td>0.746479</td>\n",
              "      <td>0.787234</td>\n",
              "      <td>0.799700</td>\n",
              "      <td>0.042008</td>\n",
              "      <td>126</td>\n",
              "    </tr>\n",
              "  </tbody>\n",
              "</table>\n",
              "<p>200 rows × 16 columns</p>\n",
              "</div>\n",
              "      <button class=\"colab-df-convert\" onclick=\"convertToInteractive('df-ac8866f6-3cba-4c0b-9143-96d49855ba8c')\"\n",
              "              title=\"Convert this dataframe to an interactive table.\"\n",
              "              style=\"display:none;\">\n",
              "        \n",
              "  <svg xmlns=\"http://www.w3.org/2000/svg\" height=\"24px\"viewBox=\"0 0 24 24\"\n",
              "       width=\"24px\">\n",
              "    <path d=\"M0 0h24v24H0V0z\" fill=\"none\"/>\n",
              "    <path d=\"M18.56 5.44l.94 2.06.94-2.06 2.06-.94-2.06-.94-.94-2.06-.94 2.06-2.06.94zm-11 1L8.5 8.5l.94-2.06 2.06-.94-2.06-.94L8.5 2.5l-.94 2.06-2.06.94zm10 10l.94 2.06.94-2.06 2.06-.94-2.06-.94-.94-2.06-.94 2.06-2.06.94z\"/><path d=\"M17.41 7.96l-1.37-1.37c-.4-.4-.92-.59-1.43-.59-.52 0-1.04.2-1.43.59L10.3 9.45l-7.72 7.72c-.78.78-.78 2.05 0 2.83L4 21.41c.39.39.9.59 1.41.59.51 0 1.02-.2 1.41-.59l7.78-7.78 2.81-2.81c.8-.78.8-2.07 0-2.86zM5.41 20L4 18.59l7.72-7.72 1.47 1.35L5.41 20z\"/>\n",
              "  </svg>\n",
              "      </button>\n",
              "      \n",
              "  <style>\n",
              "    .colab-df-container {\n",
              "      display:flex;\n",
              "      flex-wrap:wrap;\n",
              "      gap: 12px;\n",
              "    }\n",
              "\n",
              "    .colab-df-convert {\n",
              "      background-color: #E8F0FE;\n",
              "      border: none;\n",
              "      border-radius: 50%;\n",
              "      cursor: pointer;\n",
              "      display: none;\n",
              "      fill: #1967D2;\n",
              "      height: 32px;\n",
              "      padding: 0 0 0 0;\n",
              "      width: 32px;\n",
              "    }\n",
              "\n",
              "    .colab-df-convert:hover {\n",
              "      background-color: #E2EBFA;\n",
              "      box-shadow: 0px 1px 2px rgba(60, 64, 67, 0.3), 0px 1px 3px 1px rgba(60, 64, 67, 0.15);\n",
              "      fill: #174EA6;\n",
              "    }\n",
              "\n",
              "    [theme=dark] .colab-df-convert {\n",
              "      background-color: #3B4455;\n",
              "      fill: #D2E3FC;\n",
              "    }\n",
              "\n",
              "    [theme=dark] .colab-df-convert:hover {\n",
              "      background-color: #434B5C;\n",
              "      box-shadow: 0px 1px 3px 1px rgba(0, 0, 0, 0.15);\n",
              "      filter: drop-shadow(0px 1px 2px rgba(0, 0, 0, 0.3));\n",
              "      fill: #FFFFFF;\n",
              "    }\n",
              "  </style>\n",
              "\n",
              "      <script>\n",
              "        const buttonEl =\n",
              "          document.querySelector('#df-ac8866f6-3cba-4c0b-9143-96d49855ba8c button.colab-df-convert');\n",
              "        buttonEl.style.display =\n",
              "          google.colab.kernel.accessAllowed ? 'block' : 'none';\n",
              "\n",
              "        async function convertToInteractive(key) {\n",
              "          const element = document.querySelector('#df-ac8866f6-3cba-4c0b-9143-96d49855ba8c');\n",
              "          const dataTable =\n",
              "            await google.colab.kernel.invokeFunction('convertToInteractive',\n",
              "                                                     [key], {});\n",
              "          if (!dataTable) return;\n",
              "\n",
              "          const docLinkHtml = 'Like what you see? Visit the ' +\n",
              "            '<a target=\"_blank\" href=https://colab.research.google.com/notebooks/data_table.ipynb>data table notebook</a>'\n",
              "            + ' to learn more about interactive tables.';\n",
              "          element.innerHTML = '';\n",
              "          dataTable['output_type'] = 'display_data';\n",
              "          await google.colab.output.renderOutput(dataTable, element);\n",
              "          const docLink = document.createElement('div');\n",
              "          docLink.innerHTML = docLinkHtml;\n",
              "          element.appendChild(docLink);\n",
              "        }\n",
              "      </script>\n",
              "    </div>\n",
              "  </div>\n",
              "  "
            ]
          },
          "metadata": {},
          "execution_count": 50
        }
      ]
    },
    {
      "cell_type": "code",
      "source": [
        "#conclure\n",
        "print(\"grid score:\",grid.best_score_)\n",
        "print(\"rando score:\",rando.best_score_)"
      ],
      "metadata": {
        "colab": {
          "base_uri": "https://localhost:8080/"
        },
        "id": "J5JgdONlp1qX",
        "outputId": "8cd63de7-4320-421b-de41-5124bf5ae8b8"
      },
      "execution_count": null,
      "outputs": [
        {
          "output_type": "stream",
          "name": "stdout",
          "text": [
            "grid score: 0.8392204339362864\n",
            "rando score: 0.8491159724303265\n"
          ]
        }
      ]
    },
    {
      "cell_type": "code",
      "source": [
        "print(\"grid best parameter:\",grid.best_params_)\n",
        "print(\"rando best parameter:\",rando.best_params_)"
      ],
      "metadata": {
        "colab": {
          "base_uri": "https://localhost:8080/"
        },
        "id": "UxS37G77qPzZ",
        "outputId": "e1371a9c-87b5-4f58-a3d6-4d122c9e8d15"
      },
      "execution_count": null,
      "outputs": [
        {
          "output_type": "stream",
          "name": "stdout",
          "text": [
            "grid best parameter: {'max_depth': 4, 'min_samples_leaf': 8, 'min_samples_split': 2}\n",
            "rando best parameter: {'min_samples_split': 15, 'min_samples_leaf': 3, 'max_depth': 8, 'criterion': 'entropy'}\n"
          ]
        }
      ]
    },
    {
      "cell_type": "markdown",
      "source": [
        "# ***en plus***"
      ],
      "metadata": {
        "id": "j1mKR6PSq3wW"
      }
    },
    {
      "cell_type": "code",
      "source": [
        "from sklearn.model_selection import GridSearchCV\n",
        "param_dict={'criterion':['gini','entropy','log_loss'],\n",
        "            'max_depth':np.arange(1,50),\n",
        "            'min_samples_leaf':np.arange(1,15),\n",
        "            'min_samples_split':(2, 5, 7, 10, 15, 30)\n",
        "             }"
      ],
      "metadata": {
        "id": "i65tAPf6q7y0"
      },
      "execution_count": null,
      "outputs": []
    },
    {
      "cell_type": "code",
      "source": [
        "grid_1=GridSearchCV(DecisionTreeClassifier(), param_dict , cv=6)"
      ],
      "metadata": {
        "id": "CL1yb-Osrt-c"
      },
      "execution_count": null,
      "outputs": []
    },
    {
      "cell_type": "code",
      "source": [
        "grid_1.fit(X_train,y_train)"
      ],
      "metadata": {
        "colab": {
          "base_uri": "https://localhost:8080/"
        },
        "id": "HAHAULmVryoz",
        "outputId": "1e457e7d-387a-47b9-df64-7c0b00337ab8"
      },
      "execution_count": null,
      "outputs": [
        {
          "output_type": "execute_result",
          "data": {
            "text/plain": [
              "GridSearchCV(cv=6, estimator=DecisionTreeClassifier(),\n",
              "             param_grid={'criterion': ['gini', 'entropy', 'log_loss'],\n",
              "                         'max_depth': array([ 1,  2,  3,  4,  5,  6,  7,  8,  9, 10, 11, 12, 13, 14, 15, 16, 17,\n",
              "       18, 19, 20, 21, 22, 23, 24, 25, 26, 27, 28, 29, 30, 31, 32, 33, 34,\n",
              "       35, 36, 37, 38, 39, 40, 41, 42, 43, 44, 45, 46, 47, 48, 49]),\n",
              "                         'min_samples_leaf': array([ 1,  2,  3,  4,  5,  6,  7,  8,  9, 10, 11, 12, 13, 14]),\n",
              "                         'min_samples_split': (2, 5, 7, 10, 15, 30)})"
            ]
          },
          "metadata": {},
          "execution_count": 90
        }
      ]
    },
    {
      "cell_type": "code",
      "source": [
        "print(\"best score:\",grid_1.best_score_)\n",
        "print(\"best parameters:\",grid_1.best_params_)"
      ],
      "metadata": {
        "colab": {
          "base_uri": "https://localhost:8080/"
        },
        "id": "P8VS4JY6sBq1",
        "outputId": "423e39eb-2eea-49ac-aa4c-d59d47a296b9"
      },
      "execution_count": null,
      "outputs": [
        {
          "output_type": "stream",
          "name": "stdout",
          "text": [
            "best score: 0.8420571618477899\n",
            "best parameters: {'criterion': 'entropy', 'max_depth': 8, 'min_samples_leaf': 4, 'min_samples_split': 2}\n"
          ]
        }
      ]
    },
    {
      "cell_type": "markdown",
      "source": [
        "![image.png](data:image/png;base64,iVBORw0KGgoAAAANSUhEUgAABGcAAAH7CAYAAABhS/L3AAAgAElEQVR4XuzdDYxeR334+1+ki1S3grTJlfhD0jQ4NtmQle4FSkypLgpy+SeAo7qNVRVUFKnbNHDZukbR1hhQo1SAcVdRXHehou5WilqlVWU3rmwg/qdWXK6gN/lTev/ShmzANpFJoC/EvKTgQAi5Z87L88ycM3Nmzutznme/W1HwnpeZ+cycs8/8nnm55IUXXnhRop8XX4z/a/Tf+f9t+3d8AT8IIIAAAggggAACCCCAAAIIIIBAjwIqhpH9J4pryPPPPy8/+MEP5IorrqiUC3XNn/7pn8o73/lOueqqqypdW/Xk9fV1+eM//mP5gz/4A5mbmzMuv0QFZ7IC6QGYn/zkJ4VgjX5lFsypmhnORwABBBBAAAEEEEAAAQQQQAABBJoIZHEMFbtQ/1HBme9///vyC7/wC8G3VYGZAwcOyNe//nXZtGmT7N27t9MATWlw5sc//nEcnFE/WaHyo2hcgRgCNMF1zokIIIAAAggggAACCCCAAAIIINCSQD44E8U25L/+679k8+bNQSnogZnsgq4DNKXBmSi6FAdnssCM/t8qg/qoGr2EBGaC6puTEEAAAQQQQAABBBBAAAEEEECgZQFbcEaNnLn22mu9KWWBmW9961vyq7/6q/K3f/u38pu/+ZvyD//wD/G1XY2gKQ3O/OhHP3pRBWRUlEllbMg/L3/5y4ecPfKGAAIIIIAAAggggAACCCCAAAI9CLimNfnWjdEDMyoIo/6drQPz0z/90/E0p64CNKXBmeeee+5FtXhOFKSR7373uz0Q1k+C4Ex9O65EAAEEEEAAAQQQQAABBBBAYFYE6gRn8oEZFcjJB0zOnz/fSoDGttCwLTij0lMLEl8SDft5UY2a+eEPfxhHjIb8Q3BmyLVD3hBAAAEEEEAAAQQQQAABBBDoR6BucCa/M1NZwOT3fu/3ai8QXDUQdMmzzz77YhaYyXZo6oeyeioEZ6qbcQUCCCCAAAIIIIAAAggggAACsyZQJzhjMyibatTUrMoUqkuiqUwvXrx4UaIgjbzkJS9pmnan1xOc6ZSXmyOAAAIIIIAAAggggAACCCAwFQLTEJxRkKGLD19y4cKFODij1ptRi98M+YfgzJBrh7whgAACCCCAAAIIIIAAAggg0I/AtARn9ADN17/+9RFOftvuS5555pkXVSTnO9/5jrz0pS/tR7FmKgRnasJxGQIIIIAAAggggAACCCCAAAIzJDBNwZl8gCYfmFHHL4m2z46DM9/+9rfl0ksvHXRVEZwZdPWQOQQQQAABBBBAAAEEEEAAAQR6EZi24EwWoMkvSJxhxcGZaMcmiaY3yc/93M/1glg3EYIzdeW4DgEEEEAAAQQQQAABBBBAAIHZEWgrODMUkUv+8z//Mw7OqJEzBGeGUi3kAwEEEEAAAQQQQAABBBBAAAEEXAJZcEb99wsvvCDPP/98vPjuz//8z08l2ig4o0bOXHbZZY0K8fnPf17UNlTnz5+XbKEbBXPVVVfJ6173Onnta1/b6P6MnGnEx8UIIIAAAggggAACCCCAAAIIzISAHpz5yU9+MgrOXHnllVNZvlaCM1/60pfkb/7mbyRaXLgU4fLLL5d3vvOdcaCmzg/BmTpqXIMAAggggAACCCCAAAIIIIDAbAmo4Iz6UYEZ9b+zkTNqRtDQd6K21UTj4IwKyjz00EOVavmtb31rHKSp+kNwpqoY5yOAAAIIIIAAAggggAACCCAwewJZcEb9twrQ/PjHP5bnnnsuXk9XzeAZ+m7U+RppFJypE5jJMlAnQENwZvYeKEqEAAIIIIAAAggggAACCCCAQB2B/LozP/zhD+XZZ5+NZ/WodXXVGjTZyJosmFMnnT6uqR2cUVOZVlZWGuVxcXGx0hSnoODM2e/K/zP/rHw/zdnPLL9c/q/FlzTKZx8Xn1zcJPvn1uT04jXW5M6u3CjzS48kxxaOycWVm/rI1nDTOLkom/bPydrpRbGLmVmftN+k0080zsrKjfOyJMvBbu02gOflKzf+u5yTl8ovn740+v/85FppeP1UbP+TlU7a3fq+i7LRX1uTrQdSRwABBBBAAAEEZk9AHz2TTW1So2fUpkcqSPOjH/0onvKU/Qw5QFM7OLO0tORcY0YtwPPUU095a16tQbO8vOw9LzvBH5z5gfzrpgsix66U105Z7MIXnMkM4k7++j6CMzU7p5P26zJ9fxsiOFP2svnm4lNyZq5BMFe1yZ2royS2LbuDrfZ8VKifQvtPr03jt+r+1dMPfhVXPDEwOOPwU+16pxQD0q7fV8wcpyOAAAIIIIAAAghMuYBtepNaf0ZNc1K7OKmfIQdlMv5awRm1K9Pq6rgTkq9LNaLm/vvvly984Qveaq4yesYbnIlHzTwvWy7+7/IKb8rDOsHfsU7y22XnflgintwQnCkAhbahqarnHjPbJDiTjIwSWV47Ldngt5PRyMBoeKF0Eic22n8S/Diyq2owqC9cf3DG5nd2ZVE++7YVWTyjgl5RzP2ibnlSFpNfMhqnr2okHQQQQAABBBBAYMAC+RE0+lSmaQjMKNpawZm/+Iu/KA28/OVf/mVcbSqIo4I0Fy9edFbjm970Jvmd3/mdoGpuEpx5duXf5P+Ty+X/lGfk80s/jtMzpzylUy5G3zz/lPwfWZDn5LfkweMvkc1rz8q56PjLj0Vbju+8IP8u/1v0u/8mrw6ZV5NNKdG+2V7QOhZmxzr7Fnyb0dnzBWfib5KzmNm24tQV47gsGJ0d1TlakNXo/xZG06fG37xnnatjUbl3Rueon2LenJWoOpLH56KyLImambVwLLuPfo/8N/9m/tS9zfyrLJhl9JXf51feCIsjE/T6K+TP4u9L35t/x8gCY8qUXght+pt/WlWZf8P6j/Kknr/suZOFy+TmlZ8e59T7fCXP5vf3Zc+dujT/7JU8v2n6ruffyJvhl8unq4GcXZEb54/ILi0wkz+1/PlKg66eaYvu9h8WqPC1r/rvh7S0zpFDWftZk7n90bS6+B2oP/u+/FuOx+brss8I2AT9GeEkBBBAAAEEEEAAgRkV0AM0qojTMp0pq45awZk//MM/LJ22lAVnVCLnz58XFcxxTXNSqyjffffdQc3DFZxxdq5kHGAZnbMtXe8iHmVzUV4eB1eSjt2/7xpPaYjPP7IpWRtDdR53PhcFZa6U/3b8Kflfq6pjeHkUZVAdxrApVL4RL+PgTPRlu1oXZN6+rozrPvkh/vl/q+vu3Xp69C1zfHxtHNwYdd6zoILR4SwGi3zlMSo07bSpYMYtx1UASXXMohDPQrYORfGb//j+R3aN1kYpTGHIjZzxlT/LT6V8a4XwXdc0fe/1seFaIVinO4eMnLGXw+ffsP61TMbP1frLisGZ0udrHHhRz6Casmg8n+J5ftPgTBwcsj7/SQbrjpzJt1Xby6z8+RpfEfp8R5FKY82lLLCSDxhmd/a1r2bvhyiV0vY5Dvxl+TPKGRBosb3PmN4Z9GeTkxBAAAEEEEAAgQ0lkB8lMy2jZlQl1QrO/PZv/3ZpBevBGXWiWiG5bJpT/nzXzZuOnBkFW+IE1Po035OfUcEZsU2H0o6fiYIz+18SB2pk1Ll8SSGgU4aSdM7mc0Pzx1ckHetjsuvITmdgRp1t77ypb5b3y5z+zb2vw5Pr3BU7mPo9LdMSqkwr0s6NIk/pmjlbxlMx3vZZy7fgevqW8hnph5ffF2Rx1WF5/TVN3399SOAl5Bxr+a1tpcX611CdwZnS50vSkTN6ILTC8xuNbDODObnnPx351k5wJhnlkR9dVv58+YIzvvafXq+PXDEWDfe3r0K7r/R+SEa1uRc097w/4nznpy3lcmSc458mtaE+gVBYBBBAAAEEEEAAgYLANAVlssz3FpxR226raU62n96CM/lv7LPMqJExaedwvINMNpUi6hBK8+DMKLDimLownlJQPl3I3bleEm3GVFoy7V5xBzx3jjb1pjxo0XFwZuu9lp2XtDS3WKYw6J1HW9ligWrTwnzvNOfUoKbpe68P64zWDs5YA216mg3rv+vgjBY8tT6/2Ugb1/Of5q+d4MzopWIETEODgsHBs9LgaBogMkbB9fx+MB6mFoIzok1tsr0PfA8vxxFAAAEEEEAAAQQQGLhAreBM1WlNavHgr3/961YKtbPTH/3RHwUxNR454+qcWRcSbnfkjFnAdJi/NnVp1LFWgYqS6SvBI2csnSNjwVDbN+POXaAads6bjpyRYnDGHIlgGRngaFGhneTyBpmvv6bp+64PW/C1dnBmGkfO6M+s7/nNRs50FJyJhrNZ1pwx6zS03YUGZ7xTqYw81WhfNd4P7gWJfe8P35ozydOYTW1am9vPjnVBfzE5CQEEEEAAAQQQQGCaBGoFZ6Z1QeDCWhejmiquWaG+Rf9fa+n6NNrImrrTmvKNIt8J0zvWyQgNc+eX7PrgNSmMBPOdn9w369G57YycyaZ05Bbz9QVn1KY2ud1mzDVxcsGJbPqGNvKnsCZNp8GZolfT9H3X+6bFqeJ6O+zOei4Gf2z+6/u0nXGqTGvT6qKtaU3x8ynZgr2e5zdK35puro0Upz6Fv8qTkW96u28xOJMuJj4Kfljav/X9UrZmU6vvh2xBY9e0TV9wJlvs2xzpNtqtKVtwPV3XZtu2R2Reb4vh1cSZCCCAAAIIIIAAAggMVqBWcCZkK+2yaUy6Rl9bafs7Z2qkjNqBKf3JFg5V/2wcnCnu9GPbaUhfsyGbQpMsoGm5XuXLWFfCco5+3NhJJeoEHdslR/aLrJ5eFNX3mWxwRuVAX6sj+md+tyN96o86tm9d5vfPjRYMjkqQLKSsz+0alT/Er+wZ9ddf8/Q99ZfVkVbA8W5aWd5z96hU/jJ/f+e6/A2X30kpPTvbtcn7fCVrzqid0kY/+R2f4jWkHM9vdJH/+Vd3zuWzkEZ5KQu7KWk7ooU8X0bbzT/fZe3fM2UxyXWX74c0hTioPK6k4m5v5cE9Y9pg/ArIbw3uCP4O9s8rGUMAAQQQQAABBBBAIFygVnBG3X5paUmeeeYZa0pqBybXNCb9gssvv1yWl5eDc+ud1hR8J05EAIHpEdDWf4rWj+EHAQQQQAABBBBAAAEEEJg1gdrBmS996UuysrLSyKPKqBmVEMGZRtxcjMCUChCcmdKKI9sIIIAAAggggAACCCAQKFA7OKPur6YuPfTQQ4FJmae99a1vlXe+852VriU4U4mLk4MEctN58tcYU8eCbshJrQsQnGmdlBsigAACCCCAAAIIIIDAoAQaBWfqBmjqBGZUWgRnBtV2yAwCCCCAAAIIIIAAAggggAACCLQg0Dg4o/KgpjipUTSuNWiyfKo1ZtRomde97nW1sk5wphYbFyGAAAIIIIAAAggggAACCCCAwIAFWgnOZOVTQRr1n/Pnz8tTTz0V//rKK6+Uq666Kg7I1A3KZPcnODPglkTWEEAAAQQQQAABBBBAAAEEEECglkCrwZlaOahwEcGZClicigACCCCAAAIIIIAAAggggAACUyFAcGYqqolMIoAAAggggAACCCCAAAIIIIDArAoQnJnVmqVcCCCAAAIIIIAAAggggAACCCAwFQIEZ4ZaTScXZdP+OVk7vSjXjPJ4VlZunJclWc79vs9CjLeeXjh2UVZu0tN+UtZ+7c2yLnfJWx9YkEtbz1bX9/dluOv0m93/7MqNMr/0SFKIbbY20uz+Il1f3/X9ffU77ce78/vu6q/JQ3f/SwL0rvtk18ff0ivWpNNPClvmm76bR4/fmpxeHL+5e8UiMQQQQAABBBBAAIGpFCA4M9Rq6yA4c3Jxk+yfa9Zp8N3j/Aeukkelq85beedTpf341s/JTQtXd1SrTTu//mw18YuDM+v75KIZMTMSbXL/7oMzIs3y1/z6shrqvn3524fvjK794iDJV3f3HpzJyj3p9EN8fe9IXx1yHAEEEEAAAQQQQGBjChCcGWq9W4MzzTLbvNOgvh1eEFk9La4vhUM6L81K4b56GjrPvrI38es+OOPLffPjTcqvUm96PcGZ8uDqpIMjk04/pH01f882f464AwIIIIAAAggggMD0CcxIcCYZUr6+75jIzp2yGtfDNlleM4MI6kPzzuRg9LMgxy6uSDYrR3VsF6IrV6P/n00N2bZsjjJxXq8CKcfnovSWRM0qWTiW5aOYh7ImYt5fFWE8NcWYsrJwzD46QuVjXMDo8iT/xrV6Blz3cWbSH5wpfQQe/oAcue3+0SkvvWs8ykV1uv5fuVfeKO8fTZ/IH3dNqzCmPOgZyE2/iDtWWfKvN6deNUk/STIdVZPO/IjmfsgN5z8uV2nHvrf7PpHbbpNvxL97vcx97gGZv7rKS6N8WltIcMadWj7/yZmvvO+8vCmawVI+rSS5tqx8Q5iW4q7/8vyHtC9f+2nUPp5clZNvPiFX6O3F9rsqTanmue7gSFn7tz0fZvsKzU6b6Wdt2/78jtt+aN6y8wjOVBXjfAQQQAABBBBAAAElMFPBmSQwkqyDEndUj+warc2i/n3v1tOjNVLiQMiaJfiRBUTOrsiN80dkVxrgKb0+DYqotG85rgJAKigTRYEWVMAovy6LveHF+REt6OIYOePsgMd5WCsEpPTUmncaGgRn4sDME86AxKgDnAVNHJ3Psm/Oy0bO5L/xzv+7WfpJx/TpHWaw6aETO9K1d7KO6zggU28EQHfBGdOjWJ6sHdnzHV6+euVu/rIur/+w/Je1r/L2E9o+csGwXPsptK8JTC8qq393+8+PaHK3L19N103f1+58x335avc9WyU1zkUAAQQQQAABBBCYFYGZCs6YgRC1cO1+mcuNnhlVXC74kQ/miFS4XrtXNIQnXfdjSzya58iukDVeLGlVDM6EBF7c54wX+TUadmFRWXXecblFG3EU+iD4phzFnaNRZ1Td9WH5wlWH5GW50SX1gjOWe8XBn6/Kdenolkbp5+6VmOhpZiMzklEoyeEoWHVoa6sLJ9cfOVPMn8u5rHP8vd3+8rXZCQ5te9a2ZNRZWP14gzOu9huNx9PbWlD7yLd/o71Y8huO0ehMa/3VaP9120G99LORX9dqo9lMhiS45j5eBS3kXVzlfpyLAAIIIIAAAgggsDEENk5wJh4JsyTpZhpJ7eanDZUtplp2fdPgTHzvddmnBz0qBWeyaV3lo3TqdxqynUjMqWDhj4i/MxnaWasVnIk7j3fLs4UMVx/JYk3fGmjRyxzW+Q/3tJ9ZPzgTPrJhKoMz3voPqx9vcMY1kqVO+ygEJ7Vgnwr2vF/kjZ3siFbeCuu1//D25XsG6qav7uubWuc77stbdrz+ezY0Bc5DAAEEEEAAAQQQmEWB2Q3OGAGPJLhgjGKxjZxxBmc813cQnCmO5Eman70DbsmfpbW2M3KmZDSS8wnxT2PoNDjjGIWjZ7dR+jVGDgxr5EzaeR4vB+TcLnkqgzPe+u84OFOnfViuyYJDal0mtT5Td7uSuf/U1R25Yqz3o25fczvuuumbJUqnsV3r2lXOd7z8owDBmVn8qESZEEAAAQQQQACB7gVmNjhjruGSTNuJVgBO15xJp/EEj5zxXN80OCO54Eq2sG9hWpErOJP+fmneWOQ433xcAZ/wZlZ/zRnftIFGwZG0AMWpSeOS+XZZaZZ+MfgUp/dEtuhwWOffXw9drTmjRmWclCtHCxhX7JyniyF3P60pm35XfQRXef2H1U9Z+ypvP9XbhzW/6TpM8vpr5boHssWm/a1mfEZ9v+weoWu+mO0/vH35SlMv/eJdfc+773hZPv1B8Ort1+fCcQQQQAABBBBAAIHpF5ip4IxaEHj0k9+JyNjJKFqw99guObJf7Qq9KNdEF3mnhJRd3zg4E2dgPO1KBWX2rcv8/rl0QeNsWlGuweXKmN+VKb/bVJRIPIJo5NTzbk3GtIGoKIXdmJwLnNp3Eip++547z/h23nIP7XhI53p9tBNTWg/G/VUHNNuJKTpu7AYV1vn3v066Cs7kpnxkGRmVz+fvK5/ven/JszOSHc2q7YKWXFtW/778Z6m725e/M+9vH0b7so4saTaiQ5Winl9I/ZWVz9e+fPXfNH3L9Zbn0/DP7ebmy6F+vGzkTD3/KqlzLgIIIIAAAggggMC0CsxUcCZ0Z6RprazJ57v+yJnJ5332c+ANMLoIrDtjJZ1tSbfSHopeEoAsHyE2lLyG58O/JpMeYDJGKIUnEp85Eb8pal8VOa2nlwVnJuLfRqG4BwIIIIAAAggggEDnAgRnOieerQRYT2G49Vk7OGPb5tyxlfnESj8aWTaLU0LCgjNl06q89TJJv2loX17A8BOs78hJ+odnnTMRQAABBBBAAAEEJihAcKZzfMc21Vm6lacWdZ7h8gS06VcLozV8Jpwnko8FjGltlvWKypjyU86ieVkyl9vGHOauBMqDM+O6eZdzK+iuctbWfd3tKzcdKp9gzYWD28p3+H3MKaPFKaXhd+JMBBBAAAEEEEAAgY0pMCPBmY1ZeZQaAQQQQAABBBBAAAEEEEAAAQSmX4DgzPTXISVAAAEEEEAAAQQQQAABBBBAAIEpFiA4M8WVR9YRQAABBBBAAAEEEEAAAQQQQGD6BQjOTH8dUgIEEEAAAQQQQAABBBBAAAEEEJhiAYIzU1x5ZB0BBBBAAAEEEEAAAQQQQAABBKZfgODM9NchJUAAAQQQQAABBBBAAAEEEEAAgSkWIDgzxZU3vKwnWwKvy13y1gcW5NLhZXCco4c/IEcObe0pn+VbJY8zNUV+Q65bX97UdvALIqunF+Ua37m9HVdbMceZksXhZKq30pMQAggggAACCCCAAAIbXYDgzEZvAS2X//wHrpJH5T7Z9fG3tHznlm/XQXBGlf3xrZ+TmxauzmU2NDgjMjV+LVdHf7c7KYubdoocuygrN+VT/ab82V99WD50YZv83e//rvxKhUyd++e75Bcffcq44g03fERO/tIrRr/7x08vyG+cSf952a/LF9/9DtmsX3FyUZKsrUghaxXywqkIIIAAAggggAACCCAwfQIEZ6avzgad46kJLhCcGXQ76ipzJxc3yf65NTmdH57ylT+Xyz77tHz0hivkQ49KreDMe+U9RjBGL0McmLmQBWTSINBli3LhHa81inp25UaZX98nF4uRo65IuC8CCCCAAAIIIIAAAggMQIDgzAAqYeazoAIhJ7fK3BN3y/q/iLzyvvtEbrtNviGvl7nPPSDzVycCcWDn/kzjXXLD+Y/LVeqfT67KyTffLXLXeFRKcq52TgCief/ogteb06+M48axbORLlm+V2Djv3139NXno7qhg+Z93ZSOIsus/Jy87FE37ik81yx6Q/egUNfVlXpZkWdaMKTnJ79f3HRPZuVNW45ttk+W1bIqM73hY6iqwsTO5efSzYIzwUEGFhSjl1ej/zy89kuRg2QyCuK8PyV9a9uTWo58FbQSMcf9teSPFF01nml+XfYWRKSpYcly2vjsaLRMHadoOzvyrvP9Pjsmrf+tuee/ladaf+bTc9NePyk79d/EhNbJnv8yN6i6sbjgLAQQQQAABBBBAAAEEpluA4Mx019905F4FZ267PwrKnJcrT6qgigpM3Cvy/jfL93aflzdFM6BUgOOxzQ/E/1v9xIGSJ7TgSRygOSFXqGBOFAIY/e+rwwgKI3pyI2fyx81/p2vBxIGlcX4fOrHDWLPGN60pCUxp1391d8XpX+XBmaVHxgEZcwTGOLCRBTPi40d25YI8bkt1/r1bT4+mAsWBkLVxACS+nwrKZEGROBByRHalQYby67P8ufIfhSxUenIsHVGSnH9k1zj4Yx7Pn5+UK2hUShfBmfw948DM38v/jPJ029tW5d5Xm+7O0T1hTZ2zEEAAAQQQQAABBBBAYAoFCM5MYaVNXZa1QIioUSZxUOJV8eLBT++wrdESldAy7SgeoXLiWnml3C/Puq6z4jwsX7jqkLxMG6Vj3t9yPA4GfVWui0fv2NaMKV7jC85kgag4i61Oq8pGnmjrqKj1S/bPpcEXy/GmIzSM+6eBDyPY4xkB4suf57gZaLGkVRglUwzoWJtKg+CMseaMvqaMuucjV8gX3y7y3jgoc6V89LfeI/KZD8tXthWDM1UDZ1P3PiDDCCCAAAIIIIAAAgggUBAgOEOj6F4gJDiTTl16Vs9NbtpRNL+p3m5QRqAlTUAPjtjSjk/Lph4RnEmmBC2JMatImzrkHZVSer0vuOQZOWO7d1x/tqldtoWAtUZXMziTf4iMNWbieyo5FZTJpjYl687YgjPRMCEtsNb940kKCCCAAAIIIIAAAgggMHkBgjOTr4PZz4E3OCPFUTSukTPRqJsb5LZqO0JZgjPJKJxsWpJl5IxRK5bgjOWeUzVyxrn+iq05Wkad2EbOOBey9V0fGJwZrXcT5XEhm+Kk8huyTku3I2cKanqQJ53G9Bp9CpNzzZnA6Vez/9aghAgggAACCCCAAAIIbCgBgjMbqronVFhvcOZr0bSj20TS9ViiOT/xv7+hj5yJ162RdJHg5Pj4fF+5kuDKaApVugaOviBw+S5TxeCM7Xwz4KPnyRLcqTWtybcgcPi0pvwaLUluk22m1aK+5nbO+e2n0/OCR874rvcFZ9T1x+WWki2m7eUx24V3dI86vXTkjMsn3/6KuzGZuzWJxP+W4m5NcS24dpRy1o+v/XMcAQQQQAABBBBAAAEEhi5AcGboNTQL+fMGZ65O1mCJFg1OfqLpRPftkKcPibzxgQW5VFtQOFswODs/W2DXy6RPXVJBn91flYcObdUW9B0v+ju6V263pWSXpfRndExPOXePwm5NyWLA8c8EgjPpJkpJ+sbIk6wMJcEHNVJmtFVTNF3o2C45sl9kNd01yhv4KL3eF5xJR5MYBciXwbKbU76MJaOF4mDJmXwr2lbYUjvZEUqfLqWuSYMxF8bXv+GGj+S21c6ds8UemPGNArKn7239nIAAAggggAACCCCAAAIDFyA4M/AKIntDELCtOZE4d6sAACAASURBVDOEfIXmwbYgcOi1Azgvt/NTkqP8aJywfDbdCSnZlWo+N7IoLO2Qs3xBrq7TD8kj5yCAAAIIIIAAAggggED7AgRn2jfljjMnQHBmolUaj7pZk+V0W+44L9aATUgu6wV1xgsi56d8haQZeE5cTrEHfkaLHneYfmA2OQ0BBBBAAAEEEEAAAQTaFyA4074pd+xVIF2fxpWmdfpR1QwSnKkq1vb5yYgRfa+o/NSiCimqQMfCeEpWhSs7PFWNboozJYvXdJgMt0YAAQQQQAABBBBAAIFBChCcGWS1kCkEEEAAAQQQQAABBBBAAAEEENgoAgRnNkpNU04EEEAAAQQQQAABBBBAAAEEEBikAMGZQVYLmUIAAQQQQAABBBBAAAEEEEAAgY0iQHBmo9Q05UQAAQQQQAABBBBAAAEEEEAAgUEKEJwZZLWQKQQQQAABBBBAAAEEEEAAAQQQ2CgCBGc2Sk1TTgQQQAABBBBAAAEEEEAAAQQQGKQAwZlBVsu0ZirZcnpd7pK3PrAgl1YuRtPrKyfY2wXfXf01eejuf0nSa2V772pZ7y39J1fl5JvvlmfT7L30rs/JTQtXp/+a3fqtVhsdn81W4R0Dc3sEEEAAAQQQQAABBNoXIDjTvumGvuP5D1wlj8p9suvjb6nhMPud9zhI8tXdNX1qkOYu6Tb9h+ULV90mct95eZOj+pu1j+bln/07nJTFTTtFjl2UlZvypf2m/NlffVg+dGGb/N3v/678SmUM9/Xn/vku+cVHnzLu+IYbPiInf+kV49+dXJQkaytSyFrlvHABAggggAACCCCAAAKzJUBwZrbqc+KlofNdXgXdBkf81d9p+vGoma/Kdec/Llc5skL78NdRkzNOLm6S/XNrcnrxGvM2X/lzueyzT8tHb7hCPvSoVA/OeK5XwZn3ynvMYIylIGdXbpT59X1ysRg5alJsrkUAAQQQQAABBBBAYOoFCM5MfRVOQQEe/oAcOblV5p64W9ajmT2vvO8+kdtuk2/I62Xucw/I/NUi5dNukhE139udXafKPL42TCAdlZPOLFLXvDI3wiMOHNyf3e1dckMWZPDmPzx/ZcERI/3X56eG+fMf4lA/fRGnT5ZwQHCmPI9nZeXGeVmSZVk7vSjj8ELy+/V9x0R27pTV+CbbZHnttCQxCN/xEBkRFdjYmdw8+lkwRniooMJClPJq9P/nlx5JcrBsBkHc14fkLy17cuvRz4I2Asa4/7a8kWJYkRvn12VfYWSKGvFyXLa+OxotEwdZqgZn/NeHBmci5Whkz36ZG9VdWN1wFgIIIIAAAggggAACsy5AcGbWa3gI5VPBjdvuj4MhV55UARAVWLlX5P0q4GJOgbEHD7LARC6YU2F6kG/EiDr+2OYHRtNx4kDEE2mAxJv/ceAkC/jE6Z3YUVh7x5WP/IiS/L99+Q+t5ibpu3xEX0/HyIgW4ArKYHlwZumRcUDGHIExDmxkwYz4+JFduSCPOxPq/Hu3nh5NBYoDIWvjAEh8PxWUyYIicSDkiOxKgwzl12f5c+U/DQzJsXRESXL+kV3j4E+cn9Hx/PlJuYJGpdQKzmhujuvDgzNJ3q2je4LaCCchgAACCCCAAAIIIDCbAgRnZrNeh1UqFdw4tDUOVMQd+Tio8qp4NMzTO/QFY9MRNIWgSzYyRQvkaPcMWXg4GZlz7Xg0jE9Iv783/5KO7NEDTWr9lUPysnRkUJacPThiOTc3CqVy/h3lq5t+4XY2/8YjZ1yVko080dZRUeuX7J9Lgy+W401HaBj3TwMfRrDHMwLElz/PcTPQYkmrMEqmGNCxanYYnDHWnLns1+WL736HbLZkomrgzPeochwBBBBAAAEEEEAAgVkQIDgzC7U49DJ4gxtXj0pQNnLGGGVTMTijEiidOpXbZSjOUDa1yJv/hsEZW9pJBkbTvrz5D2wDVt+Q9Mt8srSnOTgTBzuWxJhVpE0d8o5KKb3eF1zyjJyx3Ts2t03tsi0ErDWOjoIz+eb3j59ekN+44AjQ5AJfgU2X0xBAAAEEEEAAAQQQmGkBgjMzXb0DKZw3uNFPcGaskU5DujbbVSr5tzGKp+nIGUegInjkSmnV5fMfXs/10vf4DDE441x/xWZlGXViGznjXMjWd31gcGa03k2Ux4VsipPKb8g6LZMdOVNQLQkCeQNd4c2ZMxFAAAEEEEAAAQQQmBkBgjMzU5UDLsjggjP56VP5LaCTf3+jwcgZ165EoWu++Gqz7ho09dL3+LQWnPEtCBw+rSm/RkuSxWSbabWor7mdc3776fS84JEzvut9wRl1/XG5pWSLaXt5zFYSFPQoHTnj8tHSCRp5k265fdmiXHjHawtN2b3mTED6vgeD4wgggAACCCCAAAIITKkAwZkprbipyrY3OJNMC1I7ORk/7zJHttSf1lTc6Wg0ZSlLMF30N/lnNJ3ovh3y9CGRN0br5FxaJ/+jvKv7WdJXv/adkyu/4VPYzamsRTRNP7p3mU+WdONpTc2CM+kmSklujJEnWQZLOv9qpMxoq6ZoutCxXXJkf7REUrprlDfwUXq9LziTrmljFCBfBstuTvkylowWiqcZncm3kW2FLbWTHaH06VLJNeXXp8GYC+P7v+GGjzi21S4fBeRKf6red2QWAQQQQAABBBBAAIEaAgRnaqBxCQKmgGXBYoh6FLAtCNxj8k2Tyu38lNwuPxonLJGmOyElu1LN50YWhaUdcpYvyNV1+iF55BwEEEAAAQQQQAABBCYhQHBmEuqkOWMCBGcmW6FTHpyJR92syXK6LXdsaQ3YhCjXC+ok6akFkfNTvkLSDDwnLqfYAz99pB+YTU5DAAEEEEAAAQQQQGASAgRnJqFOmi0KpOvDuO5oTB1qMVnjVpMMzgyh/F25ht53yoMzcSxGjVjR94oqTi0K1YgDLWrX+nRKVvB1nZ6o6ijOlCxe02lC3BwBBBBAAAEEEEAAgakUIDgzldVGphFAAAEEEEAAAQQQQAABBBBAYFYECM7MSk1SDgQQQAABBBBAAAEEEEAAAQQQmEoBgjNTWW1kGgEEEEAAAQQQQAABBBBAAAEEZkWA4Mys1CTlQAABBBBAAAEEEEAAAQQQQACBqRQgODOV1UamEUAAAQQQQAABBBBAAAEEEEBgVgQIzsxKTVIOBBBAAAEEEEAAAQQQQAABBBCYSgGCM1NZbUPNdLKl9LrcJW99YEEurZzNptdXTrC3C767+mvy0N3/kqTXy/be7RYtLP9N66/p9WmZB7mVdLv1wd2GJsBW4UOrEfKDAAIIIIAAAghMmwDBmWmrsYHn9/wHrpJH5T7Z9fG31MhpS53zGin3dUkc5Pjq7po+feXSnU55/svrT7WNx7d+Tm5auNqZQLP2o257UhY37RQ5dlFWbtKT+Vd5/5+sRC0z+XnDDR+Rk7/0itZAz/3zXfKLjz5l3K+1NJ75tNz0138v/zOf28t+Xb747nfI5tZK8U35s7/6sHzowjb5u9//XfmV3H3/8dML8htn0l+2nra6rzv9Tn2jlI2yOdqHt/wnFyVpeitiNL3W6ocbIYAAAggggAACCMyyAMGZWa7dCZSteed6ApnuMcnZDs6UQ/YRnDm5uEn2z63J6cVrjMyojvWnt67Kva+Ofh0HOx6Vnb91t7z38nYqXwUP3ivvaTXgU5azOFAgi3LhHa9tpwBf+XO57LNPy0dvuEI+9KgUgjNxeheyYFAaRLmsv/T79U0CefK2tL1kwZuA8p9duVHm1/fJRTMy2E4dcRcEEEAAAQQQQACBmRYgODPT1TuQwj38ATlycqvMPXG3rEcze155XzR+4bbb5Bvyepn73AMyf7VI+bSZZETG93Zn16lyja8NK2U6qiOdWaSueeV95+VN2gCfOLB0f3a3d8kN5z8uV6l/evMfnr+y4IyR/uvzU8P8+S93KLu+ef7L6s84pmey8vQuNXVkXpZkWdZOL4oZfolurKYzza/LPu/IhSS4cGxLe6Nn+g8eHJNXtxZcUh7HZeu7o9EycZAmH5xRwYpceq0GuHzpi/Trm4ykWb4sax9Vyq9Gbu2XubXTkosPhr2mOAsBBBBAAAEEEEBgwwoQnNmwVd9jwVVw47b742DIlSdVAEQFVu4Veb8KuJgBEnvwIgss5II5FaYH+UasqOOPbX5gFKyJAyVPpAESb/7HgY8s4BOnd2JHYe0dVz7yI47y//bl31ebQdOR4sBZUh9V85+l7ws++aY1lZejPDgTPmqhODLC5+c73mfwIJ7ic2Fne6Nm9MLZgjP532nTrG7TRpf4jIKOW4NDPQdn4vI9LUvZ1K6K5XeN3goqPychgAACCCCAAAIIbFgBgjMbtup7LLgKbhzaGgcqZLTmyqvi0TBP7zDXICkLzhiBHO2eIQsPJ6M3rh2PhvEVX7+/N/+SjuzRA00PyxeuOiQvS0cGlQcvLOc+uSon3/xVuS4dvVM5/7nylV+fjZypm/9xYt0GZ8oqLQncHNlVnNKUv8qcouNrCGHHC2uidLImi8qLZRRHWBbDznIFZx65Qr74dpH3xmvfXCkf/a33iHzmw/KVbeOpP2EJeM4qCc4Ya/p04KuvKWOsF6TyVKH8cZDwyC776K5WkLgJAggggAACCCCAwCwKEJyZxVodWpm8wY2rRznuKjijEiidOhUHQ+6WZ3W7bGqRN/8NgzO2tON8mFO3wnZMcle++/rZCc6s78svBGx6JEEUiYIL7a03YxPvIgCk0onzf+aGlhcC1krgHDnzSHSSCspkbsnUsL6CM3njrnyzdIw1fWKTCuVXCwPvnyM4M7S/Q+QHAQQQQAABBBAYuADBmYFX0Exkzxvc6Cc4M7ZMpyFdm+0qlfzbGMXTdORMbuRLlrY9+GQfZeOu+3z+q7YSe/mNkUmV8j9Of8gjZ/oKzMQajhEgVWvKPL/96ViF/NjynU5jeo0+hanVNWc8wSEbWie+uXyo0TJqN6yK5Q+fXtesNXA1AggggAACCCCAwGwJEJyZrfocZmkGF5xJR9GM1qxRwZHbREYLBCf//kaDkTOuXatC15zxVWS7a9AUR85UzX958Ck56lrHxlfW8fEGa85kuxGVjphJtuFelYWG2yG7djNqdn//qJlm9y8LKuVHqth3i+oufbONdOM7TqN4/7DyJ3dgzZnwJ5ozEUAAAQQQQAABBMYCBGdoDd0LeIMzybQgtZOT8TPazccy7abSmjPFnYokvxtSuuhvkn40nei+HfL0IZE3RuvkXFon/8ZORJb0VTK+c3LlN3wKuzmVVaOv/JbjvrwZ+Q8pn7ogd15vuzUlI06ivb5yP9sKW0arjvXO1W2yXGm3nbQzf2F8e2PNEi3VevePbmAbvWGp8rr319dbGd9W98mVcYt9G+1u0u/aN+T+YeWPQjPs1tT9XxRSQAABBBBAAAEEZlKA4MxMViuF6lfAtmZLvzloltq0539c+qajFuIpKUvzDUfOuGtj2u/va2ddl28q0l/fJxdXbvJlleMIIIAAAggggAACCBgCBGdoEAg0Fpj24Ma051+vwGRqTRRdkUr947MrcuP8kjzSeEqTozFN+/19z0jX5Rt6+ip/aiHguOmtCKEZX4VxHAEEEEAAAQQQQCAvQHCGNjHlAun6MK5SVJ46U4djksGNNso/yfzX8fZcowIFatf204tyTQe355YIFAXUekhxo5NFGh0NBAEEEEAAAQQQQKCGAMGZGmhcggACCCCAAAIIIIAAAggggAACCLQlQHCmLUnugwACCCCAAAIIIIAAAggggAACCNQQIDhTA41LEEAAAQQQQAABBBBAAAEEEEAAgbYECM60Jcl9EEAAAQQQQAABBBBAAAEEEEAAgRoCBGdqoHEJAggggAACCCCAAAIIIIAAAggg0JYAwZm2JLkPAggggAACCCCAAAIIIIAAAgggUEOA4EwNNC6pIXByUTbtXI0uXJBjF1fkphq34BIEEEAAAQQQQAABBBBAAAEEZlGA4Mws1uqAy3RycZPslGNycYXwzICriawhgAACCCCAAAIIIIAAAgj0KEBwpkdskooE1Aia/XOydnpRrgEEAQQQQAABBBBAAAEEEEAAAQSE4AyNoF8BgjP9epMaAggggAACCCCAAAIIIIDA4AUIzgy+imYsg2dX5MYFkVVGzsxYxVIcBBBAAAEEEEAAAQQQQACBugIEZ+rKcV09ARWcmT8iu9ZOyyLzmuoZchUCCCCAAAIIIIAAAggggMBMCRCcmanqnJbCnJTFTTtlddsya89MS5WRTwQQQAABBBBAAAEEEEAAgc4ECM50RsuNrQLxyJl12cd22jQQBBBAAAEEEEAAAQQQQAABBGIBgjM0hH4FWBC4X29SQwABBBBAAAEEEEAAAQQQGLwAwZnBV9GMZZDgzIxVKMVBAAEEEEAAAQQQQAABBBBoKkBwpqkg11cTIDhTzYuzEUAAAQQQQAABBBBAAAEEZl6A4MzMV/GwCnh25UaZX98nF1duGlbGyA0CCCCAAAIIIIAAAggggAACExIgODMh+A2XrBoxs3M1KvY2WWYb7Q1X/RQYAQQQQAABBBBAAAEEEEDALUBwhtaBAAIIIIAAAggggAACCCCAAAIITFCA4MwE8UkaAQQQQAABBBBAAAEEEEAAAQQQIDhDG0AAAQQQQAABBBBAAAEEEEAAAQQmKEBwZoL4JI0AAggggAACCCCAAAIIIIAAAggQnKENIIAAAggggAACCCCAAAIIIIAAAhMUIDgzQXySRgABBBBAAAEEEEAAAQQQQAABBOLgzA9+8AN55pln5LLLLhu0yMtf/vJB54/MIYAAAggggAACCCCAAAIIIIAAAlUFLvnWt7714ve//3359re/LT/7sz9b9fpezyc40ys3iSGAAAIIIIAAAggggAACCCCAQA8CcXBGjZy5cOECwZkewEkCAQQQQAABBBBAAAEEEEAAAQQQ0AUuiaYzxSNnvvOd78jLXvayQeswcmbQ1UPmEEAAAQQQQAABBBBAAAEEEECghkAcnFEjZ773ve/Jz/zMz9S4RX+XEJzpz5qUEEAAAQQQQAABBBBAAAEEEECgH4FLorVmXrx48WIcnPmpn/qpflKtmQrBmZpwXIYAAggggAACCCCAAAIIIIAAAoMVuCQKyrz43HPPybPPPhsHaNT0JvW/VcDm+eefl5/85Cfy4osvjv4z2JKQMQQQQAABBBBAAAEEEEAAAQQQQGAKBS6JAjEv/uhHP4qDMWrtmew/P/zhD+XHP/5xHJR54YUXRkVT/+YHAQQQQAABBBBAAAEEEEAAAQQQQKAdgUuiYMyLKviigjFqBI0K0mSBGfV7FYzJRs+oJAnOtAPPXRBAAAEEEEAAAQQQQAABBBBAAAElcEkUkHlRjZBR/1HTmNR/sn8zpYlGggACCCCAAAIIIIAAAggggAACCHQrcEk0pSkeOaMCMuq/1X9UUCYbNZOtN9NtNrg7AggggAACCCCAAAIIIIAAAgggsDEFLolGykTxl2Rdmey/9REziiWbysSUpo3ZSCg1AggggAACCCCAAAIIIIAAAgh0J3BJFJR5UQ/G6OvLqP/NDwIIIIAAAggggAACCCCAAAIIIIBAdwJxcEbdPlv4N0uK6UzdoXNnBBBAAAEEEEAAAQQQQAABBBBAIBO4JBodE09r0oMyWbAGJgQQQAABBBBAAAEEEEAAAQQQQACBbgUuySIzjJTpFpq7I4AAAggggAACCCCAAAIIIIAAAjaBUXAmO8jivzQUBBBAAAEEEEAAAQQQQAABBBBAoD+BQnCmv6RJCQEEEEAAAQQQQAABBBBAAAEEEEDACM4899xziCCAAAIIIIAAAggggAACCCCAAAII9ChAcKZHbJJCAAEEEEAAAQQQQAABBBBAAAEE8gIEZ2gTCCCAAAIIIIAAAggggAACCCCAwAQFCM5MEJ+kEUAAAQQQQAABBBBAAAEEEEAAAYIztAEEEEAAAQQQQAABBBBAAAEEEEBgggIEZyaIT9IIIIAAAggggAACCCCAAAIIIIAAwRnaAAIIIIAAAggggAACCCCAAAIIIDBBAYIzE8QnaQQQQAABBBBAAAEEEEAAAQQQQIDgDG0AAQQQQAABBBBAAAEEEEAAAQQQmKAAwZkJ4pM0AggggAACCCCAAAIIIIAAAgggQHCGNoAAAggggAACCCCAAAIIIIAAAghMUIDgzATxSRoBBBBAAAEEEEAAAQQQQAABBBAgOEMbQAABBBBAAAEEEEAAAQQQQAABBCYoQHBmgvgkjQACCCCAAAIIIIAAAggggAACCAQFZ1ZXV+Wee+6Jta677jo5evRoq3K33nqrPP744/E977zzTllYWGj1/uE3OysrN87LkizL2ulFuabswpOLsmn/nP+88MR7OHNWy5eUa33fRVm5qQ/GFbkxaqKrvjbSelYq1J817abXt16g3m54duVGmV96JElv4Zhc7KWh5IsX4H82alvzS5LmVLYtr8npxexNFHB9G6IqD4X2rdKOfymj7LSR1qzew/r3oaf6m0lT2t9MViuFQgABBBBAAAFDIDg4c/bsWfnYxz7m5CsLsLzmNa8xrvvMZz4jV199deFeH/zgB+Waa66Z4eBM+uH8kQU5dnFFKscR1Af+nasjN7PjFtKyK3QOCp2LLO/jdKqnH5LHOucEBmccficXN8lOKXbY7b8/KYubdkpUgeNAUK5D3V0AoEL99RmcsZU/Tn+bLK/12JkPeD7iIM36voEGZyxty6jHpvUf8myV5CH2VU2/xrsrJOlZOqeD4Ix6H+2f04N1swSmyvJN+bO/+rB86EJSrjfc8BE5+UuvGBeS9jdrFU55EEAAAQQQQCAn0Dg48+STT8rb3/52+cQnPiFvectbCsAqaKOOZ6Nh1CgcFZyxjb6ZfHCmQvuoOnIm/mC5JsvL0cicpeodnOSbfzE6uycXF0VWOuooGeVLOoVHdg21Y+APztj8zq4symfftiKLZ2ydTnsn1dpBioMT67Jv1GntoxNdoa32eOqkOpCl9asNgZtscMZTEYV21GPFpUn56m/Qfv1zuVOs+vchIO++ugm4xXBPeebTctNf/7285m2rcu+r3dmk/Q23CskZAggggAACCDQXaByc8QVU1KgZPXCTBXO+/OUvF3Lvu1d5cYsjO9T5C+kIB/WhbkFWo/9bGE1v0Ed+hEx7iEdSjAeuRAMDAqY/xZlWebtXtp6OAil1vv2LO21HZFfJKIRuy+f7Rj+pGcPHYmP6maOHfPlPE3CMHMqCM2sytz8KfsVzQvRRG778u0bD6AEXVY35IEzaIm2/t9SZzycCdI6M8rfPYvvP2n7cAr3TevLX6/WT+R4T2bkzeobyvuMn09WBDKlfn4/7uK9+x/kr69yVtc/kGc7aVnI/3dd33O9f0r6C6q/8+Qvxd7Zv48WrrPfLXKsjosLaV9P3h/N69dwdn4sC30vxu2PhWNbOq438Kvv7EFT/juffuFavi76n57neT7a/TwF/s/Si/OOnF2T5stxIGesf/C7aX/knC44igAACCCCAAAJ9CTQOzqjgi1onJluTRmVcn7aUrVeT/S4737auTJPgjDkFpTjSY/QBNwsaOD48ujpvhSkudb8ZrRGcifN0ZFfp+jZdly/reJgdUrNTrk8Nynup/N279fRoKlB8fG0c3PLmPxt5ZO0UjjvOejBuNH0lYESCLb/56S/Ojr31/mYbzN/f2p7UyCpPp9eVh9BvlO3nOZ6XUZvLfMed1bLnxDb1wle/Pp/S4wH1m7XUMj9v+yyZDtXE39n5jgLJ+SlEoe8na3tWkYeS919oGdofweF4frV3XtP3R+n1adBBvTtuOa4C8KqdRyHIhfB1rEL/PjiNS99vSett373Cx4yA968+sjLkb9Y49X+V9//JMXn1DVfIhx7NVlu6Uj76W3fLey8v5nGiDhXIOBUBBBBAAAEEEKgq0EpwZmf0bXq2Hs3DDz8s73vf+0QfGZP9TmXONf1JHasfnClOa8l/CC5+WLR/A2f/8Gw5t9XgTPLNvz4oJ67ItCMVfWWvBWf0c3OdZSOA00H59G9OjW9tLWn5Osw5P1/9lH8gt0xr0u8fEhAzzrFNkyqZ2uUNzpwpjjbIXRPa4SgNzizNe9cDsV5vzb9epx5f7a1TNnLGDDDq9/e1H8/xkPpN8xgagIhHMWkLficBFLev77gvOBQf9z0z8Sm2NXN8ful1pe+H8KmL1TreIX+SbM+bZ4RExfdHIRf590Na1/G7Ng7CbakwlTP870PVoKae79B3RIh41XN8aZttIl+f5X/frhEVnFmR+7YsyoV3vDbJ2lf+XC77rMjf/f7vyq/kMtt++6uqwfkIIIAAAggggEA3Aq0EZ/IL/KrRMdnvVMDlWDRMPAvWqGN6MEcvVv3gTDqkf7Soq2MkQMBCoMGd11aDM+WVa/8wanYIQjud7ZQv/bBtfAs/3mFmXBptWoBt0Vht6lN5/n1ryrQQnBFtaswW2/Slkjz4gjNv+6yxA0/Rx1e+8RVlTsYIDMeUB+v1JYuXJjtgtRSccT1/vgWFxdzBqOBnXTPI/kw5/TztM4mdlO/45Ds+ukepQ24qna1jmr/e5xetueN/P4S3wXzgqvmfpoDgTKP3R1x5xWcwe/9o7b9WcMb2/Dv+PtjrIczeFyBpXg+uO4TkT70/j8stat2tgCCjmVI6csYYKWP7XXpV3b+93QFxZwQQQAABBBBAoBWBVoIz+dEwWXBG5VAtBqwHb7I1Z2w7NjUOzuhDT3KdU3/nJPEMDV7U/vbO+i2/55tF6xSsboMz3vIZefKtA2D5Vt72zbczeOb7Vt8XPAhbkySbmrA2t9+yo0/FkTNNfRyPd1g7TqeJzBd3oApt31G4Uxvt4/MdZ7Z05Iyzfn3tJ+R4bgetSn7+9mnezu2bvkWS9WlC/bObB3Rqg0fOhAR1jHN8z9j45LA2WOXvk6V9GRb++gkJ7hoLmrc5TRFsRAAAIABJREFUcsZSb673Z1lwxrfg+qSDMyH5O35LFMwVtYbPLdqOaGEjZ8RYDNgdnGm//VVpq5yLAAIIIIAAAgh0J9A4OKMCKk888cRo96X8bkz5NWZs056y4tUPzmjf2lXqlBVPDvrwnE3vCV4QWEunwhQMPXfJmi/6GhQtBmfSxU5HH74DypfvfBTWXDBo88GR3MgbV1BMu0cyKsE1rcQfPEj8zAU+R7s1Zbv5pOsqbNv2iMzHI0ZyXXLXNsyFzllaPi1AWO6TjcqoOS3J0uZdHZig9h3dz1wTyO+bZaFecCY/8q1YIJ9fUP0625m/feZz5OsgVvNP7147OOP38+VX5SDkHHWeO0iQdcKLa+WU/wkrti+zvv31U553z/VNR85UeH+WtgvPtERvwNz7OaFu/QS+n+KFlW+Jxq/ul6++/7Qsaruk+bKmFgT+jQu/Ll989ztkc3TyuX++S37xzA2jf+f/Fs72luI+LY4jgAACCCCAwKwKNA7OKBi1Xfbjjz8eG1133XXGNtnZSBkd0DZqRh2vH5zJTTnIEtM6xyHfrCa7/Gg/+ugbfVi8CsrsW5d5bU0KXwPJFtTNJeBdIyT/odTYLUpbMLTT8gVM+bDtVhNtezL+9tTY6SMKkhzbJUf2i6yeXhT1GT6kY2hMG4muGe+2FRY8cF+fKXs6L67Os8WnuHByOtpCb2O20V1aI8yXz90+Lfc2AoeW46rIhXWDtHWPLNcnU5xSK8fUgrrBGW/7seyWZOa/+A4I94vKVNo+a/hW9o8fgtyW7Fm7DKm/8vYV8nyFrHljjqgqvvVsQTLfu9Ff9776CXh/lNVv4+BMVnfp1M7C34eQ+itrv452UGO3pnr1k6Tvf3+m5ZTQXQz1lvFN+bO/+rB86EL6u8vGgRqz/fhG0flbG2cggAACCCCAAAJDFWglONNW4WoHZ5zTfsKmOrSVf+4z+wKTm1ow+7aUcPICvvbtC/KUj3BzlS9kTZPJ28xCDurVz3BK7mt/w8kpOUEAAQQQQAABBKoLzEZwxrbNp2Or7OpEXIGALhC2fg1mCEynQEn7LpuSORo9VnVKk1IiONN5W2lUP53nLiyBmlOCw27OWQgggAACCCCAwOQFgoMz99xzT5zb/LSlNoqgT4u68847ZWFhofJt80Ouo0kvsrxWbd575UTjCxyLHWY3qzH0vF4+uKo3AdXRiZpoNiWrt3RJCIE+BKztWwVQ4kZfaS2RsOwOOTjD+z2sDrs+q8v213XeuT8CCCCAAAIIIBAmEBScCbsVZyGAAAIIIIAAAggggAACCCCAAAIIVBUgOFNVjPMRQAABBBBAAAEEEEAAAQQQQACBFgUIzrSIya0QQAABBBBAAAEEEEAAAQQQQACBqgIEZ6qKcT4CCCCAAAIIIIAAAggggAACCCDQogDBmRYxuRUCCCCAAAIIIIAAAggggAACCCBQVYDgTFUxzkcAAQQQQAABBBBAAAEEEEAAAQRaFCA40yImt0IAAQQQQAABBBBAAAEEEEAAAQSqChCcqSrG+QgggAACCCCAAAIIIIAAAggggECLAgRnWsTkVggggAACCCCAAAIIIIAAAggggEBVAYIzVcU4HwEEEEAAAQQQQAABBBBAAAEEEGhRgOBMi5jcCgEEEEAAAQQQQAABBBBAAAEEEKgqQHCmqhjnI4AAAggggAACCCCAAAIIIIAAAi0KGMGZFu/LrRBAAAEEEEAAAQQQQAABBBBAAAEEAgQIzgQgcQoCCCCAAAIIIIAAAggggAACCCDQlQDBma5kuS8CCCCAAAIIIIAAAggggAACCCAQIEBwJgCJUxBAAAEEEEAAAQQQQAABBBBAAIGuBAjOdCXLfRFAAAEEEEAAAQQQQAABBBBAAIEAAYIzAUicggACCCCAAAIIIIAAAggggAACCHQlQHCmK1nuiwACCCCAAAIIIIAAAggggAACCAQIEJwJQOIUBBBAAAEEEEAAAQQQQAABBBBAoCsBgjNdyXJfBBBAAAEEEEAAAQQQQAABBBBAIECA4EwAEqcggAACCCCAAAIIIIAAAggggAACXQkQnOlKlvsigAACCCCAAAIIIIAAAggggAACAQIEZwKQOAUBBBBAAAEEEEAAAQQQQAABBBDoSsAIzjz33HNdpcN9EUAAAQQQQAABBBBAAAEEEEAAAQQsAgRnaBYIIIAAAggggAACCCCAAAIIIIDABAUIzkwQn6QRQAABBBBAAAEEEEAAAQQQQAABgjO0AQQQQAABBBBAAAEEEEAAAQQQQGCCAgRnJohP0ggggAACCCCAAAIIIIAAAggggADBGdoAAggggAACCCCAAAIIIIAAAgggMEEBgjMTxCdpBBBAAAEEEEAAAQQQQAABBBBAgOAMbQABBBBAAAEEEEAAAQQQQAABBBCYoADBmQnikzQCCCCAAAIIIIAAAggggAACCCBAcIY2gAACCCCAAAIIIIAAAggggAACCExQgODMBPFJGgEEEEAAAQQQQAABBBBAAAEEECA4QxtAAAEEEEAAAQQQQAABBBBAAAEEJihAcGaC+CSNAAIIIIAAAggggAACCCCAAAIIEJyhDSCAAAIIIIAAAggggAACCCCAAAITFAgKzqyurso999wTZ/O6666To0ePtprlW2+9VR5//PH4nnfeeacsLCy0ev/wm52VlRvnZUmWZe30olxTduHJRdm0f85/XnjiYWeeXZEb55fkkfTsbctrcnoxy2mF/JelptKIqmDVZxCW48CzVN7jRGVUnMArOQ0BBBBAAAEEEEAAAQQQQACBaRYIDs6cPXtWPvaxjznLWhZg0Y/t3LnTeZ8PfvCDcs0118xwcCYNnjyyIMcurshNlVvOSVnctFOii2XFenF5cObk4ibZP6cHc2wZKKZxduVGieJBsrymBU5UcGrnmvm7yuXJXRDfUxWvjk3TxLkeAQQQQAABBBBAAAEEEEAAgckINA7OPPnkk/L2t79dPvGJT8hb3vKWQilUYEYdz0bD5P+tXzD54EyFSqg6ciYLZixHI3OiQEetAEQ8amZd9tUMXoQEZ1znqN/vXMtGFPmCRBUcc6fGgaD1fXLRHn2qf2OuRAABBBBAAAEEEEAAAQQQQGCgAo2DM2UBlSxw8+Uvf3lU/IcfflhWVlasU6OaBWeyUSmm9EI6ykR1+hdkNfq/hWgUSDIpSJ8SlIwOSScLLRyzBgfiAMWqdv9tAdOf4tNV3u6VraejESFNRoeUBGfK8m8c03ny5SwN/iQBmbVoGtW+9XnZKXYjazuP73tEdukjb2y/iy9W6eyXOf3cgT48ZAsBBBBAAAEEEEAAAQQQQACBNgQaB2de85rXxOvEZGvSqEx95jOfkauvvlpUIOZ973uf6MEZW8AmK0iT4EwcOBkFDJJAzZFd4yk8owBFFlBxBAdcIzfM+6sYQs01Z2oEZ5zBlSjQlB+BUzbyxDdyxjtqJc67ik5tqzidyVEfjhEyvny20fC5BwIIIIAAAggggAACCCCAAAJDEWglOKOvI5MPyKjgjT7lKVt/Rg/YNA/OJJ3/9X3jtVjygYb430d2aQv42kdo2AMUlnN7DM6MGkvAtKb6wZliAKXYSNPRSfMVRs1kNzG8ivWlp1Wsq6E8LuQDAQQQQAABBBBAAAEEEEAAgfYFWgnOZCNlsuypgEz2u2ykTHZMBWryo2maB2fUQJaAkTMBa5lYgxu2oMiMBmf0AFe+uekjeLLpYuFNUgtwiWc3qLq24ZnhTAQQQAABBBBAAAEEEEAAAQQGI9BKcCa/GLAenMmXVI2seeihh6w7NjWe1qSvB5NbT8U7ZSfNaGhwpvbojhrTmkaGkxw5k27hPa/W8JF6uypl05XUuj9q/Z/xFuBmKwmtq8E8RWQEAQQQQAABBBBAAAEEEEAAgQYCjYMzKqDyxBNPjBb4XV1djUfNHD16tJAt2xo0+kn1gzNqVMZxuaVkF6PQDr/9vNyUn2ztleAFgbVSlgZnkkV3VfDCuptTw+CML6DkNipOZzJ3b8rKF5L/I9GSNfOyTy2O7Gi4rDnT4InmUgQQQAABBBBAAAEEEEAAgakTaBycUSXO1pFR//u6664zAjMq4HLs2LEYJn8sr1U/OBPth6TvtpTdWBs9Ux6cse/0JProm3TkSLyfkwrK7FuX+f1z2ho25XVf2OkpPj0fhAkJbti20g7If5xe7rzA3ZqSvDvymrtHcq5rweCQNWvYrWnq3iJkGAEEEEAAAQQQQAABBBBAoJFAK8GZRjnQLq4dnLHuvJQEOqIhKLLiGqLRVsZn6D5NR60kQbJ5+8ifNDjkXdcmYG2gGSKnKAgggAACCCCAAAIIIIAAAhtcYDaCM/FUoTVze2fHVtkbvL4Dil8zqDUaWeSYkhWl7JtWFW9PHsfT3FOeAgrAKQgggAACCCCAAAIIIIAAAghMlUBwcOaee+6JC+abmlSn9Pq0qDvvvFMWFhYq36Y4rck1tabyrT0XZFORHKflpw61nXwX91OBlqgKVk8vyjUt3H9cN+7ATTLlKk5UFttItIV8cwsEEEAAAQQQQAABBBBAAAEE+hAICs70kRHSQAABBBBAAAEEEEAAAQQQQAABBDaiQByc+fznPy8vvPBC/J+rr75aXvGKV2xEC8qMAAIIIIAAAggggAACCCCAAAII9C4QB2f+6Z/+Sd7whjfIhQsX5N/+7d9kfn6+94yQIAIIIIAAAggggAACCCCAAAIIILARBUYjZ375l39Z/uM//kPOnz9PcGYjtgTKjAACCCCAAAIIIIAAAggggAACExEgODMRdhJFAAEEEEAAAQQQQAABBBBAAAEEEgGCM7QEBBBAAAEEEEAAAQQQQAABBBBAYIIC7NY0QXySRgABBBBAAAEEEEAAAQQQQAABBAjO0AYQQAABBBBAAAEEEEAAAQQQQACBCQoQnJkgPkkjgAACCCCAAAIIIIAAAggggAACBGdoAwgggAACCCCAAAIIIIAAAggggMAEBQjOTBCfpBFAAAEEEEAAAQQQQAABBBBAAAGCM7QBBBBAAAEEEEAAAQQQQAABBBBAYIICRnBmgvkgaQQQQAABBBBAAAEEEEAAAQQQQGBDChCc2ZDVTqERQAABBBBAAAEEEEAAAQQQQGAoAgRnhlIT5AMBBBBAAAEEEEAAAQQQQAABBDakAMGZDVntFBoBBBBAAAEEEEAAAQQQQAABBIYiQHBmKDVBPhBAAAEEEEAAAQQQQAABBBBAYEMKEJzZkNVOoRFAAAEEEEAAAQQQQAABBBBAYCgCBGeGUhPkAwEEEEAAAQQQQAABBBBAAAEENqQAwZkNWe0UGgEEEEAAAQQQQAABBBBAAAEEhiJAcGYoNUE+EEAAAQQQQAABBBBAAAEEEEBgQwoQnNmQ1U6hEUAAAQQQQAABBBBAAAEEEEBgKAIEZ4ZSE+QDAQQQQAABBBBAAAEEEEAAAQQ2pADBmVG1f00+dct2OSB75dTxO+RVZc3h1JJsPrjFf94gmlRSrjN7zsny9h4y9LVPyS27RQ75DHvIynQlUaH9TVfBesptU7+m1/dUzA6S+dqnbpHtBx5L7nzrYTnXy4siX5AAf/Vu2X5A0pzK9XtPyfE7sjd1wPVt2Fnfbyrt+KUno+y0kRb3QAABBBBAAAEEENhQArMTnFEBk9uPjirP/OAeUqcVPtwXgjPptVmvIUquevoheaxzTmBwxuF3ammz3C7FDpv996dkafPtIod7CgQZHGYdDMc/yaTyOrhF70zW6JzWqf70Gn/6DW5edmmuQ91dAKDC82vNb9PrHQi28senXi97T/XYmQ94P8ZBmjN7Bhqc8b1bOqo/o1pL8hD7qlffsvQRA+/oaeW2CCCAAAIIIIAAAhMUmIngTPLNrxidnVNLSyLLHX1QNoIzSafgxI6yjvcEa1j8wRmb39c+tST/478vyx3nbJ0Oeydl0gGAuYkEhcLqdmI2gwjOnJE9o05rH53osDrp+6xJtYHS51sbIjjZ4IynNuIgl96O+q49f4B10H79c5EiAggggAACCCCAQEWB6Q/OxB/aT8iOkm+h1Yfm3XIo+r/do+H7+siKkGH98UiR8cAcNTQmndbk+0Y3qRHj+tG149oy73+r8Q2sL/9pAo6RQ1lw5pRsORhN24pH9+jf2vvybzlu6yj5Ok+ub+5t9RdQp3o776PTW15/xZFTt6aBIqNt6ZnWpo+Utj/l9uAW2bt+IK67Ww8fFrn9djmaG3nhaj8h6UsawMtmtkSpVG9/rhePs62Yz6zv+YgeIOfIOP/z664fle3q1+s+2fOV1Uv++TKfcdvoqZDn2+fjPu57vsf5KwsulL2fiu1HtVN99FxT/7iSnMEZf/2Vv39D/MvS12o4Gjl4ULb0OSKq4h98TkcAAQQQQAABBBAYrsDUB2fiD+YndpSu/zL68J4FRRydf1fnpDCFJzetKeu4mB2SXOBFmxqUv59K95Nbjo/WhImPr4/XvvHmP+64rjumSYw7RkbAIJu+4AuqZIElLf82p9JvjQPyp488CqnTQodo75wcOJBFz9qdMpKvL1v9+aaDhASQrIZpUELV3c0PqgChKtshkd3jdYR87ScLDtqnVRVHfuX9ve2v7P1mbV9mmj7fJDDjat/+4ELoiAb7eT6f7Pkat7my94grOBOv+eJ4P/l8So8HPN+ZoCvfvvbl8/UdL0vfGVzMBRBHQTbLtCyfX0j7Di1DyHM+3I8D5AwBBBBAAAEEEEBgkgIzFpxJviVOuui5zpIRwFHnFb/htH8At5xrWxBY/2bfWFTTcr2vw5S7fzFYYd6zvENgmdak3z9krQTjHNs0qfKpXb4Oi1m+/P31OtUeldzIpaO6eUiZgp86f/0lnbu50vUmfAbOzqVWV9H8uXRNkM3lU+ks7dOZvrUtmmUub3+e+vEGZ84Vn8XcNSF2ZZ3zkPpxXu/18TxfWjtzlcPvm3tXGXnytM8Kz0JoACIOlmkLovt8fcd9waH4uO+dGZ9iWzMn8Pkt/fsQPnW1WmA5+CXEiQgggAACCCCAAAIbQGDGgjNZjVk6lwELXVo/3Ns6BaW7NaWdVeNb8PEOI+M2pY3usC0aqk19Ku80+daUaSE4I9rUiM226QVlefDlT4mo+z8oN6t1SQI6YeZzaQu02YNvtZ7nwAVdjW/4LTvehAQYnCNn0o6wMzjjaT+xsGtBYmtbNussuNNuA/YFZ/77/zB24Ck+HyHtJ7mqLJ+++nFe7/VpKTjjej/52p+YOxgV/KxrRtmfBKdfQPvy+fqO++qvdnDG5xetueNv3+FtMB+4qvXO4SIEEEAAAQQQQACBDSkw9cGZ5EN7fs2ZboMz3m9HjTz5AgWWb2Vt30w7g0u+b3V9ncewNSmyqQGnthy07OhSlgdf/pLnTt3/wZujdSpErbFys7ZjTNjIGXOHKJ95lWe96r3SaS5z5g5X3QVnpDiKpouRM872V2PkTNPnw1F9/k52HAKIvQ7k6scZHOhr5Eypb9k6Jr72GfZ8u4Mj/veTWR1u3zSEVs0/u3lA0DZ45Eyu/fjbTdg7zBtgqvLa4VwEEEAAAQQQQACBDScw/cGZtGN/+1F9kc4WgzNpZ260Jko2fcmyqO+4H2Gug1NYs8ZoZvnOU27kjepOera4LZ824AvOZItlmuu0jHZrynZzSdf9uP76x2RuT3GrbP+ohfJpP/E3zlFQ5rAclDP/d7Uthq1r9BTWIcqCCOZityFPfHn9Fe9gs/AG9Fz17J3WpKYF6duXF9vPqNNoXZup2PG0egaMPLNaFjrVaf600UU+31amxWiZc7VV++99Pv7nK0u6dFpTia/PJ+h4vFbR+LkqPN/O94z//ZSv96D3laW8pdfVDs6k7zdtzayq+a0SdHEHYeu/f0LeUZyDAAIIIIAAAgggMP0CMxGcUdWQLco7rpJxJzxkWtB4p5r0DvrUFH1ovArK7Dkj27M1FwKG/Nt2M4m2MxmPDjF2ook6UYd3yImDIoeO3yEqNuLr7Iw6D1ohxrtRhXUejWkH0Q313awSEU/nwtN58t8//cZdxgshhz9e2aKs6RWOwFnSRuosFpy7v0pmVH+WY9b0c+eVXa/f3xuciVqIp/0kKq709bq1+4W0P2ddWZ6P4sLZZb5p7uN1feKtxuKffPt2P7+++rEcN+rX5xP2fMV3cUwt8/v6fHzHcztSVfKLM67tlJV/P9XwNZ6PEH/VfF27NYVcX+7j9y9LX2/55aOY6r9/wt+EnIkAAggggAACCCAwvQIzE5yZ3iqYnZyHTN2ZZGlDR2BMMo+kjQACwxTwvd98QR7eP8OsV3KFAAIIIIAAAggMRYDgzFBqYibyEb6+Ra/FHY3eqD6lqdd8khgCCAxYoOT9VrYrFu+fAdcpWUMAAQQQQAABBIYjQHBmOHUxGzlRHZHd4ylZs1EoSoEAAghEAtb3m5o2Fb/05I5sjS6wEEAAAQQQQAABBBCoKEBwpiIYpyOAAAIIIIAAAggggAACCCCAAAJtChCcaVOTeyGAAAIIIIAAAggggAACCCCAAAIVBQjOVATjdAQQQAABBBBAAAEEEEAAAQQQQKBNAYIzbWpyLwQQQAABBBBAAAEEEEAAAQQQQKCiAMGZimCcjgACCCCAAAIIIIAAAggggAACCLQpQHCmTU3uhYBTQO3osl0OyF45dfwOKd3URW3Le3CL/7xCWslWv0ej3996+Jwsb9dPqJB+rVrs+v6+THWdfrf3/9qnbpHtBx5LCnm9rY00Tb/r65vef9L160t/0scn52u0zVsPyznzxdI5zKTTTwpY5p8eGz2+p+Q423Z13i5IAAEEEEAAgVkUIDgzi7VKmQYoUKFzVTM4c2ppsxzc4u4YqOO3S1edq/Ly+fLWvMIq+NZMrEu/uAN6Zk9px7dZ+k19/Nc3y5+/Urq8f/ft018+3xldll+l7bt/SBv1laHJ8Umn7/PJDMvewU3Kz7UIIIAAAgggMPsCBGdmv44p4bQJ1ArOqM7zbpFDx8X1pW1I56Irqmno/PrK3qVfSMezy/R9ZQ853nX+urz/NLTPLstPcMbfwkP8p6Ed+UvKGQgggAACCCAwKQGCM5OS3zDpJt+4n9lzWOT2ZMpNNG9D9p4ygwjxB9/kYPRzqxw+tyzZrBzVcd0th6L/2z2a+nH9XnOEiPN6Feh4cIvsXT8gatbIrYezfBTz4K4Sc9j6KJfp1CFf/kKG5Zv5V0QB05+MDPuDM6VNTjmNKyBKfuzbpHxG2fUM5KZHGOXPlb1J+kmS+frT21dY+/Q/rv6RJWX3CAnONGmfoylThWkp/vKHtF+/T7dnuNtPeflC2qev/TVqX1/7lNyy/YTs0N+Htt91yxd0d3cbLXu+bM9f+pYvTL0sz0ab6ZvTPovv9+K00CCiePQRI2fCrDgLAQQQQAABBIoCBGdoFR0LjD/4Zh944w/ZJ3aM1lRR//7kluOjNVLijtb6ODgx6kBlnfZc56X0+jTooNK++UEVAFJBmUMiu1XAKL8ui53C/MY0Kc+JHWbwIu78OvKX3dXVuSh8I9vRyBlnRcdG64WAmZHvBuVT9ynrtOTLn/+3r/7LfR31NWp/WfscB+vqBUomF5zxtc8QnwOP+ctfz6Xj10vatvTpejYPX/nK2md5+wttX+N1oMz3n+N6zxS37lWLKdjr31f+/HSp4vmhZambvq/d+o6H5s/3nqtyH85FAAEEEEAAgY0pQHBmY9Z7j6XOvrnWAyFq4dqDsiU3emaUqVxwIh/MiT7uh1+v3SuKqqTremwuBFjcIMX85z/Mh+bP3gmwlMUo/3iRXyOPhZE16rwH5WZtxFFoJfu+7W1WviQX7jQs5Y+Db2dkT1qWRunn7pXmRms/lvZZKzgWqm0/r34H0d8+Q4IzRqDSUf76eWxmU361r/2E1a83OKMFk433j5htNah95d9fhrftfdmlX/i9rfVf4/mq247qpR+Na4oX254zRmPqpfYdDxcqD0JXuQ/nIoAAAggggMDGFCA4szHrvcdSBwRn4g/4ByTd7CLJmxZ88H6YL7u+cXDG/82vN3+pdnDnolJwIBv5YU4FC69gf2ewUfnSjDg7v7a6SxrAaCRPo/StlnqZwzrv4Z71zgwto+3ubYycmdrgjLf9hNWvNzjjGslSp30VgstagEkFe+Klozw7utVrZo2usrZRb/n978/QTNVNX91/NPpJ/cOy45TveGgefYHu0PtwHgIIIIAAAghsTAGCMxuz3nsstaVzZHzbahnmbhs54xzm77m+reDMaD2c4of70I51aHDGHClSZeRMyWgkZ437pxk0Kp8vOOMbBZV1rAKmeYT6miOvwjrvXT8wocbO4ExJ+8yuKZsWMrXBGW/7Cavf2sGZGiNHokiBMTJM1U+WvlpXS62vNcStmOs9X2lwJqB9+p6xuumb902D2XOuXet8x8tzSXDGV4scRwABBBBAAIEyAYIztI+OBYqdI/Ob/iT4EI05T9ecSYMRwSNnPNc3Ds74pwuFdqzLOsejNWyyhXl7XBDYN6y/WfmS5lWcmjRudr5dUJqlXww+mWsahXXe/Q/JpNac8bfPYQRnsiBj3RFe7hoobz9h9VvWPsvbX/X2Zc1vuo6WXD8ne46PF0P3t7vsjO58Q9qPvgaX+XyFt09fWYPen2mgS1+zLH9f3/vEd7wsn+XTN9WC+O23f58bxxFAAAEEEEBgegQIzkxPXU1pTrNpN1r288PKjZ2Couksh3fIiYPjof3eD8tl1zcOzuSGxGfF0MoQ0nlT6+kaP7qBPjVDBWX2nJHtB7eMFkwOq3jlXL6Vdtl9jGH90Yn53Zq2e0YulZYvTjjXDow2UN5GGvvGoyuyncLiwmm2YZ13fx1MKjjja58WW1WYkb+v/L7r/TLZGcmOSlV2SQu9d1n78ZUvS8PdPr3vn4D2ZTwflmk1o+fDOaLDb9GNb0j9lz1fvvbpK1fT9C3XW55/o34qB8bA3KoQAAAgAElEQVTHZfAufN5J+/cZchwBBBBAAAEEpkWA4My01NTU5tPSOZqmsli3tc2P1hlCgZoFZ4ZQgo2cB38AwKEzNe3TvzDrbNZ/6Psv9Dy3km8E3ER8p6h9tuHjnR5XsjBxG+lzDwQQQAABBBCYbgGCM9Ndf1OQ++adjokW0rbNtLXDMdFcxomz3sHk66BuDmoHZ6ahfY5Ghm3EKR1h77+yaVXeNjVk32lon17g8BOs7+Ah10940TgTAQQQQAABBHoQIDjTA/LGTiKsczIZI8diu1lm0ukH+Sk/+k5Ck8m3I1VtetStozV8BpVDMuOsOrXdbzr3reK0iqlpnxuy9svff+O6m93Albt9hr1/h99szKlT+pTQ4eedHCKAAAIIIIDAkAQIzgypNsgLAggggAACCCCAAAIIIIAAAghsOAGCMxuuyikwAggggAACCCCAAAIIIIAAAggMSYDgzJBqg7wggAACCCCAAAIIIIAAAggggMCGEyA4s+GqnAIjgAACCCCAAAIIIIAAAggggMCQBAjODKk2yAsCnQmki1bKXjl1/A55VWfptHBjtcPLwS095TN0weop8muhCpy3UItO7xY5lGtDxqKvFRc07jK73BsBBBBAAAEEEEAAgWkRIDgzLTVFPhFoKKC2eb1dDsu55e0N79Tx5R0EZ9zbjIcGZ5KtyqfCr7PqSXbXEctOYLW3Ah/lNdvxZhK7Fpm7BvW9207cro6OK63v9MdVEAXeth+Qx3oOrhV3c4r2w9t7So7f0WcIeUI7Lmk77BmPba91kN8163rZe+q49Mdv2ku6S2K7r7Hy94vxDHZi73u/+Y431Si7fx/vP3f6/bz/AnyzZ7Hn+u/n/ecrf9fvP0f6g3j/NX22uB6B9gUIzrRvyh0RGKTA1AQXCM4Mtv0c3GLvNDcKzqj6vn1d9u6dkwMHVOxnWfoMH6rn4sGbz0kcs4w/LJ6QHb12TvXqdgfAum0UaZBy7lY5ut7XqLWkRKrt7JZDPQdjNM20gzBnCTp2a26/e7/v6aTeT+wYP9fxs3xiR68jF8fpF/PTuA4875fYez0bUZp2Iuda/BLD937zHW8KEFD+Tt9/lcrXwfsvKP0O33+e9Dt///nK3/X7z5d+rn33+/5r+nBxPQLdCBCc6caVuyIwHQLqD+eDW2Tv+gE58JhEX1oeFrn9djkq5ren5rdb2uiG9A979FXrqHOVnFttBET+27Poq3Ojc+D+ZjMb+ZLlW7GP8277ViqumNG3s9n1p2TLwe2xgX59eCU2m/bk9NU6r4eiLuz2JIPGyILsw53ruDq/vP5ywQhbgCL+3RnZ4wic1A/OKLdPypbjUUAm/hDXf3DGrOMOOofhjSg+0z3Kq+KNKpw+6pDvOSPbe5tSmGSw886Jx2ES3u4sqc7pQdnSW3DQ0hn2POsVmpX/VFtarQbnfe8Xi3erAVpf+r7jfsLyM6rev+33X9X0237/haXf3fvPn3637z9/+t2+//zpm+237/df0+eL6xHoRoDgTDeu3BWB6RCIO8RHo1jFObn5QRVUUYGNQyK7t8uZPcloAvXh4ZNbjicjC7KO/uibxrh3NR5tINVHHhS+Kcl9OM8fN/89Ho6rypDlN//Nr29aUxKY0q4/s6fi9K/6wRmf7yjAlAWscp2HkOPu+nN8c54rvy/44jse9DAMIjjTwTe3QYVPT+qzY5zlS29P5/pc72kIwZm0MxCP2srmlvU9rWfcQFp5jqq0tzQ4Fs1mS6cyJe1/va9pZbZnvqtnwJZW/nfaNIvs70FFzpK4myf43PX7L+j+Hb7/QtLvqu6TDy724H9f7z9H+t0GZ7TmaE2/x/dfQP1P4v3X2vPNjRBoUYDgTIuY3AqBqRPQAiHREAbZHnfKNxeGuhvlsnyzmXzzNCfRpAhZ14bI+z0s35QY93d9s5mN4shGvqTTUpLwUeHbZ19wJgtEpdGnHhcktgjlfIvTDMzy+Y4XUsjXn/Fvm6f/29RWPlQFfHjzt6dmZ5hTHJrdq8rV+simvtdbMZ6NVkcthAkURrd1suaDKy/pehv6OicTa4cT/NY4DdIrpdaDEqXNIB8M8K2NEdamrGe5gjNqpFj8fUS03lI86tL8cqJBiualvnblO940IwH37/T9V5J+L+8/R/q9vf9KgjPZiNi4irt6/zmDM9FI6T7ef972N8H3X9Nni+sRaFmA4EzLoNwOgakSCAnO2BZtK3yAqDlyxDes3bVg3Gjq0gwEZzy+vsCH73gyskl1PLQfo/60D0Vq5FNhNyabsdnKvXkIeSi8H95CblL/nCRIkI0gqH+fplf2Oue+NFDXtCT1ru+0g1jIkq1DMJlOQr9rvYwhzGmolmBVvWoMv8p4P0XBkcM75MTt7imU4TfOnekcOaNGTOmjpfzvu1p58L3ffMdrJapd5Ll/5++/wPJ19v4rC85luw92GZyuUn59ZHLTes+uLxs5Y0yj7Oj9F9L+elvrqi1U7oNANwIEZ7px5a4ITIeANzgjxVE0rpEz0aibw9F+RpV2NLIEZ8xOiu+DguWDtOWewx05YxmVYhs5UzLNqjww4r+/aqiZj1q3prg46+yPnOm8Y1LlbdBlB6HQXzV3itIP9zuCIrwTWYXSf65tGofvneO/a/UzOpxOUpYZ5/pSE1wUW7X/B2+uOK00QNzWObQthtrqmjMV2nVg5z2gpPZTSu7fy/svtHxdvf8s6RfWutPkWn//VSl/F2uvlYycMXdg7Oj9V1r+Cb3/aj9MXIhAtwIEZ7r15e4IDFvAG5w5l9s+Of1mVR95YfzRrfpHNtfxj+8VfZOp3b/8m7RicMZ2vvtbaUtwp9aHw5ojh+IpWPr21EVf36iU8uP++8cNNO2QyPVzskctzptrtc3yEPgIBHx4i1ZHan83pzjdaLeo0kVY03rpIn2DJ21Hhd1iekrf2fZ7Sl/6L39+pI79XdFt+f2jZrpK37LGTEknrpPnT2//zndAC+V33Dtf//a/N92lPyp+1+8/1/37ev8FBSc6fP5D0u/y/ReSfpfvv8D239n7zxccLB0108LzF/gxhNMQGIIAwZkh1AJ5QGBSAt7gzKvShfS0xTLVsPODIofUUOA0mGJ8y2T7nffb23TajQrKFHaMGS/6O7pNbreldBOj5LA+f3p0Qe4ehd2atDVreg3ORBnMAlJxXtNh/ZlvHDfJ1gKybzDtO+67f0Lk+lCcAna2W1N+J6mswopBmORbzrYXa80+9OUbaF/pF9u2a82ZbsqfK3dJ2+8m/SGUP5cHx5oP3ZQ/fsDjaYe+rby7Tn887dH+jHWVvjF6oWS9jbrp20dH6M+362+D+Wx0lb4/f0k+ukm/+/dfefm6f/5DfVNk53pz3fgPofzdvv+8/pN+/03qszfpIlAiQHCG5oEAAlMs0NH6AFMsUi/rfkf31DB/AKlensyrkqH3c+2PnAnMHOnjT/vj+Tt8rjiyMPAV0ug03j+8f3j/TO790+jh5WIEKgoQnKkIxukIIDAkAX9QYUi5HWpe/NMq4u9uc1OwxqXxjt5pUvDRgqEdTGkKyRfppwtK4z+Rjjntj/YXL+jO88fzN4HA4EZ//4R8RuAcBFoWIDjTMii3QwCBTMA1ZDo9bp1+VFWP4ExVMf388TbGgR/81Qe1wm5O6ciZbG5ZV1uBNiko1yKAAAIIIIAAAgggMHABgjMDryCyhwACCCCAAAIIIIAAAggggAACsy1AcGa265fSIYAAAggggAACCCCAAAIIIIDAwAUIzgy8gsgeAggggAACCCCAAAIIIIAAAgjMtgDBmdmuX0qHAAIIIIAAAggggAACCCCAAAIDFyA4M/AKInsIIIAAAggggAACCCCAAAIIIDDbAgRnZrt+KR0CCCCAAAIIIIAAAggggAACCAxcgODMwCtonL1ky+ADj9m2vM1vWXy97D11XO54VZuFK0s/O5am18oWyXrezfJdv/eUHM8V7tTSZrn9aHpN61v5+tOPNhMuqZ+m9eBL33e82/QN+ygpW/00y0Fg+dQ2z9sPyGM91/94O+pxKds1CCm/+Qz2ln5mnq/gVuvAV/6u33++9Lt9/4U8X12+/0LS7/L950/fVz8N3z763xbL+82fv27TH929s/dfs/xzNQIIIIAAAgiECxCcCbea3JmnlmTz7euyd++cHDggcvjcsmwffyKLgwIndowDFnFn8cQOOXX8DmklPlMp/aSjouenKZz68PvgzedkWRU6/gB6QnZowaf4w/H63rS8aUdp7rCciy9o/uNLX0p9uk/fm7+GWah2/6SjFDXSpL5a+AlLP6n3M3O3ytH1Le21/Sj/vvTV87ZbDhUChi0UPb6FL/3kmTggcy2a63n3pp8raPw8Sl/PX/F90/b7r7z8+fTbf/+ZvMXnq+v3ny/9rt9/vvSrts9mz6Xv/eY73iz16G3geL929/5rmmOuRwABBBBAAIFwAYIz4VYTOlN96PqkbDkeBWTiIEA+OGP5sBZ31s7IHiOIUzf7nvRtaal8Hmy3gzzOfb7zo8p/ULboI4UsAZy6pS9eZ+uMldVPeyknd/J1/nzHm+bHf3/VWTq4pTi6qWnKZeUfdcj3nJHtnbU9u3/XwRnTrejfrXe+1nz1b3ke26n49C625z8XDGz1/ecpf+/vvyRYN36++n7/5dP3/X1qtfLjm5W3d1/7bJ4f3/PmO940B7b79/f+a5p7rkcAAQQQQACBMgGCM9PUPqzBGTWYJBopE42oSaYyJcGadcvUn8ZFtaVv+12nnaNcMCqfvjbN4tZORhKUfDPqqJ/G7sYNfN/M+o43zY3n/p3Wfdw1K35zrAfjznUZGLSn329wJl/+tHMej6obzevrYFpj1m7K6z9+F53Z09qotWJrLabf2/svCQ2Y7a/v91/++er7/Vf2fPfx/vO+Xzp+//nS9x1v+vq13b/X91/TAnA9AggggAACCBCcmZU2UPbhNz6WdM66CUqofknIyJ0u115JvjUdT2FK86RGShwS2a3WGxG13k78Dzmzp72pNaOuaT59vW310DkplD/Xtn3Hmz4Krvvr6y60u96JmWNb+sY3yZ2O2rK0vyh7hTVnWl1vxVf+dL0NfZ2nDtthefvqetSM3T+JmfTw/ouTyb1/CsHCbt5/zucra+8dv/+Cnu+u210aeyx7v3T1/vOV33e8lfeuo/x9vv+aloPrEUAAAQQQQKBcgJEz09RCHB9+kw+G2ULBls5aW2V0ffg2FgWNgiOHd8iJ29uaVjXOvPkNefr7UadMXwQ5nX/fcnDGmn6PwRlf+r7jTZtB6P3bXnMky7ez/vVpTB0GZyqVf7QGUlN1T/uPgwO5aX3W3zXPh6/8ba/1ks+xK/2+3n/O8vf0/jMCxNmaPj2+/6zp9/j+86Xva5/Nn4DkDr73m+9403wY98+/7zp8/zXNN9cjgAACCCCAgF+A4IzfaDhnOIfQmwvk2hbNbaUQod+MqvMevLnVqQ2+jpGxGGoHa84EffAP9alRGb70fcdrJGlcUun+HXQQyjvm9tK1OYKscvkLa0M1qwF3+rZpHO2PYPGXv9vpJOXPf/fvP3/5tfrt4P1ntB79+bItBt3B+8+Z/gSCM/Eoqdy6UpXqp9mjmIzSKlvXyne8xfTP5XaS0m/d5vuvaZa5HgEEEEAAAQTCBAjOhDkN46ySaUXGGjMl5x0V21bcgcULCT44z8m2O62RfnzPaLcqx/bg+aHs9m8uu0t/pFfq02H6Hp8kfx2mb4Zxki3FC7tl9ZS+s2PUU/rZluo9lj/f/u0jWLotv3/UTFfpW9bYavv9F/R8pQ9BF+8/z/PV+fsv6PlWrxjbtNfs4gb170s/qH46TN+Xv6bv36D7a+3PGjhqq/yBnxU4DQEEEEAAAQRqCRCcqcXW70X6fPZxylqQwxhWr87Qp/iMr0juYz9WViJf+sbxkvU26qWffajM51AP8mTrPKTn6OtvaJd1lb7PZ9Q9qeXvK7/veNP6990/Z69an2Mx6q78jZZR8q11N+kPofy5PDiewW7KH+kHbuXddfqPjRpCm+8/X/tPp7mM1mLe69zGvV75Q9pXl+8/f/rdvv986fvrp9n715e+73jT92/4/ZMYkHtUT7321+9nHVJDAAEEEEBgowsQnNlALSAZ+j0nh1vZYrs6HOnjT/vj+eP9syzbq78+G1/B+5f37yTfv40bMDdAAAEEEEBgAwgQnNkAlZx9s/1YkylNTZxGI3tqTGlqkm52LenLLfFOVvhPJDBA+6P98fzx/tmo7982/oZzDwQQQAABBDaIAMGZDVLRFBMBBBBAAAEEEEAAAQQQQAABBIYpQHBmmPVCrhBAAAEEEEAAAQQQQAABBBBAYIMIEJzZIBVNMRFAAAEEEEAAAQQQQAABBBBAYJgCBGeGWS/kCgEEEEAAAQQQQAABBBBAAAEENogAwZkNUtEUEwEEEEAAAQQQQAABBBBAAAEEhilAcGaY9UKuEEAAAQQQQKCxwNfkU7dslwOPJTe6fu8pOX7Hq7S7quO7RQ4dF+PXjdPlBggggAACCCCAQDUBgjPVvCZy9qmlzXL70XHS+Q+XX/vULbI9++SZnlb8AFo/6770kzv7PgB3lP5om+Lc/a/fK6eO3yH6R/C6OfCX/5Qsbb5dxlV0vew91d4HfX/6pr3celjOLW+vW1z3dZm1xdbIY4v2RmZK0h+3vw63C3emb9Z/m89eSPn97aOlplDqr14Bn0q2zO65/rt+/430gtpfcnYnbcCWfg/vP3/5u33/+dMPf/+pZ+XglnxwJkrh1JJEr3A5fG5ZOnhztvQAchsEEEAAAQQQmHUBgjNTV8PJB+HoU6Rk/W/VOdkth3LfBnZVsGL6WadsTstTV6lHn6IL5c+nFXdWpaMARSH9pGNwYsf4A3/cWTyxo7XgkFm+fPnz6Rfz005dJPc9M3erHF3fYpQt9l7PgmFpR2mubX93+knHal327p2TAwe66mCVl//Bm9PnMe4sn5AdLQbnkvorKb9Rwf7no1578KXvO14v1fFV7vv38/4rKV8aIOn2/Rfu2837z5V+X++/0PTL33/O4EwcW4ze22f2dBPYbtr8uR4BBBBAAAEENoQAwZkprOb8B8x+OidjqHz6ZR94u+AtT091Tg/KltY7x67yu4JVZ2RPR9/CGuWPO4a5tFSw4qAZQGlaD6OA054zst24t8W7gwCFO33VGfukbDkefePd4bff7vTzst0Ex8LTV4MAHKMDGjQCX/q+4w2STkJTWcCz0P6SY10Hp8vS78K70KpKyl8M3rb//it//s0vC5JgfbvvP2f6Fd9/k/7b0fQ54HoEEEAAAQQQmG0BgjPTVr+WD6N9dE5GTIX00855PGohm9jT7rQeo4o8H/w7//bT4R/N5kinMiXBmvXCugYtNbR8+raARNudIz3Yci4X+Mmnr02zuLWtkVRl6eusXQVnQtOP89LByJUq6bdd90lkZDwaKF//IcebNn1P+p2//0rT7+H95/PXfDt5/wX4d/r+q/L+GbVHe3DIF0jzHW/alLkeAQQQQAABBBAoEyA4MyXtQ19XwrvmTAdrPrjTT9cb0Nc56aCTXFb+cRV2N2rGm35c5iQ41VpQQmubPv/xNLds/YX21l4xOiz5UTnZvw+J7FbrjYgKzMX/kDN7xlPvmjxmpen3EJwJTl+FZowpXk1KrbVqfSSMY1SUt302yIqv/L7jDZJOwl2e8hfWnGn5/VeefvfvP1/5u37/BaXf4fsvxD/0/ecLvnQ7JbXpk8D1CCCAAAIIIDDrAgRnprCGfWsKdNFBNPvA+poutoBId0GSrLNmW1Omrw/Wef+kY5wFQyydtZbbWKH+jUVBo+DI4R1y4vaWphW4gjHZYsujTpk+WipdH6KN4Iwv/a6DMxXST4IE2Qiqliq9QvpZir73Q6Wc+dL3Ha+UmOXkGvdv9f3nTb/j9583/bFZJ++/gPQ7ff8FpD9aiDqmKH//+YIz8fpVLU8JbfoIcD0CCCCAAAIIbBwBgjPTWNe+D5AdjFwxmIz0bdM4ug3O2D9AdzCdxNU29PLb1lfpYM0Vt7+jQ/vgza0sbKmPyMinFI8Q2pzs0GMshtpi+b3p61urdNDuQ9PvJDATgYemX6l9VHjn+dK/+UFzJzn91m2MIPOlb92UrMV24E+/2/efP/1RSM67UHqFah+d6k0/fv5zC2BP6vkfRydls+P95wvOdDItrA481yCAAAIIIIDAhhQgODN11e7bDcd1PNvutOl0l+L9899U27/B7S59VYX+b427St+yxoy1c9hV+rkG7OyYtpS+JTCYr3/7yI3u0td6kiXb4XaYfmwe7RZVugh1h+kbTaDj5z8kMGwdeTC75e/1/efw7+39V0i/5/dfSPsr2RLbF5xxH2+p/U7d5w0yjAACCCCAAAJ9ChCc6VO7VlrZGiLji801Z3zHx9cl34JWXaw35P65cxxrPnSWfuBWtl2n/9iI2m7cVfrGt9sl623US98S/Cl0vnP1r68/pF3eVfr2b/eLQchu0s86bfmHu6/0Q57PJG/dlD+kfXSZ/hDK3+X7L8C30/dfePrdvP/86Ye+/7Jn4OCWU3L8jldZ/hqXj/hs5fmp9RmAixBAAAEEEEBgowgQnNkoNR2VM5l6MRetnRhtOzyBcpM+/rQ/nj/eP7x/J/H3xxec8U1pmvTfrwn8ySZJBBBAAAEEEOhZgOBMz+ATSW60YGzTKU01c0/68bosjwn+E+mY0/5ofzx/G/f9o/3Zck5bKlunaNLvj5p/drkMAQQQQAABBKZPgODM9NUZOUYAAQQQQACBIAFz2pk5LVjdQB3fLXLouFhnOwWl8f+3d/+xfp31Ycc/+6N/RCv0jykSChAS50a5wZZaFYkgJqVhXhfDrqdQZ0Lin6hceVbAsoyYuQSVRikT5tZDse5MosgyXbQJlRETt/cO7HZ3MZmKStWyVrLJDThOiAB1itjUVlOYpmo7z/n1Pc9znl/n1/d8f7yNhGJ/z3l+vJ7ne77nfM7zg4MQQAABBBBAAIHuAgRnuhuSAgIIIIAAAggggAACCCCAAAIIINBagOBMazpORAABBBBAAAEEEEAAAQQQQAABBLoLEJzpbkgKCCCAAAIIIIAAAggggAACCCCAQGsBgjOt6TgRAQQQQAABBBBAAAEEEEAAAQQQ6C5AcKa7ISkgMAcC+aKYsiG728fkzsYl7np+4wyndkK2Re71LL8j5+Xmmelu9Du1/MtdZ7Kq6gujLm77NupIyihdG1b/jmhttL/td6hRSTgYAQQQQACBgQVYMH1gYJJHoLEAwZnGZJyAwHwKqG1kj0rb4MPiP7ynD+A3Tk49OFP0pmHz35VT+46KnL8prthTt/4xn98JvdRuo+5tU9wAH0ma4IxMN/yX1etiXtn6bkXDtl3ar4rMa0HBYfPWUi+Ck1MOrmmBvZHaINuR6qAUMeip9QEjIFy2x1TbQO//SVhaNnanuTOXbj/MCwD/9UX7Dg5iH7q+hT7veh3wpT+N6587/+lc/yJ8I65/qqxnV3Zl29y2bveUZLcP0/7t6tovOB+B+RQgODOf7UapEWgswMO3n6z7A3jjJjGeHQcMDqU3ZjfkpOfmatn7h/PGNGmlTn0jvbHdk42NVdncnP4NrqrX5UN5UC7tBzuyNtWH02o3DwcJu32LXGdnDy83Vo/Ixb2VlqMH25VM9Z0TslV/4GmXXPOz8oeyVU9gtnmi7c+Y7nUma/edtckDZ/pd3lmbUh8w86+Xp71kfmbg+pJ67xWj/fKH+NW2L2kspQ1d30KfdwWIqP+g179G9Rvg+heVf9z1b7DfwK5tzPkILJkAwZkla3Cqi4AmoH7YL6/Ixt5m+lb1yPnzIkfVW/bJ20X/tJv8R/9kcZ5KvembSePNYpLCEeNBQn/7VBl9ECx/fPl8D+D+N4/h8sf0uvb5izh9iowjgjOB0FX25r3ltDhf+YqH163kEbaYXlZ9sx/6XJXbmb4tGOH8N3fwqn1wRvWNp2RlO3njOBNvHwd4OIzp3JVjfA8ADZOKPrx8ID95Qw6eXa7gzBje7oZRD6dnZWVqwUHLw3Dna2F0t1NR3XpQXF0HeuuDoeuLxbvXAG0o/9DnDSythzZNv+/rX9P8s98q6+iUVhRx+cde//xlm/Z3txUIJyGwEAIEZxaiGakEAi0F0gfGi2kw5NBlNf1ABVa2RE4kb5lP6lNg7A+oRWDCCOY0mB4UevBVnz+1sl1Ox9HeBAbLPwmcFAEf15tTVznMN73m30Plj22ZLvm7fJLIwGQ9Ha0gTafXtJ/W5m2/pExl8K8Ybm88PMR87uwf+XSO2ptzo3+G2jD0eVQbz0RwZoA3t1GVzw+a5oOxFpjMRwvd7PPBOK7i446cyR+o0lFb5cS2KU/rmTj18j2KYy+Pyq4fktc56/97G5apGw3TjTrc9p0f6jtgy8v8t8o0M/MFSFR9fAeFrm+hz7sWICr9Aa9/MfkP1fbKzpV/9fc0cP0LBY5Cn3dtQs5HAIFMgOAMPQGBZRaovMVLH+TTh9Z9taHgisgXnNECOQ3fDGY3z6vx85mr6QfLL9l0Bi3QZH8DZK+f683jZJRF4/I7+lvb/GvJ2fyHvCls+v0xylcPlunmoc+D9dfyK0ZSVQOP4bepvTxUxty8N7VseLw+xaHhyR0Or45smtp6J3l5tQeKhtemDlU2ggP5guPqXwdZ88NV0ny9jepC56P1wxHfvOdBfKXUe1DC20nMYEDE2iBtO50rOKNG6aTvWzblejqq1f7ypW225XmhfhX6vGsBItIf9PrnyX8q1z9H/k2uf6Hgy3SnBHbtEJyPwPwKEJyZ37aj5Ah0FwgGNyb7Og0VnCkDP64dk2yLShYPOMHydwzOuBa0NKZulaM7srv/VosKW31j8vf5FD1kzOBMoHyhwEfo82zqgHrwqPzRHoArD4Vi243JFrDRv1rBMsR8EyMeHo94rNgAACAASURBVGKSaXuMPoKgbSrdz5vqmiNmMGaE4IwpNugDYq15bAGRcYIkYz3YZQ/GxUhBS7Cqe5f2p6Bdn5LgyPk12TnqX/+rVZGcI2fUiKnqVOPw9a63/KsJDX39C6Q/+PUvsn6DXf98wbli98HA9S8UnElH5/Q2Ja9VL+MkBJZCgODMUjQzlUTAIRAMbkwnODMpnblgoWVUQ9eRM45ARfTIFW9nar/gYrv8Az6jB2fC5QsFPvyfh9NXBMVNp1rXpr446+KPnBn8waTJBXaKN/j6WkR6Iac7gqKSd+RDXBNS97G2aRxjBGcGnE7ig4pdc6of7LhUVPtfPtQqgO/NwNavbItB97rmTIN+PXS/96Q/letfbP2Guv5Z8m96/QsFZ0K/1XFfAI5CAIGQAMGZkBCfI7DIAjMXnDGnT5k39fmbzw4jZ1xvrlw3Hk3fdLW9gWmXf8Cnt+BM2zVnwuULefk/D6efEuQPJLJ/VU6qxXmN73S3MkReILw378V2r03XAorIO8032S3KuwjrgPlrRXQFL6eUv/PBaEr5F1ta13bLGS5/c6SOfQTLcPlnX7/QDklD5W9ZY8b6PRwqf+P76bwG9JC/Z1rLZLemfPF0MUd3Dpd/KTD09c+V/rSuf1HBmQGvfzH5dxw54w7e9NB/In7KOASBZREgOLMsLU09EbAJBIMz2bSgYsZRmUQ5dccyRLrRm6H6Tke1NRnSm47KYpZqWPhZkS01VLdN+bVpR5b8VSVDxxj113warSnRNf+krD6f0YMz4fJ1DozE1N/5UJwDBaZ9hcrou7jY317WgzDZcU13Ogtd1oqbZvO4aeVf79+uNWeGqb/l4dgxLH+Y/Geh/kYZHNenYepfBEY3JbSV99D5T6Y92r9jQ+Wvff89vw1t8w9fX4z2d0y7HSr/cPmy7+gw+Q9//fPXb/jvf6xvjuydluQfOeMfcde2/UK/YHyOwDIKEJxZxlanzggsjcBA8+uXxm9RKhruB74b0y7BmVjBbOh9g4WxYxOOPI788af/8f07f7M+sjDyEtLpMK4/415/igCZa5vv0G/g2O3XqfNxMgIzJkBwZsYahOIggECfAuGH8j5zI63ZFAhPq0hvTdNtdpNtw8pt24vahG5MO9W6XDB0gClNMQUj/3xBafxHeTCn/9H/0gXd+f6N8v2r/EY4X1D4pkyN/f2N+Y3jGATmTIDgzJw1GMVFYH4EXEOK8xq03NWoWf3HDM7MQv2baS3a0dnbPDWhIfLGX91onsinzFUwJukk/9ho2tqiiVIfBBBAAIHFEdCnXtWnnarP0x9FOTbZH2Jxqk9NEJhBAYIzM9goFAkBBBBAAAEEEEAAAQQQQAABBJZHgODM8rQ1NUUAAQQQQAABBBBAAAEEEEAAgRkUIDgzg41CkRBAAAEEEEAAAQQQQAABBBBAYHkECM4sT1tTUwQQQAABBBBAAAEEEEAAAQQQmEEBgjMz2CgUCQEEEEAAAQQQQAABBBBAAAEElkeA4MzytDU1XWqBfEV+2ZDd7WPSfNH9rufPLr62E89UdpDq1yKu/F3br+v5kXV27JYUeTaHIdBCILAbSbqN7MUkXdeOX+xm0gKdUxBAAAEEEEDAIkBwhm6BwJII7J7aJ0flvNw8c7BFjaf0cN6iZH2dkgY5bpxs6dNXKdqn4y+/v/1U3zi7sivbnr0yu/WfmHplW4/L+Zuid1F9S/L6Vp8xabuP0YJb+WG95aGCTQc3RW3mrf3pfTvuYjtUewAhbTsVX1B/es9bJerOf1DfJGetbmn16v04WP80AKO63hlxXR29/T/i/G69lLMRQAABBBBAYBkECM4sQytTRwSKh5jWwZnFJ1zs4Iy//WYhOOMqg/r3y4fygE0a7NiRtd1t8cSRGnVW1e4nZMsbmGqUYODg3oNcaWBgTzY2VmVzsx5gSPPbK0bM5UGU1bZBWkvlAvlP17ce4Iutf/D7r+p5dsU58jB4fp+diLQQQAABBBBAYCEFCM4sZLNSKQQiBdQDx+UV2djblM3k9f6R8+dFjh6Vi7JfNvIHYP+0mexh78bJ4jyV7+TcuFIUb90nRx8xRk/ob8crowOC5Y8vn+/hyv/mPVx+v4Pv/O7l97WfbVRDWtbG07s6jqxKgy435KRn5EJmmOWzs+Yf5RPX7/IUpxqcUcGDs7LSW3BJeTwlK9vJiA/r6A1Lfr0GuEL5Jy02Vd9sJM1kFFiT+gfaJhCcSXLuuW2b9GKORQABBBBAAIFFECA4switSB0QaCuQr6eggiGHLqupDyqwsiVyQgVc9Okl9uBFEVgwgjkNpgeF3jirz59a2S6numhvwoPlnwQ+ioBPmt/OWu0NuKsc5kgH8++h8oeaJmo6Uho4y9qjafmL/EPBp9C0pqgAU8s1jeINXVOfQsruz6cZPIivZ4v62IIz5r9VplmZAdAWOeqnOKb2TNM3+XLoQb6G9feOIItYDylmBFpnZxJAAAEEEEAAgYUVIDizsE1LxRCIEKi8DU5ewedrruyzjk7wBWe0QE7wDbNermz0xqp3vQftjGr6wfJLPrKnGmiyv+G218/15n0yyqNx+Y1m8Z9fjJxpW/5JZsMGZyL6mvOQ+NEw+hSVLnkaLmrYWPFnkDVZVOIDj6xwBWfUVJw03qrWvnEHXztreoIzBwf2rY5s09acKa4PkfV3BT5Tm4gRR97zOwOTAAIIIIAAAggsugDBmUVvYeqHgE8gGNyY7Os0VHAme+5RAZr8AdmcUmNbVLV4gA6Wv2NwxrWgqzF1yz/1K9wF3ecvT3DGHKllqmVGUk63C6u2O2KIAFDZxy0jttqV0nKWc+SMWgm4OtXQ1qd6KEXkorhD+RY10Ea2lTstRdY/GFjOF6d2BfCC5/fgTBIIIIAAAgggsLACBGcWtmmpGAIRAsHgxnSCM5OSmguWWkZVdB0541jfJHrkjJe164Kr9vprgYtG5a/IenajGnc6RnjkzLQCM6lWZJAh4ttVOaT/6Vi1/G3lzoOLq9U1nCJGgDSrW350rFvsca0KkbdfsXBvw/p7p51FrIs06LS1th6chwACCCCAAAJzI0BwZm6aioIiMIDAzAVn8lE05Zo15kOt8eY6WP76yBnXbjmxa86EWqHrA5p+fn2UQ9PyF+X1lav7dIxuCwJ7zdKH+WQ3Iu8iusV22/atpENt5g4OFp90Sz/s2y19X1DJHKli7z/D5a/bu4KXPeSfZlRPP67+WSm9QcqIUTHjBjnjezlHIoAAAggggMBsChCcmc12oVQITEcgMrhRXTIiLVg59cgyRSLiIab2MFxZ8kPMKQPl1AR1VjI94fya7JwV2do+Jne2Kb82baq+U5Jev8oDX7WMRv01n0Zrlljy1863fN6o/DH1s9RxZnZrKh7aza9DPQiTrTvSfacwbc2SSrbt0lfxArVI7aZoo1cs3+626es7mRUJV32MPuBo22Hyr/e/fn1j0o+rf3BNoOB1beA1habzi0AuCCCAAAIIIDCiAMGZEfHJGgEEhhYYaH2NoYtdpj/v5Y+H6jrqoOvCzKGSznv6Y9dvLvL37TIXCM50HTEX8uFzBBBAAAEEEFh8AYIzi9/G1BCBJRaY9+DGvJe/SddruS5LuWhz1ylNjrLOe/qhJhi6frOevypfxDo44al3Er/jXMiEzxFAAAEEEEBgKQUIzixls1NpBKYh4JqSkufdeOpMmzKPGdzoo/5jlr+Nd8dzVKDgRD5lrWNSnI5AnID6jqWdTo5N1j+fnGrd8amacuD8uEJwFAIIIIAAAgggIARn6AQIIIAAAggggAACCCCAAAIIIIDAiAIEZ0bEJ2sEEEAAAQQQQAABBBBAAAEEEECA4Ax9AAEEEEAAAQQQQAABBBBAAAEEEBhRgODMiPhkjQACCCCAAAIIIIAAAggggAACCBCcoQ8ggAACCCCAAAIIIIAAAggggAACIwoQnBkRn6wRQAABBBBAAAEEEEAAAQQQQAABgjP0AQQQQAABBBBAAAEEEEAAAQQQQGBEAYIzI+KTNQIIIIAAAggggAACCCCAAAIIIEBwhj6AAAIIIIAAAggggAACCCCAAAIIjChAcGZEfLJGAAEEEEAAAQQQQAABBBBAAAEECM7QBxBAAAEEEEAAAQQQQAABBBBAAIERBQjOjIhP1ggggAACCCCAAAIIIIAAAggggADBGfoAAggggAACCCCAAAIIIIAAAgggMKIAwZkR8ckaAQQQQAABBBBAAAEEEEAAAQQQIDhDH0AAAQQQQAABBBBAAAEEEEAAAQRGFCA4MyI+WSOAAAIIIIAAAggggAACCCCAAAIEZ+gDCCCAAAIIIIAAAggggAACCCCAwIgCBGdGxCdrBBBAAAEEEEAAAQQQQAABBBBAgOAMfQABBBBAAAEEEEAAAQQQQAABBBAYUYDgzIj4ZI0AAggggAACCCCAAAIIIIAAAggQnKEPIIAAAggggAACCCCAAAIIIIAAAiMKEJwZEZ+sEUAAAQQQQAABBBBAAAEEEEAAAYIz9AEEEEAAAQQQQAABBBBAAAEEEEBgRAEtOPPzn/98xKKQNQIIIIAAAggggAACCCCAAAIIILB8AgRnlq/NqTECCCCAAAIIIIAAAggggAACCMyQAMGZGWoMioIAAggggAACCCCAAAIIIIAAAssnQHBm+dqcGiOAAAIIIIAAAggggAACCCCAwAwJEJyZocagKAgggAACCCCAAAIIIIAAAgggsHwCBGeWr82pMQIIIIAAAggggAACCCCAAAIIzJAAwZkZagyKggACCCCAAAIIIIAAAggggAACyydAcGb52pwaI4AAAggggAACCCCAAAIIIIDADAkQnJmhxqAoCCCAAAIIIIAAAggggAACCCCwfAIEZ5avzakxAggggAACCCCAAAIIIIAAAgjMkADBmRlqDIqCAAIIIIAAAggggAACCCCAAALLJ0BwZvnanBojgAACCCCAAAIIIIAAAggggMAMCRCcmaHGoCgIIIAAAggggAACCCCAAAIIILB8AgRnlq/NqTECCCCAAAIIIIAAAggggAACCMyQQFRw5sKFC/KlL30pLfa9994rFy9e7LUKR44ckZdeeilN81Of+pSsr6/3mn58Yj+SFz//L+SqnJRHP/ebcmv8ic2OfOWcPJBU8cLV43JXceZrF+TK/U/IW559Xd4vn5HnHnlZVl98Xg7coQ54Ta59+H752xPJZx9olhVHRwp4/SPT6HzYK3LugQNySs7ItWrfsKV75bjccno1fFznMqkEsnLtPfamnHuwlwRJpCagjNOLghwvLwowIYAAAggggAACCCCAwLIIRAdnXnnlFfnCF76gubz22mvyoQ99qGZlBnA++9nPyqVLl9LjfMEdddxdd901t8GZly78sly97Q/l0Q++y9N/rsjxWx4SuWQ86M5AcOb1z9wuL939ojy4fsey9P9JPZciOJMHf767nnS/cxIfZ5lOcObK8Vvk9Oo1ubqs0QkVcEsvDU3aZvm+qtQYAQQQQAABBBBAAIFFFOgUnLGBqACL+lMEctTfX3755XK0jRolc88999QCPeqc8YMz3Zo4JjjjfABNgwM78nY1WkYq/53GSaYzcobgjMu/W78Y5OymI2fSB/9rcuZMMjLnVNMAAMGZQdrQkugr5x6QA3uPyZsMUZoWOfkggAACCCCAAAIIIDATAr0HZ9797nfLN7/5TbnjjjSqIObfi9E21WMKifbBmWw60huHt0SePiHX0wRX5YEnvib3vy1L/Y1vfUSek9+Vh+XT8vSlvfTfbn1oMspFfV78u7x3S357/dcqDeRPXzu32qxmOmo604E9eazxm/EiOPOivHXrftn7C5XJeyrTnrJMVXDlz76aF+A9j8uvP78uv1SWJ0sjOzf7c5uaQpVMk/qbCx+WP36i8kFxwEeflYe/GDuPyp1+meELarpWUUCRtzxeHaVjnv9Ree/rX5Tb85NVGf9UnpT3ySfLsurnh+qvEsrzENOm2mht/7sYlaKfv56PkFIP3etJ0O1C8v8HTn03Pei+M5NRIulDef7vsn7J+nCuAnsPXaikf1/E9Kf0cFW2J+Xuq8mIjFajM4rgzDVZPZ0Ed9Li3ydnrulTcLTy1cpW96nalHWv8jkc7C3kTr88Pq37BLDqX0zdKppAknaqjmAJtZ/Kw1//2H6lRtadllXDNvZsjkMAAQQQQAABBBBAAIH5FOg1OKPWpqlOf3rhhRfkE5/4hHz/+99PdarToL785S/LBz6gP/h3Dc5c/bHI/kf/So78ShaMefrPD5Vrx5QBlHfk68n89e/J049flv2VAI4qY3rcTz9uDc5c/fEk4GM7LjRypv1b8UngogioSBrokDKAkQZmZBJMMf+eBmB+eMIbbOkyciaYflre6jo61S9MVr+frE2CNWl6O2tlgKkMIBVBp+pIozvywIyn/lluwwVn0gdzKYIqWaDguYctwZciaJEG6p6Th42HcFcf0dNPIwHt1pzpEJxRgYsioJLmX5mCY5bP/HtM3+8yrSmYfjFyyBr0cLTXcw+Xa/qUwTNH+4Xq3+TnoYtDk3w4FgEEEEAAAQQQQAABBGZHoNfgjDlKRgVnzp07ly4mXKxNo0bMqEV/jx8/3ntw5o3DWWAm+/NtuXjsKbk1D76YwRrz8+IsX3BGS/8vPye/s71PWzjYH5ypPwDGdwPbtKYX5Du3b8lb00WDq/+dp5oGL34o9+ajT7Lgxj3aaBQz/87BGU/63rSNsmbl0utkBmv0z8P1j7duc2R92o8ZLEj/XnnYT6Ir1hES9iCD5dgRgjP6gsDVMlnKZ4wSy4IbB7zrqXQJSoTS96ZtHdGm18nffuH6N+lV9byanM2xCCCAAAIIIIAAAgggMI8CvQVn1KgZFXip7uRUjJxRMNVpTGrdmVGCM7URMfUmGzo4027Hm0BwJl2j5gn5u1p19KlP2vQly5SlLsEZlbU7/cCaOWpUzdbd1mlYxQ5V3pE5+WK+ofoP+QWNGjkTsZaINThjCx7MUnBG1CigU5JN1qr+0ac+haZudQnOqFzd6QfWzLFa6ud4R+ak7ROuf3T/a9u20RlwIAIIIIAAAggggAACCMyaQG/BGTVqxpyqVExjqv77sGvOVEbOpNOWbsoDz3xe7k3U7UGX6QdnqlNd4jtDi5Ez3sTz6T336GvKdA3OTLI0069PW9KKFztyxjktyzJyJh63lyNr68EY66UEp93kpYgNzrQeXdFhWlOjkTNe1Xx9mAP62jpdgzOTLM30A6PWYkfOOINr/a4TE9tXeum4JIIAAggggAACCCCAAAIzIdBLcMY2aqaonblbk7mbU1Wh65oz1WlHaorR12WysO80gjP1qVN6G7d/6KoHZ0JrzIR6l20kSn3qUCgV9+dm+v5pVfXgTVq/lycL94bWtDE97CXruuZMtg26WtRX3+5Y/fu2HPYs9Bzb9vbjjOBCsbBt9ILAFQ1vcMZVv/rIk65rrNjq2TrgZGls67Qy57SqevAmrd+1yYLLofarrQnU/quTLiy81FuKd7DjVAQQQAABBBBAAAEE5lWgc3DGNjrGxFDTmF566aX0nx966CHrNtrqs67BGbUgcPnH2CnJH5zJdmPSzlcJlWkUuzVVRuZY1pwRMdLpebem6k5LUpuWVN8taXKM5bPabk6qwsZx0bs1xaVv7gql77akRr88Ij8tGtAoXyg4Uyu7Ssdl1GG3pmyETH2nIm1KTVGHyugZ/8O9facnbdem6tQZFZR5bE8OnF4tF6wNXYBqI3vSE2xBJlvwyVK+2k5KvmMsn1kDS8Zx0bs1xaVvtpG+W1MRmMoljfKFgjP13Z4Ur33XLX9b9TsKJ9Qv+BwBBBBAAAEEEEAAAQRmQ6BzcKbPanQNzugLAvdZsv7S4q14f5ZjpGRdeNa681L2sJ8MsZFzD45RUvKcR4FwEGgea0WZEUAAAQQQQAABBBBAICRAcCYk1PvnPLT3TjqNBMuRK+ZokyRz2zbNjq2yp1FU8phTgVbrAc1pXSk2AggggAACCCCAAAIIaALRwRm1Hbb6c++992o7MvXhWZ32pLbZXl9fb5isZdpRwxSmerh6cE+qeOHqcblrqhmT2VAC9WlN9alPw+RtTMcxM2k1tWaYkrZLdd7rF1t+NTUrvSjIcS4K7boKZyGAAAIIIIAAAgggMMcCUcGZOa4fRUcAAQQQQAABBBBAAAEEEEAAAQRmWoDgzEw3D4VDAAEEEEAAAQQQQAABBBBAAIFFFyA4s+gtTP0QQAABBBBAAAEEEEAAAQQQQGCmBQjOzHTzUDgEEEAAAQQQQAABBBBAAAEEEFh0AYIzi97C1A8BBBBAAAEEEEAAAQQQQAABBGZagODMTDcPhUMAAQQQQAABBBBAAAEEEEAAgUUXIDijtXC2JfdVOSmPfu435dahWt+2lfZrF+TK/U/IW559Xd4vn5HnHnlZVl98Xg7coQrxmlz78P3ytyeSzz4wVKFId6YFvP1jWiVX2z0fkFNyRq6FtoG/clxuOb0aPq6Xomfl2nvsTTn3YC8JkkhjAbYCb0zGCQgggAACCCCAAAIIVAQIzvQYnHnpwi/L1dv+UB794Ls8neyKHL/lIZFLxoPkDARnXv/M7fLS3S/Kg+tpRGjp/sx0/ZciOJMHf767nnw9zkl8nGU6wZkrx2+R06vX5Orxu5buuxFVYRWQSy9tTdouKmUOQgABBBBAAAEEEEBg4QUIzvTYxDHBGecDXvrwvSNvV6NlpPLfaZxkOiNnZjo40WM7uZKa6fp7+8cUcJpm0XTkTPpgf03OnElG5pxq+oBPcKZp8wx1/CvnHpADe4/JmwxhGoqYdBFAAAEEEEAAAQQWVGBBgjPZdKQ3Dm+JPH1CrqeNtSoPPPE1uf9tWcu98a2PyHPyu/KwfFqevrSX/tutD01GuajPi3+X927Jb6//WqXJ/elr51Y7ipmOms50YE8ea/xmuQjOvChv3bpf9v5CZfKeyrSnLFMVXPizr+YFeM/j8uvPr8svleXJ0sjOzf7cpqZQJdOk/ubCh+WPn6h8UBzw0Wfl4S/GzKMqyvesyCOPyE/T8wPlk4/Ke1//otye56XK8KfypLxPPlmW5S2P66N4tPpVz38hmQZ25W5ZffmJtH63PVuUQy+Dyye2/j7fcPnd/pMWyY8Rs+2qnartfxejUvTz1/MRXOqhej0JCl5I/v/Aqe+mB913ZjJKJH3ozv9d1i9ZH75V4PGhC5X074uY/pQersr2pNx9NRlx0Wr0RRGcuSarp5PgTlr8++TMtatSHeSila9WtrpP1aase5XP4VBvoaJ8l0Qeeigxjihf0g7VESih9lEp6v6V85Xp9mricSq1Wb9UlKNq5K5/sx6nRgaellXDvlkaHI0AAggggAACCCCAwPIJLFRw5uqPRfY/+ldy5FeyYMzTf36oXDumDKC8I19P5q9/T55+/LLsrwRwVPOnx/3049bgzNUfTwI+tuNCI2fav1WePNgXARVRAYlHpAxwpIEDmQRTzL+nAYgfnvAGW9qPHKmXL81vZ60MEKm/X9/3fLlmTlq+lydBiDJAUgSVqiNF7sgCSM7zU4uvpsGmd1xRASoVlHlS5JOTdXpCPqrtffUPnR9T/pB/MUJqb4DgTPrgLkVQJXsQf+5hS/ClCFqkgcTn5GHjIdvVh/X000hBuzVnOgRnssBDPl3QSMcsn/n3mO9m+2lNk8CHFvB57uFyTR6V/5N3Xy3XzEnLd20S3CqDY4728Z6fWiRht8Tm8LYKoKmgTBIiWp+s0xNT/9ifx/ZOsTlwHAIIIIAAAggggAACiyewUMGZNw5ngZnsz7fl4rGn5NY8+GIGa8zPi7N8wRkt/b/8nPzO9j5t4WB/cKb+QBzfnWzTml6Q79y+JW9NFw2u/neeahrc+KHcm49OyYIH92ijVcz8uwZn9AWLLWWqZqgCKlt3a8GbajBHpMH5lbSkDELdmY4U+smaGn3zasXK7uMPzkT6VoJRZvlj/OP7Q9Mj69N+zIfx9O+VYEESXbGOgLA/xFuOHSE4oy8IXC2TpXzGKLYs+HHAu15K+6CDbdpVYISJ4RfbPmXPqJ5f+e8kKpdPO1rRAnQx9Y/tdfWyxp7JcQgggAACCCCAAAIILK/AcgVnaiNi6g0/dHCm3Y4ygeBMukbNE/J3tero03q06TuWKUuDBmfyBW21MlamXgVH9vjODwVnDu5G+Tjrb8s7tZ74BsufHB3yH/IyFDVyJmKtEGtwxjZdb5aCM6JGAZ2SbLJW9Y8+9Sk0dWvQ4ExqaJSxMvUqOLLFd35EcEaphOof3T/btn10BhyIAAIIIIAAAggggMDiCSxucCadtnRTHnjm83Jv0m72oMv0gzPVqSTx3anFyBlv4vk0pHv0NWV6Dc5oI3ey/LJRLHdkJbONnHFOuwqcHwrO2EbOWHzc9Q+M4knSignOTLK0+8f3h+ZH1taDMdZLCT7851nGBmdaj57oMK2p0cgZL2E+DemAvrZOr8EZLaBlGVVnGznjDJ4Fzo8MzkxI7PWP7XWxfSk2PY5DAAEEEEAAAQQQQGAZBBY2OKOmGH1dJgv7TiM4U586pXeh9g8t9eBMaA2UUOe1BRPMdWJCaZjBhuq0Jr18KriRLJCTL0CcTflJFg6OHjkTOD8YnLkjWyy5siaPrW6++ofObxaccQVzui4InG3Trhb11bczVv++LYc9C1HH9k37cUZwIF/jJFlRuFxTJboveYMzrvrVpw2F1pgJlcdWz9YBp3TB48n6LipvvXxZvZJGy9ecyesZPXImcH7j4Ew+iiZiJJXNsX0QK9QqfI4AAggggAACCCCAwOIKLFRwRi0IXP4xdkryB2ey3Zi081VCZRrFbk2VNW0sa86IGOn0vFtTdaclqU1Lqu8GNDnG8lltNydVYeO4hrs1ecuXL9qbtU8yHejZNflJsrnW+/IdpYLBDd/5EcGZWt1UMUKGXuTuCwAAGD9JREFU2uc+39DImYb+HRYEzkbI1Hcq0qasFF+SyugZf3DGvtOTtmtTdVqNCio8ticHTq9GB2dqI3vSMtqCTLbgk6V8tZ2UfMdYPrMGlozjGu7WVGx2lVXN2PGqCGilHybtd+lhee60yIWrx+Wu5F+CwTPf+cHgjKTBI618bQJradnZrWlxbxeoGQIIIIAAAggggMCQAgsVnNEXBB6SrX3ai/lW2Tbtqr0RZ7YXsC7sat15yRxt0T5PzgwJ2BYEDp0zn58Hg0jzWS1KjQACCCCAAAIIIIDA4AIEZwYnNjNYxIdigjNT70ZmhuXIFXO0SXJgOqriWrJ98lU5roZhqD+OrbJHr8dCFmBJgjOt1gtayAanUggggAACCCCAAAIINBYgONOYrIcT1IPx+mTKQg8pjpwEwZmRGyCYfX1aU33qUzCRVgcU68Q4To6eGtQq8ymcFFO/bNvqdju1TaEK3ixi6vegivYldUwvapMA4NhFJ38EEEAAAQQQQAABBOZIYEGCM3MkTlERQAABBBBAAAEEEEAAAQQQQACBigDBGboDAggggAACCCCAAAIIIIAAAgggMKIAwZkR8ckaAQQQQAABBBBAAAEEEEAAAQQQIDhDH0AAAQQQQAABBBBAAAEEEEAAAQRGFCA4MyI+WSOAAAIIIIAAAggggAACCCCAAAIEZ+gDCCCAAAIIIIAAAggggAACCCCAwIgCBGdGxCdrBBBAAAEEEEAAAQQQQAABBBBAgOAMfQABBBBAAAEEEEAAAQQQQAABBBAYUYDgzIj4ZI0AAggggAACCCCAAAIIIIAAAggQnKEPIIAAAggggAACCCCAAAIIIIAAAiMKEJwZEZ+sEUAAAQQQQAABBBBAAAEEEEAAAYIz9AEEEEAAAQQQQAABBBBAAAEEEEBgRAEtODNiOcgaAQQQQAABBBBAAAEEEEAAAQQQWEoBgjNL2exUGgEEEEAAAQQQQAABBBBAAAEEZkWA4MystATlQAABBBBAAAEEEEAAAQQQQACBpRQgOLOUzU6lEUAAAQQQQAABBBBAAAEEEEBgVgQIzsxKS1AOBBBAAAEEEEAAAQQQQAABBBBYSgGCM0vZ7FQaAQQQQAABBBBAAAEEEEAAAQRmRYDgzKy0BOVAAAEEEEAAAQQQQAABBBBAAIGlFCA4s5TNTqURQAABBBBAAAEEEEAAAQQQQGBWBAjOzEpLUA4EEEAAAQQQQAABBBBAAAEEEFhKAYIzS9nsVBoBBBBAAAEEEEAAAQQQQAABBGZFgODMrLQE5UAAAQQQQAABBBBAAAEEEEAAgaUUWIDgzKvyzOGDcuPkTTlzcCnbkEojgAACCCCAAAIIIIAAAggggMAcCxCciWy83VP75OzKrmwfuzPyjOU6TPkcvZjXef+G7G4fk3ipXTm176gUp4vsl43dbSmotbSTLPZvmO2QBeg2r+f5HzkvN7VIXejz/LxXn5HDBzfluqv8js9ffeawHCwzz9KqljFcfnWGXsbo84symd2tUodm+R+R8zfPiBnndLZvRP4i/vZdrm8KtUUAAQQQQAABBBBAAAEE6gIEZyJ7BcEZN1T64L5XBGTyIMOqGSBxnZ8dv7M2CbikwY6dNUeAJ3vQTyII+Ugp8/ymfy/KlY/AWj0iF/dWLHm7P1flPSFbkYE7s/wqLpMFhVbLOvk6peV84/C0PcTlbzl/95TsO7onGxursrmpaPXgTNP21fNv2r6RX0gOQwABBBBAAAEEEEAAAQQWSGCBgjO7snK2GD2hj7xQ7eUf2WGMrEiOP5I/KNtGRaTtXxud4esV7vTLs9IH5MrYEW10iHm+PrqhCA5sJSGCYgSHObokPLIlz0PajHo5KyuVkS5ZsGFH1qr/5uRxBStuyEnLCI6iLctRTGlexrHK8mweYAl9nperDAidvCEHi3MrZfZ93iw4k/XF6iispoE///HK02gPS/Bmkr9q96dkZTsJyKR90AzOWNLztq95fPP2XaDrK1VBAAEEEEAAAQQQQAABBKIEFiY4o2aVFAGV5OlXe8g0RxKYf08fvG+cNKbC6H5NH6CrZwfTL0YuWIMZ4ZEHZQCpmMpiPDyH6p+VtWVwxnygr0xzKdsj0BWz8ks+lSl7mN+rTV0qoyh6MMYWUKgGZEKfp1WvBJNuVgI7RbkDnzcKztSCRXkwIx21Us4L06Z1aXy2YJMZRPL1Zd/5NquG7Wvr643aN+qyxUEIIIAAAggggAACCCCAwGIJLExwRl8QuPr23vXmfzLaInt4XLWutVE0d+fgjCd9b9rWh2m9TvVpQM3q36lLF6NUtkROqPVa0vVi0r80W6S5MnLIFtSpjvzRRwXZpzltXi9GF4U+N0ayVEfd5DBa+1g+r42usqxZEyr/xepILEuQxH1+tfXco2aizncFZ9RIoqj29YzaCbRvpz7IyQgggAACCCCAAAIIIIDAnAssfnBG8kVeaw2lT33SHrAtU5a6BGdU1u70A7tNWYIBxSiXIiDlHZnjWrDVWHS3dT8uH7qrns120MoCB3owRQtWGIWrrami1TEpx/k12Tlamerk+9z0bfp3C5y+Rkv9AL38toCGf2qSa00Z/1o9k3I416RxjpxRI3rC7evKv2n7tu6LnIgAAggggAACCCCAAAIIzKnA4gdn7gyvwaG3nX1B267BmUkeZvr1aUtaeWJHzjinsjStf8OebFvMtsmaM7ZjQ+dbA1aVcqvPLx9yT1OrfG7uZFStvRrBc+hyZRcqg8Y5bcu6dotRvnJdG9sCv4E2s9Y/vFBwWQKXn3MKmLFYsbV9HPm3ad+GXZDDEUAAAQQQQAABBBBAAIF5F1jI4EzcGivupnOum+HcQahZNzDT90+rqgdvzJEZoTVt/Lv3FGVvueZMcrpZHnt+xXbK5lbNljVmvMGNwG5QMYGR2qK3rsCJpV1DgaFi7R7nblX18lvb09nX7PWPHTVTri1kK5/DLqZ93fk3bd9m3yWORgABBBBAAAEEEEAAAQQWQWBhgjNqQeDyT21aUn23pMluS5bPLGuGlA+1RT7RuzXFpW+uW2JbV6Xcy8koXyg4Uyu7gnIZNd6tSSVm1NFq4wrOqNPNqWf1KTTV9m26E1V4p6ouwZl6++rlC31u8dPaN+J871bc4fPto4eqQbRA+4a2Ave27yJcRqkDAggggAACCCCAAAIIINBNYAGCM90AOBsBBBBAAAEEEEAAAQQQQAABBBAYU4DgzJj65I0AAggggAACCCCAAAIIIIAAAksvQHBm6bsAAAgggAACCCCAAAIIIIAAAgggMKYAwZkx9ckbAQQQQAABBBBAAAEEEEAAAQSWXoDgzNJ3AQAQQAABBBBAAAEEEEAAAQQQQGBMAYIzY+qTNwIIIIAAAggggAACCCCAAAIILL0AwZml7wIAIIAAAggggAACCCCAAAIIIIDAmAILEJx5VZ45fFBunLwpZw6OSUnesy+wK6f2HZWLSUGPnDf7S9aPNmVDdrePyZ29V2bo9EMFHjr/eU8/5Df25/iWLbB7SvadXRnoe2q2c+zvy9DtM+/9b3F9Xn3msBzcvJ410JHzcnPKNyJTy//VZ+TwwU3Jayr7N3Zl+1jxSznv7du1/F3PH/v77c5/av1rIIK48ndtv67nD1R5laz6vTya3vXK+ZtnhMekAa1JGoGeBAjORELuntonZ1eqNyORJy7IYYtQ/1Ad1OdHZaiba/+Pd6hs3bvR8DcPw/qpe4zh2md4/+4tOGT9s3u44Xy7176SwgDBGXf7xwZnhvbLv7/XXTfYoc+7t0C3/jH89ad7DbulkD4E3jg59eBMUeph889ebCRPd86XYN36h89+8lIlO2q/bOxuSxkX6tZs5dndyk//7qkZBkvG//3ofn/Wrf+4q52mq2Ir+R89KJr9o3bMfvsLxqHKN1iDkTACSyxAcCay8efh4S2yKq0Om//6qx/fEyJb7pu6MX+85t936IfTYdOfB/+h++fQ6be68NhOWrbgTPrmc082NlZlc1M9HxtvP0Of9wQ/N/2jp/o2TWbY4Ei4NIPmn46auSEnPW/eh+kf2UPzztrkxVhaz5213kfODVP+cLvNyxGD9q8pIHQpf8z9wXT6Tz1Imua7VwRk8iDTquUl4wC/m1NoNrJAYCkFFig4sysrZ5NpKemY2/qbFX9kuXjrOOkDxbQXbUhktYtED18u3ryeFzmaTakJls8YfqjKcEK2kv+dKIdPm9FzPbpeebuqLsiXV2RjbzO1OXK+KIdu5PKJrb/PN1x+t/+EvOubqXBwxnsFKIeGZkdV/UP18w2rnYZveFiv6V99Ox/Xf8NXz67t58/B3f/85Y/xD7WvSAe/9KFnR9aqb4Jt/xYGHuaINteP6vUrnwqRvOoup0BkbdVsiLX59jD5AmoPZ8O1f9F//L8vYfy2/V+d95SsbCcBmfQaZAZnQp+HS9bpiIj+4b/+9HF9Cf9+tP99jC+f7+Gv7f1Hk7Zpn7/x5t02/SEiOOMva9v+bxmx07ksDVTp3yVW+/4V/n5G9Z1iPl1y8GRaevfvZx/3Z+Ee1bb/11PWA0Xq+3FWVmLuHwjOhJuJIxCYEYGFCc5kgYd8yK1xE2tGtM2/x0TUYyLn9jad/DBpAZ/Kmx+V/1Mr2+VwYT0Snjz6FXPaiwcS4+HNe34eVFB5H7qsHopUUGZL5MRknZ6Qj6qXr/6h82PKHx4O3vXHrUNwpngz7RhKHapf0S9CNzeuaXNdff35h95MFv13EsyL+b7Uvwtd2899xfT7xJXf17/97RvrN7k+6W9+HeePOD1Ck464foSuX8kFbBKAEkswKvBjWHsjadxkxrW/yz/L3N3+jut34/bpof9bgzMVvNDnQ9x0RPSPmOvP5vX215fQ9ajb72P49zt0fY+6fjfuT5YrrGNaVUz+rvuPJDI4WU9Hy7JZcLUMYLdY0y27/ko+lSkL1uxp690M0bHzNOnfweBMTP8K39+529D//e7+/Qx9f0P3v3G9r4frv8rIDEya1/zKulC1dRXVZ+ng8SHWVIxT4CgEEIgTWJjgjL4gcDWa7IosT4boZj/+q97FsroGZ9zlszSU8fChP8ylPxX1aHk1mer5lf9Ob7TSm8B9laHCNx2Rd30Is7v+kb7aMGT9nBj/uO7sO0rleVkOtVgQLdT2se3TLjjT3dd782F9C1nNs3gzVVlrYKbewIR84sofDM64+m8abDCH+wf8zO+v5mkpb/fO3z6F4PXDsnS2pX9k35HV5J38RdmrTFEIF8zSvlr6Ldrfcv0MBWe06/dY/T8UfAl9HsZufkSD/mG//sV9P30Fa/z70ej3USwbDth/f+31C/XP4uWL//4jpmHa5l9L29a/pzlaxVbZysjV+mL+MTotj6F/B4Izw/dv//fb9nvZ5Ps56Rft7s9a9quGp1VH3mmj5ov+mb5vVYt111++VhqwPkq3YTk4HAEEpiOw+MGZ9OFpssPAhFWf1uMfeu0fOeJvqogfD2MXhDS9yrD90JvBLJpu1LE4P3Rz8c/+KMrH+fBiyzurQLloX7D8ydEh//Zfh+LNStM3fWVII7gbWEz9VGqtfvx78nXmb33QrPbZ7g9P7dsu4sygT1z5g8EZ15vtNn614EDlZlJdr2bp7Vbo+qFW5Qxcv7JWbPnm0PZQWDVv0/4EZyK+WJGHxPSPPKmhgjPltc21Y1KX38djHYMzwf6Zfzt62PHJ6huTf8z3d8TgjD4NMl8cOHpaeWQ/dh1G/y5lWvevHu7v3PeHEffX3uvPpOFb3Z917F5tTtdGKpVBy+rzjO8FT/79cSwa3KY8nIMAAv0LLH5w5s7AKJOaaf4QYSyoFRo94W4ay4VSu9GpT2tIt76rbBUbM6yzumCedn7w5sIycsZSmUYjZ4zzY4MX2kOcbUGzTv2/aT8oMrO0T8v6tfvxD5c71td9c9Vw5MdYIwes7R/yGTg402bkkeWc4vul1pVS60tNtqjt1Om7nxy8fmQPr87rj3FjfD7ZD63RjmgWK32kWov29/jX3eP6T3foiBRCI2NCn0dk0fiQYP+YjKwaMjhTecRK++Nm+fsR+H0Nlt8SnHEEKqJHrniR7fcfMe3SLv/w/Uea91jBmbHX5Ar2D/p3bc2Tgfq3/f4wdH8dF3zJurh7t7X29/8x39yGx1heTqxWd1FzrVk31ne4YfU4HAEERBYyOBOaAxtqeNtFuj51JZSK/nBfHRavl89c8K4e2fY/fAfOj7i5qK3pYKmar/6h82ODB6WY9Uey5Zv3si7qfP9uTa4WDQ2bj62f77hp+PoejqoP1/qaR309nHZtP/f3zd//4srv828aHA35Wcub31DJ/lU5qRZ/jb28lMcV2822HSHmyDB4/VDB3eoWu5Y3c1rQwLLAZ8TNfNk/izeFlTd/Tdvfdry7/eP6T7i5euj/oeCL9/Ox+se0H17Nh6yuv4/14Iyrv7muE6HfR7PvxP6exJ7nzz98/9FPcKZt/8/Kp60xY+3n9O8z6Y+Gcf0NXr/np3/b7w/r1+em30//fWceEuq8Q1jb/l/7lhvB53wx73K3Js+uljP1Ui38i8kRCCyzwMIEZ4oRzWlj1oa8FlNbKk1dHmP5zDrkzzguelitL++8PJX51Ol0oPNrsnN2snBX8GbNd37wx1ndPEeU0TxGq7///JiHW639fP4tFhTMf15bB2fU+dqw2uTv5m5N7gXvLDYxfXRI31r+xY1t3h81/xl6OHVeqcPf7/CaIe7vd/D7V9wQF+Wz+PmvT2kPq910Nf1hyob/13eqa5qOdnzM9SN0/Tl6sbK7hnp+ULsOGf/mK2R12oWyPXlDDlZGFvqvXzHXtop/sSOI8fsQ7j8h5fY359X1Bia5TIJwoc+Lc8bpH9nDn9b/tetP1+tLxO93qH/mfcm+Jpul/KFrc+36Gr4+hX//XP0r5vcl8B0I3H+kOXd+696+/9enTdqvcfRv1VDG/WPw+j2H/bvR72vo+xH6vPjetb3/N85vfP9aL5+5U2vt98/1bEJwJvQjzecIzIzAAgRnZsbSURDLzeesF3khy6faod3ImYXkoFJTEoj9/sce5y52aITXlCo8Y9l0d52xCrUuDv2jDR39p43aGOfQv9uoz3v/nvfyt2mzlucQnGkJx2kITF+A4Mzg5vx4DE4cmcFMzRuOLDOHzbtA3Pe//bTJxKccWdLzlKZ5p0/LH+e/EFV1VYL+0aF56T8d8KZzKv27g/O89+95L3+Hpmt4angEcMMEORwBBAYTIDgzGG2RMD8egxPHZlCZHjHV7Thjy8dxCyjg//5PpsstY2DFmE5ntn701FFft+H6O79fqmn0j5DOmP1nFuof8uHz9gKz0L7z3r/HLH/7lp/qmdYdnaZaAjJDAIGGAgRnGoJxOAIIIIAAAggggAACCCCAAAIIINCnAMGZPjVJCwEEEEAAAQQQQAABBBBAAAEEEGgoQHCmIRiHI4AAAggggAACCCCAAAIIIIAAAn0KEJzpU5O0EEAAAQQQQAABBBBAAAEEEEAAgYYCBGcagnE4AggggAACCCCAAAIIIIAAAggg0KcAwZk+NUkLAQQQQAABBBBAAAEEEEAAAQQQaChAcKYhGIcjgAACCCCAAAIIIIAAAggggAACfQr8gx/84Af/r88ESQsBBBBAAAEEEEAAAQQQQAABBBBAIF6AkTPxVhyJAAIIIIAAAggggAACCCCAAAII9C5AcKZ3UhJEAAEEEEAAAQQQQAABBBBAAAEE4gUIzsRbcSQCCCCAAAIIIIAAAggggAACCCDQuwDBmd5JSRABBBBAAAEEEEAAAQQQQAABBBCIFyA4E2/FkQgggAACCCCAAAIIIIAAAggggEDvAgRneiclQQQQQAABBBBAAAEEEEAAAQQQQCBegOBMvBVHIoAAAggggAACHQR+Jt/b/o7I+w/Lr/6jJsn8TL7xsX8iGz/6l/K1nd+SX72lybnZsW9+79/I2ke+Lu/a/K/yld9olHnzzDgDAQQQQAABBBoLEJxpTMYJCCCAAAIILJnA//r3ctfL23LvOy/Kztub1v3/ys3/dELWn/gv8qM3/15+4RfvkrUzvy9fenD8AME3PrZP/rX8W7n5ld9oWqmWx39LHr3nhPz0U9+WP/hXt0Wn8b//6JT809/6mZz61lekS1zlZ9/4mHzw371Tntx5Qv7xP3Rl/6b8z//+J/L85YvyB//5T+T//PPflyuPvVs7OHW7qp//zqM78m3jOHXEz/7bafn4p/+jfO9/vCl//wu/KHetfUH+wxfX5G2/kIaMgnlFI3EgAggggAACcy7w/wE1zwn1D51mowAAAABJRU5ErkJggg==)"
      ],
      "metadata": {
        "id": "oqsnyF2juN5C"
      }
    },
    {
      "cell_type": "code",
      "source": [
        "rando_1 = RandomizedSearchCV(DecisionTreeClassifier(), param_dict , \n",
        "\n",
        "                           n_iter=200)\n",
        "\n",
        "rando_1.fit(X_train,y_train)"
      ],
      "metadata": {
        "colab": {
          "base_uri": "https://localhost:8080/"
        },
        "id": "7CXhr0H_uSSO",
        "outputId": "088db6f0-379b-43a5-8f41-974ad96acc0d"
      },
      "execution_count": null,
      "outputs": [
        {
          "output_type": "execute_result",
          "data": {
            "text/plain": [
              "RandomizedSearchCV(estimator=DecisionTreeClassifier(), n_iter=200,\n",
              "                   param_distributions={'criterion': ['gini', 'entropy',\n",
              "                                                      'log_loss'],\n",
              "                                        'max_depth': array([ 1,  2,  3,  4,  5,  6,  7,  8,  9, 10, 11, 12, 13, 14, 15, 16, 17,\n",
              "       18, 19, 20, 21, 22, 23, 24, 25, 26, 27, 28, 29, 30, 31, 32, 33, 34,\n",
              "       35, 36, 37, 38, 39, 40, 41, 42, 43, 44, 45, 46, 47, 48, 49]),\n",
              "                                        'min_samples_leaf': array([ 1,  2,  3,  4,  5,  6,  7,  8,  9, 10, 11, 12, 13, 14]),\n",
              "                                        'min_samples_split': (2, 5, 7, 10, 15,\n",
              "                                                              30)})"
            ]
          },
          "metadata": {},
          "execution_count": 93
        }
      ]
    }
  ]
}
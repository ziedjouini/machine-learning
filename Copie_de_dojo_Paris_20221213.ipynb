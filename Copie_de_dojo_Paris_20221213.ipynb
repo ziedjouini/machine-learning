{
  "nbformat": 4,
  "nbformat_minor": 0,
  "metadata": {
    "colab": {
      "provenance": [],
      "include_colab_link": true
    },
    "kernelspec": {
      "name": "python3",
      "display_name": "Python 3"
    },
    "language_info": {
      "name": "python"
    }
  },
  "cells": [
    {
      "cell_type": "markdown",
      "metadata": {
        "id": "view-in-github",
        "colab_type": "text"
      },
      "source": [
        "<a href=\"https://colab.research.google.com/github/ziedjouini/machine-learning/blob/main/Copie_de_dojo_Paris_20221213.ipynb\" target=\"_parent\"><img src=\"https://colab.research.google.com/assets/colab-badge.svg\" alt=\"Open In Colab\"/></a>"
      ]
    },
    {
      "cell_type": "markdown",
      "source": [
        "\n",
        "\n",
        "En utilisant NumPy, affichez les informations suivantes :\n",
        "- En utilisant l'attribut `shape` et du slicing, affichez **uniquement** le nombre de colonnes (et donc le nombre de courses effectuées)\n",
        "- un array avec le classement obtenu par chaque cheval à la 3e course\n",
        "- le nombre de fois où le cheval 1 a fait partie du top 3\n",
        "- le classement le plus mauvais du cheval 2\n",
        "- le classement moyen par cheval (vous pouvez utiliser l'attribut `.mean(axis = ???)` en testant le paramètre `axis`)\n",
        "- le nombre de fois où chaque cheval a fait partie du top 2 (vous pouvez utiliser `np.sum(axis = ???)` en testant le paramètre `axis`)\n",
        "- le pourcentage de fois où chaque cheval a fait partie du top 2\n",
        "- un array de booléens indiquant si chaque cheval a fait partie du top 2 au moins 40% des courses\n",
        "- en utilisant `np.where`, les index des chevaux arrivés au moins 40% des courses dans les 2 meilleurs"
      ],
      "metadata": {
        "id": "XB3ibvVMun7W"
      }
    },
    {
      "cell_type": "code",
      "execution_count": 1,
      "metadata": {
        "id": "tRRwFwUu1Sk3"
      },
      "outputs": [],
      "source": [
        "import numpy as np\n",
        "\n",
        "courses = {\n",
        "    \"cheval1\": [2, 2, 3, 2, 5, 4, 3, 5, 4, 1, 1, 1, 4, 4, 3, 5, 5, 3, 5, 5],\n",
        "    \"cheval2\": [1, 1, 2, 1, 3, 1, 1, 2, 1, 4, 4, 2, 3, 1, 2, 1, 1, 4, 4, 1],\n",
        "    \"cheval3\": [4, 4, 1, 3, 4, 2, 2, 3, 3, 3, 5, 4, 1, 5, 4, 3, 2, 1, 1, 4],\n",
        "    \"cheval4\": [5, 3, 4, 4, 2, 3, 5, 1, 2, 5, 3, 5, 5, 3, 5, 2, 3, 5, 3, 3],\n",
        "    \"cheval5\": [3, 5, 5, 5, 1, 5, 4, 4, 5, 2, 2, 3, 2, 2, 1, 4, 4, 2, 2, 2],\n",
        "}\n",
        "\n",
        "courses_arr = np.array(list(courses.values()))"
      ]
    },
    {
      "cell_type": "code",
      "source": [
        "courses_arr"
      ],
      "metadata": {
        "colab": {
          "base_uri": "https://localhost:8080/"
        },
        "id": "6i4RgdinuuiA",
        "outputId": "3dee7788-9633-4de5-8d8a-f8f41cff0ad2"
      },
      "execution_count": 2,
      "outputs": [
        {
          "output_type": "execute_result",
          "data": {
            "text/plain": [
              "array([[2, 2, 3, 2, 5, 4, 3, 5, 4, 1, 1, 1, 4, 4, 3, 5, 5, 3, 5, 5],\n",
              "       [1, 1, 2, 1, 3, 1, 1, 2, 1, 4, 4, 2, 3, 1, 2, 1, 1, 4, 4, 1],\n",
              "       [4, 4, 1, 3, 4, 2, 2, 3, 3, 3, 5, 4, 1, 5, 4, 3, 2, 1, 1, 4],\n",
              "       [5, 3, 4, 4, 2, 3, 5, 1, 2, 5, 3, 5, 5, 3, 5, 2, 3, 5, 3, 3],\n",
              "       [3, 5, 5, 5, 1, 5, 4, 4, 5, 2, 2, 3, 2, 2, 1, 4, 4, 2, 2, 2]])"
            ]
          },
          "metadata": {},
          "execution_count": 2
        }
      ]
    },
    {
      "cell_type": "code",
      "source": [
        "courses_arr.shape"
      ],
      "metadata": {
        "colab": {
          "base_uri": "https://localhost:8080/"
        },
        "id": "Qi4NjZh6A8w7",
        "outputId": "62baab68-5f4a-44ff-a6e1-c04d7fa60b1b"
      },
      "execution_count": 4,
      "outputs": [
        {
          "output_type": "execute_result",
          "data": {
            "text/plain": [
              "(5, 20)"
            ]
          },
          "metadata": {},
          "execution_count": 4
        }
      ]
    },
    {
      "cell_type": "code",
      "source": [
        "courses_arr.shape[1]"
      ],
      "metadata": {
        "colab": {
          "base_uri": "https://localhost:8080/"
        },
        "id": "QMVgMFD9BK5r",
        "outputId": "96d80d15-81bd-4781-c4b2-4f87287d0923"
      },
      "execution_count": 5,
      "outputs": [
        {
          "output_type": "execute_result",
          "data": {
            "text/plain": [
              "20"
            ]
          },
          "metadata": {},
          "execution_count": 5
        }
      ]
    },
    {
      "cell_type": "code",
      "source": [
        "courses_arr[:,2]"
      ],
      "metadata": {
        "colab": {
          "base_uri": "https://localhost:8080/"
        },
        "id": "spZW1KldBk_U",
        "outputId": "73266ddb-5f85-4698-c3c3-0f0fc90609ab"
      },
      "execution_count": 7,
      "outputs": [
        {
          "output_type": "execute_result",
          "data": {
            "text/plain": [
              "array([3, 2, 1, 4, 5])"
            ]
          },
          "metadata": {},
          "execution_count": 7
        }
      ]
    },
    {
      "cell_type": "code",
      "source": [
        "sum(courses_arr[0,:]<=3)"
      ],
      "metadata": {
        "colab": {
          "base_uri": "https://localhost:8080/"
        },
        "id": "FpORSegDCWFR",
        "outputId": "abbd77fd-b31a-42f9-d81c-a38db1afe461"
      },
      "execution_count": 11,
      "outputs": [
        {
          "output_type": "execute_result",
          "data": {
            "text/plain": [
              "10"
            ]
          },
          "metadata": {},
          "execution_count": 11
        }
      ]
    },
    {
      "cell_type": "code",
      "source": [
        "courses_arr[1,:].max()"
      ],
      "metadata": {
        "colab": {
          "base_uri": "https://localhost:8080/"
        },
        "id": "v9tMNPMJCmo5",
        "outputId": "d46ed9e8-f9a5-4c37-a56d-4fcd2de01aea"
      },
      "execution_count": 14,
      "outputs": [
        {
          "output_type": "execute_result",
          "data": {
            "text/plain": [
              "4"
            ]
          },
          "metadata": {},
          "execution_count": 14
        }
      ]
    },
    {
      "cell_type": "code",
      "source": [
        "courses_arr[:,:].mean(axis=1)"
      ],
      "metadata": {
        "colab": {
          "base_uri": "https://localhost:8080/"
        },
        "id": "4FTAiwbfDbGV",
        "outputId": "1e85bb52-03a0-4e79-f313-c7ec3b181882"
      },
      "execution_count": 17,
      "outputs": [
        {
          "output_type": "execute_result",
          "data": {
            "text/plain": [
              "array([3.35, 2.  , 2.95, 3.55, 3.15])"
            ]
          },
          "metadata": {},
          "execution_count": 17
        }
      ]
    },
    {
      "cell_type": "code",
      "source": [
        "(courses_arr[:,:]<=2).sum(axis=1)"
      ],
      "metadata": {
        "colab": {
          "base_uri": "https://localhost:8080/"
        },
        "id": "As94wQYeECG1",
        "outputId": "59ebe58d-dcfe-4fce-d374-3ea1203cfe80"
      },
      "execution_count": 20,
      "outputs": [
        {
          "output_type": "execute_result",
          "data": {
            "text/plain": [
              "array([ 6, 14,  7,  4,  9])"
            ]
          },
          "metadata": {},
          "execution_count": 20
        }
      ]
    }
  ]
}